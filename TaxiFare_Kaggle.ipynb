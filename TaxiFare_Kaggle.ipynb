{
 "cells": [
  {
   "cell_type": "markdown",
   "id": "39ce9e86",
   "metadata": {},
   "source": [
    "**Strategy:-**\n",
    "\n",
    "1.Download dataset directly from **kaggle**... To do that we need to install **opendatasets** library..\n",
    "\n",
    "2.As the datasets is very large, it's about **5.7 GB** so, we will take only 25% of train data (to work with whole data we need to use **gpu** with dask etc)..."
   ]
  },
  {
   "cell_type": "code",
   "execution_count": 5,
   "id": "bf671fc3",
   "metadata": {},
   "outputs": [],
   "source": [
    "#!pip install opendatasets"
   ]
  },
  {
   "cell_type": "markdown",
   "id": "132ea9f0",
   "metadata": {},
   "source": [
    "#### 1. First accept the competition.. \n",
    "\n",
    "#### 2. Go to kaggle profile then generate & download API key first...\n",
    "\n",
    "#### 3. After that download Taxi-Fare datasets from kaggle directly from URL written below.."
   ]
  },
  {
   "cell_type": "code",
   "execution_count": 8,
   "id": "130f7f83",
   "metadata": {},
   "outputs": [],
   "source": [
    "url = 'https://www.kaggle.com/c/new-york-city-taxi-fare-prediction/overview'"
   ]
  },
  {
   "cell_type": "code",
   "execution_count": 3,
   "id": "159a1f24",
   "metadata": {},
   "outputs": [],
   "source": [
    "import opendatasets as od"
   ]
  },
  {
   "cell_type": "code",
   "execution_count": 9,
   "id": "ae65d358",
   "metadata": {},
   "outputs": [
    {
     "name": "stdout",
     "output_type": "stream",
     "text": [
      "Downloading new-york-city-taxi-fare-prediction.zip to .\\new-york-city-taxi-fare-prediction\n"
     ]
    },
    {
     "name": "stderr",
     "output_type": "stream",
     "text": [
      "100%|█████████████████████████████████████████████████████████████████████████████| 1.56G/1.56G [04:49<00:00, 5.79MB/s]\n"
     ]
    },
    {
     "name": "stdout",
     "output_type": "stream",
     "text": [
      "\n",
      "Extracting archive .\\new-york-city-taxi-fare-prediction/new-york-city-taxi-fare-prediction.zip to .\\new-york-city-taxi-fare-prediction\n"
     ]
    }
   ],
   "source": [
    "od.download(url)"
   ]
  },
  {
   "cell_type": "markdown",
   "id": "3cdcba7c",
   "metadata": {},
   "source": [
    "##### Starting  from here"
   ]
  },
  {
   "cell_type": "code",
   "execution_count": 1,
   "id": "c1b5aa82",
   "metadata": {},
   "outputs": [],
   "source": [
    "data_dir = './new-york-city-taxi-fare-prediction'"
   ]
  },
  {
   "cell_type": "code",
   "execution_count": 2,
   "id": "31a5f6da",
   "metadata": {},
   "outputs": [],
   "source": [
    "import pandas as pd\n",
    "import numpy as np\n",
    "import random\n",
    "import datetime"
   ]
  },
  {
   "cell_type": "code",
   "execution_count": 3,
   "id": "a6a09179",
   "metadata": {},
   "outputs": [],
   "source": [
    "train_path = data_dir+'/train.csv'\n",
    "test_path = data_dir+'/test.csv'"
   ]
  },
  {
   "cell_type": "code",
   "execution_count": 4,
   "id": "b8dfed25",
   "metadata": {},
   "outputs": [],
   "source": [
    "def skip_row(row_idx):\n",
    "    if row_idx == 0:\n",
    "        return False\n",
    "    return random.random() > 0.25"
   ]
  },
  {
   "cell_type": "code",
   "execution_count": 6,
   "id": "a9c55e50",
   "metadata": {},
   "outputs": [],
   "source": [
    "df = pd.read_csv(train_path, skiprows=skip_row)"
   ]
  },
  {
   "cell_type": "code",
   "execution_count": 7,
   "id": "1a33b6ad",
   "metadata": {},
   "outputs": [
    {
     "name": "stdout",
     "output_type": "stream",
     "text": [
      "Numbers of random rows selected from train dataset: 13855566\n"
     ]
    }
   ],
   "source": [
    "print('Numbers of random rows selected from train dataset:', len(df))"
   ]
  },
  {
   "cell_type": "code",
   "execution_count": 7,
   "id": "ac53515a",
   "metadata": {},
   "outputs": [
    {
     "data": {
      "text/html": [
       "<div>\n",
       "<style scoped>\n",
       "    .dataframe tbody tr th:only-of-type {\n",
       "        vertical-align: middle;\n",
       "    }\n",
       "\n",
       "    .dataframe tbody tr th {\n",
       "        vertical-align: top;\n",
       "    }\n",
       "\n",
       "    .dataframe thead th {\n",
       "        text-align: right;\n",
       "    }\n",
       "</style>\n",
       "<table border=\"1\" class=\"dataframe\">\n",
       "  <thead>\n",
       "    <tr style=\"text-align: right;\">\n",
       "      <th></th>\n",
       "      <th>key</th>\n",
       "      <th>fare_amount</th>\n",
       "      <th>pickup_datetime</th>\n",
       "      <th>pickup_longitude</th>\n",
       "      <th>pickup_latitude</th>\n",
       "      <th>dropoff_longitude</th>\n",
       "      <th>dropoff_latitude</th>\n",
       "      <th>passenger_count</th>\n",
       "    </tr>\n",
       "  </thead>\n",
       "  <tbody>\n",
       "    <tr>\n",
       "      <th>0</th>\n",
       "      <td>2009-06-15 17:26:21.0000001</td>\n",
       "      <td>4.5</td>\n",
       "      <td>2009-06-15 17:26:21 UTC</td>\n",
       "      <td>-73.844311</td>\n",
       "      <td>40.721319</td>\n",
       "      <td>-73.841610</td>\n",
       "      <td>40.712278</td>\n",
       "      <td>1</td>\n",
       "    </tr>\n",
       "    <tr>\n",
       "      <th>1</th>\n",
       "      <td>2011-08-18 00:35:00.00000049</td>\n",
       "      <td>5.7</td>\n",
       "      <td>2011-08-18 00:35:00 UTC</td>\n",
       "      <td>-73.982738</td>\n",
       "      <td>40.761270</td>\n",
       "      <td>-73.991242</td>\n",
       "      <td>40.750562</td>\n",
       "      <td>2</td>\n",
       "    </tr>\n",
       "    <tr>\n",
       "      <th>2</th>\n",
       "      <td>2012-11-20 20:35:00.0000001</td>\n",
       "      <td>7.5</td>\n",
       "      <td>2012-11-20 20:35:00 UTC</td>\n",
       "      <td>-73.980002</td>\n",
       "      <td>40.751662</td>\n",
       "      <td>-73.973802</td>\n",
       "      <td>40.764842</td>\n",
       "      <td>1</td>\n",
       "    </tr>\n",
       "    <tr>\n",
       "      <th>3</th>\n",
       "      <td>2009-11-06 01:04:03.0000002</td>\n",
       "      <td>4.1</td>\n",
       "      <td>2009-11-06 01:04:03 UTC</td>\n",
       "      <td>-73.991601</td>\n",
       "      <td>40.744712</td>\n",
       "      <td>-73.983081</td>\n",
       "      <td>40.744682</td>\n",
       "      <td>2</td>\n",
       "    </tr>\n",
       "    <tr>\n",
       "      <th>4</th>\n",
       "      <td>2011-04-05 17:11:05.0000001</td>\n",
       "      <td>7.7</td>\n",
       "      <td>2011-04-05 17:11:05 UTC</td>\n",
       "      <td>-74.001821</td>\n",
       "      <td>40.737547</td>\n",
       "      <td>-73.998060</td>\n",
       "      <td>40.722788</td>\n",
       "      <td>2</td>\n",
       "    </tr>\n",
       "  </tbody>\n",
       "</table>\n",
       "</div>"
      ],
      "text/plain": [
       "                            key  fare_amount          pickup_datetime  \\\n",
       "0   2009-06-15 17:26:21.0000001          4.5  2009-06-15 17:26:21 UTC   \n",
       "1  2011-08-18 00:35:00.00000049          5.7  2011-08-18 00:35:00 UTC   \n",
       "2   2012-11-20 20:35:00.0000001          7.5  2012-11-20 20:35:00 UTC   \n",
       "3   2009-11-06 01:04:03.0000002          4.1  2009-11-06 01:04:03 UTC   \n",
       "4   2011-04-05 17:11:05.0000001          7.7  2011-04-05 17:11:05 UTC   \n",
       "\n",
       "   pickup_longitude  pickup_latitude  dropoff_longitude  dropoff_latitude  \\\n",
       "0        -73.844311        40.721319         -73.841610         40.712278   \n",
       "1        -73.982738        40.761270         -73.991242         40.750562   \n",
       "2        -73.980002        40.751662         -73.973802         40.764842   \n",
       "3        -73.991601        40.744712         -73.983081         40.744682   \n",
       "4        -74.001821        40.737547         -73.998060         40.722788   \n",
       "\n",
       "   passenger_count  \n",
       "0                1  \n",
       "1                2  \n",
       "2                1  \n",
       "3                2  \n",
       "4                2  "
      ]
     },
     "execution_count": 7,
     "metadata": {},
     "output_type": "execute_result"
    }
   ],
   "source": [
    "df.head()"
   ]
  },
  {
   "cell_type": "code",
   "execution_count": 8,
   "id": "1f044f62",
   "metadata": {},
   "outputs": [
    {
     "name": "stdout",
     "output_type": "stream",
     "text": [
      "<class 'pandas.core.frame.DataFrame'>\n",
      "RangeIndex: 13850055 entries, 0 to 13850054\n",
      "Data columns (total 8 columns):\n",
      " #   Column             Dtype  \n",
      "---  ------             -----  \n",
      " 0   key                object \n",
      " 1   fare_amount        float64\n",
      " 2   pickup_datetime    object \n",
      " 3   pickup_longitude   float64\n",
      " 4   pickup_latitude    float64\n",
      " 5   dropoff_longitude  float64\n",
      " 6   dropoff_latitude   float64\n",
      " 7   passenger_count    int64  \n",
      "dtypes: float64(5), int64(1), object(2)\n",
      "memory usage: 845.3+ MB\n"
     ]
    }
   ],
   "source": [
    "df.info()"
   ]
  },
  {
   "cell_type": "code",
   "execution_count": 9,
   "id": "0e907963",
   "metadata": {},
   "outputs": [
    {
     "data": {
      "text/plain": [
       "'2009-01-01 00:00:27 UTC'"
      ]
     },
     "execution_count": 9,
     "metadata": {},
     "output_type": "execute_result"
    }
   ],
   "source": [
    "df.pickup_datetime.min()"
   ]
  },
  {
   "cell_type": "code",
   "execution_count": 10,
   "id": "ad2f7697",
   "metadata": {},
   "outputs": [
    {
     "data": {
      "text/plain": [
       "'2015-06-30 23:59:52 UTC'"
      ]
     },
     "execution_count": 10,
     "metadata": {},
     "output_type": "execute_result"
    }
   ],
   "source": [
    "df.pickup_datetime.max()"
   ]
  },
  {
   "cell_type": "code",
   "execution_count": 11,
   "id": "5fae091f",
   "metadata": {},
   "outputs": [
    {
     "data": {
      "text/html": [
       "<div>\n",
       "<style scoped>\n",
       "    .dataframe tbody tr th:only-of-type {\n",
       "        vertical-align: middle;\n",
       "    }\n",
       "\n",
       "    .dataframe tbody tr th {\n",
       "        vertical-align: top;\n",
       "    }\n",
       "\n",
       "    .dataframe thead th {\n",
       "        text-align: right;\n",
       "    }\n",
       "</style>\n",
       "<table border=\"1\" class=\"dataframe\">\n",
       "  <thead>\n",
       "    <tr style=\"text-align: right;\">\n",
       "      <th></th>\n",
       "      <th>fare_amount</th>\n",
       "      <th>pickup_longitude</th>\n",
       "      <th>pickup_latitude</th>\n",
       "      <th>dropoff_longitude</th>\n",
       "      <th>dropoff_latitude</th>\n",
       "      <th>passenger_count</th>\n",
       "    </tr>\n",
       "  </thead>\n",
       "  <tbody>\n",
       "    <tr>\n",
       "      <th>count</th>\n",
       "      <td>1.385006e+07</td>\n",
       "      <td>1.385006e+07</td>\n",
       "      <td>1.385006e+07</td>\n",
       "      <td>1.384995e+07</td>\n",
       "      <td>1.384995e+07</td>\n",
       "      <td>1.385006e+07</td>\n",
       "    </tr>\n",
       "    <tr>\n",
       "      <th>mean</th>\n",
       "      <td>1.135270e+01</td>\n",
       "      <td>-7.251038e+01</td>\n",
       "      <td>3.991890e+01</td>\n",
       "      <td>-7.251472e+01</td>\n",
       "      <td>3.991799e+01</td>\n",
       "      <td>1.685792e+00</td>\n",
       "    </tr>\n",
       "    <tr>\n",
       "      <th>std</th>\n",
       "      <td>3.174259e+01</td>\n",
       "      <td>1.302955e+01</td>\n",
       "      <td>9.631221e+00</td>\n",
       "      <td>1.280125e+01</td>\n",
       "      <td>9.836285e+00</td>\n",
       "      <td>1.333523e+00</td>\n",
       "    </tr>\n",
       "    <tr>\n",
       "      <th>min</th>\n",
       "      <td>-3.000000e+02</td>\n",
       "      <td>-3.442060e+03</td>\n",
       "      <td>-3.478241e+03</td>\n",
       "      <td>-3.426601e+03</td>\n",
       "      <td>-3.488026e+03</td>\n",
       "      <td>0.000000e+00</td>\n",
       "    </tr>\n",
       "    <tr>\n",
       "      <th>25%</th>\n",
       "      <td>6.000000e+00</td>\n",
       "      <td>-7.399207e+01</td>\n",
       "      <td>4.073492e+01</td>\n",
       "      <td>-7.399140e+01</td>\n",
       "      <td>4.073403e+01</td>\n",
       "      <td>1.000000e+00</td>\n",
       "    </tr>\n",
       "    <tr>\n",
       "      <th>50%</th>\n",
       "      <td>8.500000e+00</td>\n",
       "      <td>-7.398181e+01</td>\n",
       "      <td>4.075264e+01</td>\n",
       "      <td>-7.398016e+01</td>\n",
       "      <td>4.075315e+01</td>\n",
       "      <td>1.000000e+00</td>\n",
       "    </tr>\n",
       "    <tr>\n",
       "      <th>75%</th>\n",
       "      <td>1.250000e+01</td>\n",
       "      <td>-7.396708e+01</td>\n",
       "      <td>4.076711e+01</td>\n",
       "      <td>-7.396368e+01</td>\n",
       "      <td>4.076809e+01</td>\n",
       "      <td>2.000000e+00</td>\n",
       "    </tr>\n",
       "    <tr>\n",
       "      <th>max</th>\n",
       "      <td>9.396336e+04</td>\n",
       "      <td>3.456213e+03</td>\n",
       "      <td>3.376632e+03</td>\n",
       "      <td>3.457622e+03</td>\n",
       "      <td>3.407391e+03</td>\n",
       "      <td>2.080000e+02</td>\n",
       "    </tr>\n",
       "  </tbody>\n",
       "</table>\n",
       "</div>"
      ],
      "text/plain": [
       "        fare_amount  pickup_longitude  pickup_latitude  dropoff_longitude  \\\n",
       "count  1.385006e+07      1.385006e+07     1.385006e+07       1.384995e+07   \n",
       "mean   1.135270e+01     -7.251038e+01     3.991890e+01      -7.251472e+01   \n",
       "std    3.174259e+01      1.302955e+01     9.631221e+00       1.280125e+01   \n",
       "min   -3.000000e+02     -3.442060e+03    -3.478241e+03      -3.426601e+03   \n",
       "25%    6.000000e+00     -7.399207e+01     4.073492e+01      -7.399140e+01   \n",
       "50%    8.500000e+00     -7.398181e+01     4.075264e+01      -7.398016e+01   \n",
       "75%    1.250000e+01     -7.396708e+01     4.076711e+01      -7.396368e+01   \n",
       "max    9.396336e+04      3.456213e+03     3.376632e+03       3.457622e+03   \n",
       "\n",
       "       dropoff_latitude  passenger_count  \n",
       "count      1.384995e+07     1.385006e+07  \n",
       "mean       3.991799e+01     1.685792e+00  \n",
       "std        9.836285e+00     1.333523e+00  \n",
       "min       -3.488026e+03     0.000000e+00  \n",
       "25%        4.073403e+01     1.000000e+00  \n",
       "50%        4.075315e+01     1.000000e+00  \n",
       "75%        4.076809e+01     2.000000e+00  \n",
       "max        3.407391e+03     2.080000e+02  "
      ]
     },
     "execution_count": 11,
     "metadata": {},
     "output_type": "execute_result"
    }
   ],
   "source": [
    "df.describe()"
   ]
  },
  {
   "cell_type": "code",
   "execution_count": 45,
   "id": "65cac19a",
   "metadata": {},
   "outputs": [],
   "source": [
    "test_df = pd.read_csv(test_path)"
   ]
  },
  {
   "cell_type": "code",
   "execution_count": 13,
   "id": "8f1c8a2a",
   "metadata": {},
   "outputs": [
    {
     "data": {
      "text/plain": [
       "9914"
      ]
     },
     "execution_count": 13,
     "metadata": {},
     "output_type": "execute_result"
    }
   ],
   "source": [
    "len(test_df)"
   ]
  },
  {
   "cell_type": "code",
   "execution_count": 14,
   "id": "0e24522e",
   "metadata": {},
   "outputs": [
    {
     "name": "stdout",
     "output_type": "stream",
     "text": [
      "<class 'pandas.core.frame.DataFrame'>\n",
      "RangeIndex: 9914 entries, 0 to 9913\n",
      "Data columns (total 7 columns):\n",
      " #   Column             Non-Null Count  Dtype  \n",
      "---  ------             --------------  -----  \n",
      " 0   key                9914 non-null   object \n",
      " 1   pickup_datetime    9914 non-null   object \n",
      " 2   pickup_longitude   9914 non-null   float64\n",
      " 3   pickup_latitude    9914 non-null   float64\n",
      " 4   dropoff_longitude  9914 non-null   float64\n",
      " 5   dropoff_latitude   9914 non-null   float64\n",
      " 6   passenger_count    9914 non-null   int64  \n",
      "dtypes: float64(4), int64(1), object(2)\n",
      "memory usage: 542.3+ KB\n"
     ]
    }
   ],
   "source": [
    "test_df.info()"
   ]
  },
  {
   "cell_type": "code",
   "execution_count": 15,
   "id": "ff35dc1d",
   "metadata": {},
   "outputs": [
    {
     "data": {
      "text/html": [
       "<div>\n",
       "<style scoped>\n",
       "    .dataframe tbody tr th:only-of-type {\n",
       "        vertical-align: middle;\n",
       "    }\n",
       "\n",
       "    .dataframe tbody tr th {\n",
       "        vertical-align: top;\n",
       "    }\n",
       "\n",
       "    .dataframe thead th {\n",
       "        text-align: right;\n",
       "    }\n",
       "</style>\n",
       "<table border=\"1\" class=\"dataframe\">\n",
       "  <thead>\n",
       "    <tr style=\"text-align: right;\">\n",
       "      <th></th>\n",
       "      <th>pickup_longitude</th>\n",
       "      <th>pickup_latitude</th>\n",
       "      <th>dropoff_longitude</th>\n",
       "      <th>dropoff_latitude</th>\n",
       "      <th>passenger_count</th>\n",
       "    </tr>\n",
       "  </thead>\n",
       "  <tbody>\n",
       "    <tr>\n",
       "      <th>count</th>\n",
       "      <td>9914.000000</td>\n",
       "      <td>9914.000000</td>\n",
       "      <td>9914.000000</td>\n",
       "      <td>9914.000000</td>\n",
       "      <td>9914.000000</td>\n",
       "    </tr>\n",
       "    <tr>\n",
       "      <th>mean</th>\n",
       "      <td>-73.974722</td>\n",
       "      <td>40.751041</td>\n",
       "      <td>-73.973657</td>\n",
       "      <td>40.751743</td>\n",
       "      <td>1.671273</td>\n",
       "    </tr>\n",
       "    <tr>\n",
       "      <th>std</th>\n",
       "      <td>0.042774</td>\n",
       "      <td>0.033541</td>\n",
       "      <td>0.039072</td>\n",
       "      <td>0.035435</td>\n",
       "      <td>1.278747</td>\n",
       "    </tr>\n",
       "    <tr>\n",
       "      <th>min</th>\n",
       "      <td>-74.252193</td>\n",
       "      <td>40.573143</td>\n",
       "      <td>-74.263242</td>\n",
       "      <td>40.568973</td>\n",
       "      <td>1.000000</td>\n",
       "    </tr>\n",
       "    <tr>\n",
       "      <th>25%</th>\n",
       "      <td>-73.992501</td>\n",
       "      <td>40.736125</td>\n",
       "      <td>-73.991247</td>\n",
       "      <td>40.735254</td>\n",
       "      <td>1.000000</td>\n",
       "    </tr>\n",
       "    <tr>\n",
       "      <th>50%</th>\n",
       "      <td>-73.982326</td>\n",
       "      <td>40.753051</td>\n",
       "      <td>-73.980015</td>\n",
       "      <td>40.754065</td>\n",
       "      <td>1.000000</td>\n",
       "    </tr>\n",
       "    <tr>\n",
       "      <th>75%</th>\n",
       "      <td>-73.968013</td>\n",
       "      <td>40.767113</td>\n",
       "      <td>-73.964059</td>\n",
       "      <td>40.768757</td>\n",
       "      <td>2.000000</td>\n",
       "    </tr>\n",
       "    <tr>\n",
       "      <th>max</th>\n",
       "      <td>-72.986532</td>\n",
       "      <td>41.709555</td>\n",
       "      <td>-72.990963</td>\n",
       "      <td>41.696683</td>\n",
       "      <td>6.000000</td>\n",
       "    </tr>\n",
       "  </tbody>\n",
       "</table>\n",
       "</div>"
      ],
      "text/plain": [
       "       pickup_longitude  pickup_latitude  dropoff_longitude  dropoff_latitude  \\\n",
       "count       9914.000000      9914.000000        9914.000000       9914.000000   \n",
       "mean         -73.974722        40.751041         -73.973657         40.751743   \n",
       "std            0.042774         0.033541           0.039072          0.035435   \n",
       "min          -74.252193        40.573143         -74.263242         40.568973   \n",
       "25%          -73.992501        40.736125         -73.991247         40.735254   \n",
       "50%          -73.982326        40.753051         -73.980015         40.754065   \n",
       "75%          -73.968013        40.767113         -73.964059         40.768757   \n",
       "max          -72.986532        41.709555         -72.990963         41.696683   \n",
       "\n",
       "       passenger_count  \n",
       "count      9914.000000  \n",
       "mean          1.671273  \n",
       "std           1.278747  \n",
       "min           1.000000  \n",
       "25%           1.000000  \n",
       "50%           1.000000  \n",
       "75%           2.000000  \n",
       "max           6.000000  "
      ]
     },
     "execution_count": 15,
     "metadata": {},
     "output_type": "execute_result"
    }
   ],
   "source": [
    "test_df.describe()"
   ]
  },
  {
   "cell_type": "markdown",
   "id": "d1988362",
   "metadata": {},
   "source": [
    "**dropping the rows containing any null values if any from train dataset**"
   ]
  },
  {
   "cell_type": "code",
   "execution_count": 16,
   "id": "36795e29",
   "metadata": {},
   "outputs": [],
   "source": [
    "df = df.dropna().copy()"
   ]
  },
  {
   "cell_type": "code",
   "execution_count": 17,
   "id": "89562fb9",
   "metadata": {},
   "outputs": [
    {
     "name": "stdout",
     "output_type": "stream",
     "text": [
      "Numbers train dataset after dropping null: 13849950\n"
     ]
    }
   ],
   "source": [
    "print('Numbers train dataset after dropping null:', len(df))"
   ]
  },
  {
   "cell_type": "markdown",
   "id": "2e430925",
   "metadata": {},
   "source": [
    "## removing some outliers\n",
    "\n",
    "**fare_amount-> 1 to 500**\n",
    "\n",
    "**longitude in between-> -75 to -72**\n",
    "\n",
    "**latitude in between-> 40 to 42** \n",
    "\n",
    "**person-> 1 to 6** "
   ]
  },
  {
   "cell_type": "code",
   "execution_count": 8,
   "id": "33a2446e",
   "metadata": {},
   "outputs": [],
   "source": [
    "def remove_outliers(df):\n",
    "    return df[(df['fare_amount'] >= 1.) & (df['fare_amount'] <= 500.) &\n",
    "              (df['pickup_longitude'] >= -75) & (df['pickup_longitude'] <= -72) & \n",
    "              (df['dropoff_longitude'] >= -75) & (df['dropoff_longitude'] <= -72) & \n",
    "              (df['pickup_latitude'] >= 40) & (df['pickup_latitude'] <= 42) & \n",
    "              (df['dropoff_latitude'] >=40) & (df['dropoff_latitude'] <= 42) & \n",
    "              (df['passenger_count'] >= 1) & (df['passenger_count'] <= 6)]"
   ]
  },
  {
   "cell_type": "code",
   "execution_count": 9,
   "id": "f58fb404",
   "metadata": {},
   "outputs": [],
   "source": [
    "train = remove_outliers(df)"
   ]
  },
  {
   "cell_type": "code",
   "execution_count": 10,
   "id": "62034805",
   "metadata": {},
   "outputs": [
    {
     "name": "stdout",
     "output_type": "stream",
     "text": [
      "outliers removed: 340934\n"
     ]
    }
   ],
   "source": [
    "print('outliers removed:',(len(df) - len(train)))"
   ]
  },
  {
   "cell_type": "code",
   "execution_count": 11,
   "id": "626c9a84",
   "metadata": {},
   "outputs": [],
   "source": [
    "del df"
   ]
  },
  {
   "cell_type": "code",
   "execution_count": 12,
   "id": "85aefa0d",
   "metadata": {},
   "outputs": [
    {
     "data": {
      "text/plain": [
       "13514632"
      ]
     },
     "execution_count": 12,
     "metadata": {},
     "output_type": "execute_result"
    }
   ],
   "source": [
    "len(train)"
   ]
  },
  {
   "cell_type": "code",
   "execution_count": 13,
   "id": "b2b4a2b4",
   "metadata": {},
   "outputs": [
    {
     "data": {
      "text/html": [
       "<div>\n",
       "<style scoped>\n",
       "    .dataframe tbody tr th:only-of-type {\n",
       "        vertical-align: middle;\n",
       "    }\n",
       "\n",
       "    .dataframe tbody tr th {\n",
       "        vertical-align: top;\n",
       "    }\n",
       "\n",
       "    .dataframe thead th {\n",
       "        text-align: right;\n",
       "    }\n",
       "</style>\n",
       "<table border=\"1\" class=\"dataframe\">\n",
       "  <thead>\n",
       "    <tr style=\"text-align: right;\">\n",
       "      <th></th>\n",
       "      <th>key</th>\n",
       "      <th>fare_amount</th>\n",
       "      <th>pickup_datetime</th>\n",
       "      <th>pickup_longitude</th>\n",
       "      <th>pickup_latitude</th>\n",
       "      <th>dropoff_longitude</th>\n",
       "      <th>dropoff_latitude</th>\n",
       "      <th>passenger_count</th>\n",
       "    </tr>\n",
       "  </thead>\n",
       "  <tbody>\n",
       "    <tr>\n",
       "      <th>13855561</th>\n",
       "      <td>2014-09-22 09:00:00.00000019</td>\n",
       "      <td>16.5</td>\n",
       "      <td>2014-09-22 09:00:00 UTC</td>\n",
       "      <td>-73.977880</td>\n",
       "      <td>40.763550</td>\n",
       "      <td>-73.974020</td>\n",
       "      <td>40.743170</td>\n",
       "      <td>6</td>\n",
       "    </tr>\n",
       "    <tr>\n",
       "      <th>13855562</th>\n",
       "      <td>2015-06-13 20:45:19.0000001</td>\n",
       "      <td>18.0</td>\n",
       "      <td>2015-06-13 20:45:19 UTC</td>\n",
       "      <td>-73.987335</td>\n",
       "      <td>40.755325</td>\n",
       "      <td>-74.015221</td>\n",
       "      <td>40.710213</td>\n",
       "      <td>2</td>\n",
       "    </tr>\n",
       "    <tr>\n",
       "      <th>13855563</th>\n",
       "      <td>2010-05-28 07:49:50.0000002</td>\n",
       "      <td>11.7</td>\n",
       "      <td>2010-05-28 07:49:50 UTC</td>\n",
       "      <td>-73.947156</td>\n",
       "      <td>40.780228</td>\n",
       "      <td>-73.976806</td>\n",
       "      <td>40.758867</td>\n",
       "      <td>2</td>\n",
       "    </tr>\n",
       "    <tr>\n",
       "      <th>13855564</th>\n",
       "      <td>2011-09-16 00:46:43.0000005</td>\n",
       "      <td>6.1</td>\n",
       "      <td>2011-09-16 00:46:43 UTC</td>\n",
       "      <td>-73.990946</td>\n",
       "      <td>40.736619</td>\n",
       "      <td>-73.992298</td>\n",
       "      <td>40.740316</td>\n",
       "      <td>3</td>\n",
       "    </tr>\n",
       "    <tr>\n",
       "      <th>13855565</th>\n",
       "      <td>2014-12-12 11:33:00.00000015</td>\n",
       "      <td>7.5</td>\n",
       "      <td>2014-12-12 11:33:00 UTC</td>\n",
       "      <td>-73.969722</td>\n",
       "      <td>40.797668</td>\n",
       "      <td>-73.970885</td>\n",
       "      <td>40.783313</td>\n",
       "      <td>1</td>\n",
       "    </tr>\n",
       "  </tbody>\n",
       "</table>\n",
       "</div>"
      ],
      "text/plain": [
       "                                   key  fare_amount          pickup_datetime  \\\n",
       "13855561  2014-09-22 09:00:00.00000019         16.5  2014-09-22 09:00:00 UTC   \n",
       "13855562   2015-06-13 20:45:19.0000001         18.0  2015-06-13 20:45:19 UTC   \n",
       "13855563   2010-05-28 07:49:50.0000002         11.7  2010-05-28 07:49:50 UTC   \n",
       "13855564   2011-09-16 00:46:43.0000005          6.1  2011-09-16 00:46:43 UTC   \n",
       "13855565  2014-12-12 11:33:00.00000015          7.5  2014-12-12 11:33:00 UTC   \n",
       "\n",
       "          pickup_longitude  pickup_latitude  dropoff_longitude  \\\n",
       "13855561        -73.977880        40.763550         -73.974020   \n",
       "13855562        -73.987335        40.755325         -74.015221   \n",
       "13855563        -73.947156        40.780228         -73.976806   \n",
       "13855564        -73.990946        40.736619         -73.992298   \n",
       "13855565        -73.969722        40.797668         -73.970885   \n",
       "\n",
       "          dropoff_latitude  passenger_count  \n",
       "13855561         40.743170                6  \n",
       "13855562         40.710213                2  \n",
       "13855563         40.758867                2  \n",
       "13855564         40.740316                3  \n",
       "13855565         40.783313                1  "
      ]
     },
     "execution_count": 13,
     "metadata": {},
     "output_type": "execute_result"
    }
   ],
   "source": [
    "train.tail()"
   ]
  },
  {
   "cell_type": "code",
   "execution_count": 24,
   "id": "5d1a17de",
   "metadata": {},
   "outputs": [
    {
     "data": {
      "text/plain": [
       "0"
      ]
     },
     "execution_count": 24,
     "metadata": {},
     "output_type": "execute_result"
    }
   ],
   "source": [
    "train.duplicated().sum()"
   ]
  },
  {
   "cell_type": "markdown",
   "id": "079918f9",
   "metadata": {},
   "source": [
    "**seperating pickup_datetime column into year, month, day, weekday and hours**"
   ]
  },
  {
   "cell_type": "markdown",
   "id": "35e1d057",
   "metadata": {},
   "source": [
    "**converting object data to datetime data**"
   ]
  },
  {
   "cell_type": "code",
   "execution_count": 14,
   "id": "c609ccba",
   "metadata": {},
   "outputs": [],
   "source": [
    "train['pickup_datetime'] = pd.to_datetime(train['pickup_datetime'])"
   ]
  },
  {
   "cell_type": "markdown",
   "id": "17980262",
   "metadata": {},
   "source": [
    "making different columns for **year**, **month**, **day**, **weekday** & **hour**"
   ]
  },
  {
   "cell_type": "code",
   "execution_count": 16,
   "id": "6e627d92",
   "metadata": {},
   "outputs": [],
   "source": [
    "def add_dateparts(df, col):\n",
    "    df[col + '_year'] = df[col].dt.year\n",
    "    df[col + '_month'] = df[col].dt.month\n",
    "    df[col + '_day'] = df[col].dt.day\n",
    "    df[col + '_weekday'] = df[col].dt.weekday\n",
    "    df[col + '_hour'] = df[col].dt.hour"
   ]
  },
  {
   "cell_type": "code",
   "execution_count": 17,
   "id": "b82eac02",
   "metadata": {},
   "outputs": [],
   "source": [
    "add_dateparts(train, 'pickup_datetime')"
   ]
  },
  {
   "cell_type": "code",
   "execution_count": 18,
   "id": "e07f00e9",
   "metadata": {},
   "outputs": [
    {
     "data": {
      "text/html": [
       "<div>\n",
       "<style scoped>\n",
       "    .dataframe tbody tr th:only-of-type {\n",
       "        vertical-align: middle;\n",
       "    }\n",
       "\n",
       "    .dataframe tbody tr th {\n",
       "        vertical-align: top;\n",
       "    }\n",
       "\n",
       "    .dataframe thead th {\n",
       "        text-align: right;\n",
       "    }\n",
       "</style>\n",
       "<table border=\"1\" class=\"dataframe\">\n",
       "  <thead>\n",
       "    <tr style=\"text-align: right;\">\n",
       "      <th></th>\n",
       "      <th>key</th>\n",
       "      <th>fare_amount</th>\n",
       "      <th>pickup_datetime</th>\n",
       "      <th>pickup_longitude</th>\n",
       "      <th>pickup_latitude</th>\n",
       "      <th>dropoff_longitude</th>\n",
       "      <th>dropoff_latitude</th>\n",
       "      <th>passenger_count</th>\n",
       "      <th>pickup_datetime_year</th>\n",
       "      <th>pickup_datetime_month</th>\n",
       "      <th>pickup_datetime_day</th>\n",
       "      <th>pickup_datetime_weekday</th>\n",
       "      <th>pickup_datetime_hour</th>\n",
       "    </tr>\n",
       "  </thead>\n",
       "  <tbody>\n",
       "    <tr>\n",
       "      <th>0</th>\n",
       "      <td>2010-03-09 07:51:00.000000135</td>\n",
       "      <td>5.3</td>\n",
       "      <td>2010-03-09 07:51:00+00:00</td>\n",
       "      <td>-73.968095</td>\n",
       "      <td>40.768008</td>\n",
       "      <td>-73.956655</td>\n",
       "      <td>40.783762</td>\n",
       "      <td>1</td>\n",
       "      <td>2010</td>\n",
       "      <td>3</td>\n",
       "      <td>9</td>\n",
       "      <td>1</td>\n",
       "      <td>7</td>\n",
       "    </tr>\n",
       "    <tr>\n",
       "      <th>1</th>\n",
       "      <td>2012-04-08 07:30:50.0000002</td>\n",
       "      <td>5.3</td>\n",
       "      <td>2012-04-08 07:30:50+00:00</td>\n",
       "      <td>-73.996335</td>\n",
       "      <td>40.737142</td>\n",
       "      <td>-73.980721</td>\n",
       "      <td>40.733559</td>\n",
       "      <td>1</td>\n",
       "      <td>2012</td>\n",
       "      <td>4</td>\n",
       "      <td>8</td>\n",
       "      <td>6</td>\n",
       "      <td>7</td>\n",
       "    </tr>\n",
       "    <tr>\n",
       "      <th>2</th>\n",
       "      <td>2009-11-06 01:04:03.0000002</td>\n",
       "      <td>4.1</td>\n",
       "      <td>2009-11-06 01:04:03+00:00</td>\n",
       "      <td>-73.991601</td>\n",
       "      <td>40.744712</td>\n",
       "      <td>-73.983081</td>\n",
       "      <td>40.744682</td>\n",
       "      <td>2</td>\n",
       "      <td>2009</td>\n",
       "      <td>11</td>\n",
       "      <td>6</td>\n",
       "      <td>4</td>\n",
       "      <td>1</td>\n",
       "    </tr>\n",
       "    <tr>\n",
       "      <th>3</th>\n",
       "      <td>2014-12-06 20:36:22.0000008</td>\n",
       "      <td>4.0</td>\n",
       "      <td>2014-12-06 20:36:22+00:00</td>\n",
       "      <td>-73.979815</td>\n",
       "      <td>40.751902</td>\n",
       "      <td>-73.979446</td>\n",
       "      <td>40.755481</td>\n",
       "      <td>1</td>\n",
       "      <td>2014</td>\n",
       "      <td>12</td>\n",
       "      <td>6</td>\n",
       "      <td>5</td>\n",
       "      <td>20</td>\n",
       "    </tr>\n",
       "    <tr>\n",
       "      <th>4</th>\n",
       "      <td>2010-09-07 13:18:00.000000175</td>\n",
       "      <td>10.5</td>\n",
       "      <td>2010-09-07 13:18:00+00:00</td>\n",
       "      <td>-73.985382</td>\n",
       "      <td>40.747858</td>\n",
       "      <td>-73.978377</td>\n",
       "      <td>40.762070</td>\n",
       "      <td>1</td>\n",
       "      <td>2010</td>\n",
       "      <td>9</td>\n",
       "      <td>7</td>\n",
       "      <td>1</td>\n",
       "      <td>13</td>\n",
       "    </tr>\n",
       "  </tbody>\n",
       "</table>\n",
       "</div>"
      ],
      "text/plain": [
       "                             key  fare_amount           pickup_datetime  \\\n",
       "0  2010-03-09 07:51:00.000000135          5.3 2010-03-09 07:51:00+00:00   \n",
       "1    2012-04-08 07:30:50.0000002          5.3 2012-04-08 07:30:50+00:00   \n",
       "2    2009-11-06 01:04:03.0000002          4.1 2009-11-06 01:04:03+00:00   \n",
       "3    2014-12-06 20:36:22.0000008          4.0 2014-12-06 20:36:22+00:00   \n",
       "4  2010-09-07 13:18:00.000000175         10.5 2010-09-07 13:18:00+00:00   \n",
       "\n",
       "   pickup_longitude  pickup_latitude  dropoff_longitude  dropoff_latitude  \\\n",
       "0        -73.968095        40.768008         -73.956655         40.783762   \n",
       "1        -73.996335        40.737142         -73.980721         40.733559   \n",
       "2        -73.991601        40.744712         -73.983081         40.744682   \n",
       "3        -73.979815        40.751902         -73.979446         40.755481   \n",
       "4        -73.985382        40.747858         -73.978377         40.762070   \n",
       "\n",
       "   passenger_count  pickup_datetime_year  pickup_datetime_month  \\\n",
       "0                1                  2010                      3   \n",
       "1                1                  2012                      4   \n",
       "2                2                  2009                     11   \n",
       "3                1                  2014                     12   \n",
       "4                1                  2010                      9   \n",
       "\n",
       "   pickup_datetime_day  pickup_datetime_weekday  pickup_datetime_hour  \n",
       "0                    9                        1                     7  \n",
       "1                    8                        6                     7  \n",
       "2                    6                        4                     1  \n",
       "3                    6                        5                    20  \n",
       "4                    7                        1                    13  "
      ]
     },
     "execution_count": 18,
     "metadata": {},
     "output_type": "execute_result"
    }
   ],
   "source": [
    "train.head()"
   ]
  },
  {
   "cell_type": "markdown",
   "id": "160c6662",
   "metadata": {},
   "source": [
    "### Popular landmarks longitude & latitude\n",
    "\n",
    "JFK AIRPORT\n",
    "\n",
    "LGA AIRPORT\n",
    "\n",
    "EWR AIRPORT\n",
    "\n",
    "TIME SQUARE\n",
    "\n",
    "MET MEUSEUM\n",
    "\n",
    "WORLD TRADE CENTRE"
   ]
  },
  {
   "cell_type": "code",
   "execution_count": 19,
   "id": "927dd50c",
   "metadata": {},
   "outputs": [],
   "source": [
    "jfk_lonlat = -73.7781, 40.6413  \n",
    "lga_lonlat = -73.8740, 40.7769\n",
    "ewr_lonlat = -74.1745, 40.6895\n",
    "met_lonlat = -73.9632, 40.7794\n",
    "wtc_lonlat = -74.0099, 40.7126"
   ]
  },
  {
   "cell_type": "markdown",
   "id": "b0e04e92",
   "metadata": {},
   "source": [
    "##### making function to calculate global distance between two points"
   ]
  },
  {
   "cell_type": "code",
   "execution_count": 20,
   "id": "078181c7",
   "metadata": {},
   "outputs": [],
   "source": [
    "def haversine_np(lon1, lat1, lon2, lat2):\n",
    "    lon1, lat1, lon2, lat2 = map(np.radians, [lon1, lat1, lon2, lat2])\n",
    "\n",
    "    dlon = lon2 - lon1\n",
    "    dlat = lat2 - lat1\n",
    "\n",
    "    a = np.sin(dlat/2.0)**2 + np.cos(lat1) * np.cos(lat2) * np.sin(dlon/2.0)**2\n",
    "\n",
    "    c = 2 * np.arcsin(np.sqrt(a))\n",
    "    km = 6367 * c\n",
    "    return round(km,2)"
   ]
  },
  {
   "cell_type": "code",
   "execution_count": 21,
   "id": "646459f6",
   "metadata": {},
   "outputs": [],
   "source": [
    "def add_landmark(df, landmark_name, landmark_lonlat):\n",
    "    lon, lat = landmark_lonlat\n",
    "    df[landmark_name + '_drop_distance'] = haversine_np(lon, lat, df['dropoff_longitude'], df['dropoff_latitude'])"
   ]
  },
  {
   "cell_type": "code",
   "execution_count": 22,
   "id": "c33d42f5",
   "metadata": {},
   "outputs": [],
   "source": [
    "for name, lonlat in [('jkf', jfk_lonlat), ('lga', lga_lonlat), \n",
    "                     ('ewr', ewr_lonlat), ('met', met_lonlat), ('wtc', wtc_lonlat)]:\n",
    "    add_landmark(train, name, lonlat)"
   ]
  },
  {
   "cell_type": "code",
   "execution_count": 23,
   "id": "ba6d2e2d",
   "metadata": {},
   "outputs": [
    {
     "data": {
      "text/html": [
       "<div>\n",
       "<style scoped>\n",
       "    .dataframe tbody tr th:only-of-type {\n",
       "        vertical-align: middle;\n",
       "    }\n",
       "\n",
       "    .dataframe tbody tr th {\n",
       "        vertical-align: top;\n",
       "    }\n",
       "\n",
       "    .dataframe thead th {\n",
       "        text-align: right;\n",
       "    }\n",
       "</style>\n",
       "<table border=\"1\" class=\"dataframe\">\n",
       "  <thead>\n",
       "    <tr style=\"text-align: right;\">\n",
       "      <th></th>\n",
       "      <th>key</th>\n",
       "      <th>fare_amount</th>\n",
       "      <th>pickup_datetime</th>\n",
       "      <th>pickup_longitude</th>\n",
       "      <th>pickup_latitude</th>\n",
       "      <th>dropoff_longitude</th>\n",
       "      <th>dropoff_latitude</th>\n",
       "      <th>passenger_count</th>\n",
       "      <th>pickup_datetime_year</th>\n",
       "      <th>pickup_datetime_month</th>\n",
       "      <th>pickup_datetime_day</th>\n",
       "      <th>pickup_datetime_weekday</th>\n",
       "      <th>pickup_datetime_hour</th>\n",
       "      <th>jkf_drop_distance</th>\n",
       "      <th>lga_drop_distance</th>\n",
       "      <th>ewr_drop_distance</th>\n",
       "      <th>met_drop_distance</th>\n",
       "      <th>wtc_drop_distance</th>\n",
       "    </tr>\n",
       "  </thead>\n",
       "  <tbody>\n",
       "    <tr>\n",
       "      <th>0</th>\n",
       "      <td>2010-03-09 07:51:00.000000135</td>\n",
       "      <td>5.3</td>\n",
       "      <td>2010-03-09 07:51:00+00:00</td>\n",
       "      <td>-73.968095</td>\n",
       "      <td>40.768008</td>\n",
       "      <td>-73.956655</td>\n",
       "      <td>40.783762</td>\n",
       "      <td>1</td>\n",
       "      <td>2010</td>\n",
       "      <td>3</td>\n",
       "      <td>9</td>\n",
       "      <td>1</td>\n",
       "      <td>7</td>\n",
       "      <td>21.84</td>\n",
       "      <td>7.00</td>\n",
       "      <td>21.12</td>\n",
       "      <td>0.73</td>\n",
       "      <td>9.09</td>\n",
       "    </tr>\n",
       "    <tr>\n",
       "      <th>1</th>\n",
       "      <td>2012-04-08 07:30:50.0000002</td>\n",
       "      <td>5.3</td>\n",
       "      <td>2012-04-08 07:30:50+00:00</td>\n",
       "      <td>-73.996335</td>\n",
       "      <td>40.737142</td>\n",
       "      <td>-73.980721</td>\n",
       "      <td>40.733559</td>\n",
       "      <td>1</td>\n",
       "      <td>2012</td>\n",
       "      <td>4</td>\n",
       "      <td>8</td>\n",
       "      <td>6</td>\n",
       "      <td>7</td>\n",
       "      <td>19.92</td>\n",
       "      <td>10.19</td>\n",
       "      <td>17.04</td>\n",
       "      <td>5.30</td>\n",
       "      <td>3.39</td>\n",
       "    </tr>\n",
       "    <tr>\n",
       "      <th>2</th>\n",
       "      <td>2009-11-06 01:04:03.0000002</td>\n",
       "      <td>4.1</td>\n",
       "      <td>2009-11-06 01:04:03+00:00</td>\n",
       "      <td>-73.991601</td>\n",
       "      <td>40.744712</td>\n",
       "      <td>-73.983081</td>\n",
       "      <td>40.744682</td>\n",
       "      <td>2</td>\n",
       "      <td>2009</td>\n",
       "      <td>11</td>\n",
       "      <td>6</td>\n",
       "      <td>4</td>\n",
       "      <td>1</td>\n",
       "      <td>20.74</td>\n",
       "      <td>9.85</td>\n",
       "      <td>17.25</td>\n",
       "      <td>4.21</td>\n",
       "      <td>4.22</td>\n",
       "    </tr>\n",
       "    <tr>\n",
       "      <th>3</th>\n",
       "      <td>2014-12-06 20:36:22.0000008</td>\n",
       "      <td>4.0</td>\n",
       "      <td>2014-12-06 20:36:22+00:00</td>\n",
       "      <td>-73.979815</td>\n",
       "      <td>40.751902</td>\n",
       "      <td>-73.979446</td>\n",
       "      <td>40.755481</td>\n",
       "      <td>1</td>\n",
       "      <td>2014</td>\n",
       "      <td>12</td>\n",
       "      <td>6</td>\n",
       "      <td>5</td>\n",
       "      <td>20</td>\n",
       "      <td>21.18</td>\n",
       "      <td>9.19</td>\n",
       "      <td>17.99</td>\n",
       "      <td>2.99</td>\n",
       "      <td>5.41</td>\n",
       "    </tr>\n",
       "    <tr>\n",
       "      <th>4</th>\n",
       "      <td>2010-09-07 13:18:00.000000175</td>\n",
       "      <td>10.5</td>\n",
       "      <td>2010-09-07 13:18:00+00:00</td>\n",
       "      <td>-73.985382</td>\n",
       "      <td>40.747858</td>\n",
       "      <td>-73.978377</td>\n",
       "      <td>40.762070</td>\n",
       "      <td>1</td>\n",
       "      <td>2010</td>\n",
       "      <td>9</td>\n",
       "      <td>7</td>\n",
       "      <td>1</td>\n",
       "      <td>13</td>\n",
       "      <td>21.56</td>\n",
       "      <td>8.94</td>\n",
       "      <td>18.38</td>\n",
       "      <td>2.31</td>\n",
       "      <td>6.10</td>\n",
       "    </tr>\n",
       "  </tbody>\n",
       "</table>\n",
       "</div>"
      ],
      "text/plain": [
       "                             key  fare_amount           pickup_datetime  \\\n",
       "0  2010-03-09 07:51:00.000000135          5.3 2010-03-09 07:51:00+00:00   \n",
       "1    2012-04-08 07:30:50.0000002          5.3 2012-04-08 07:30:50+00:00   \n",
       "2    2009-11-06 01:04:03.0000002          4.1 2009-11-06 01:04:03+00:00   \n",
       "3    2014-12-06 20:36:22.0000008          4.0 2014-12-06 20:36:22+00:00   \n",
       "4  2010-09-07 13:18:00.000000175         10.5 2010-09-07 13:18:00+00:00   \n",
       "\n",
       "   pickup_longitude  pickup_latitude  dropoff_longitude  dropoff_latitude  \\\n",
       "0        -73.968095        40.768008         -73.956655         40.783762   \n",
       "1        -73.996335        40.737142         -73.980721         40.733559   \n",
       "2        -73.991601        40.744712         -73.983081         40.744682   \n",
       "3        -73.979815        40.751902         -73.979446         40.755481   \n",
       "4        -73.985382        40.747858         -73.978377         40.762070   \n",
       "\n",
       "   passenger_count  pickup_datetime_year  pickup_datetime_month  \\\n",
       "0                1                  2010                      3   \n",
       "1                1                  2012                      4   \n",
       "2                2                  2009                     11   \n",
       "3                1                  2014                     12   \n",
       "4                1                  2010                      9   \n",
       "\n",
       "   pickup_datetime_day  pickup_datetime_weekday  pickup_datetime_hour  \\\n",
       "0                    9                        1                     7   \n",
       "1                    8                        6                     7   \n",
       "2                    6                        4                     1   \n",
       "3                    6                        5                    20   \n",
       "4                    7                        1                    13   \n",
       "\n",
       "   jkf_drop_distance  lga_drop_distance  ewr_drop_distance  met_drop_distance  \\\n",
       "0              21.84               7.00              21.12               0.73   \n",
       "1              19.92              10.19              17.04               5.30   \n",
       "2              20.74               9.85              17.25               4.21   \n",
       "3              21.18               9.19              17.99               2.99   \n",
       "4              21.56               8.94              18.38               2.31   \n",
       "\n",
       "   wtc_drop_distance  \n",
       "0               9.09  \n",
       "1               3.39  \n",
       "2               4.22  \n",
       "3               5.41  \n",
       "4               6.10  "
      ]
     },
     "execution_count": 23,
     "metadata": {},
     "output_type": "execute_result"
    }
   ],
   "source": [
    "train.head()"
   ]
  },
  {
   "cell_type": "code",
   "execution_count": 24,
   "id": "8516be6f",
   "metadata": {},
   "outputs": [],
   "source": [
    "train = train.drop(['key','pickup_datetime'], axis=1)"
   ]
  },
  {
   "cell_type": "code",
   "execution_count": 25,
   "id": "d97d77d2",
   "metadata": {},
   "outputs": [
    {
     "data": {
      "text/html": [
       "<div>\n",
       "<style scoped>\n",
       "    .dataframe tbody tr th:only-of-type {\n",
       "        vertical-align: middle;\n",
       "    }\n",
       "\n",
       "    .dataframe tbody tr th {\n",
       "        vertical-align: top;\n",
       "    }\n",
       "\n",
       "    .dataframe thead th {\n",
       "        text-align: right;\n",
       "    }\n",
       "</style>\n",
       "<table border=\"1\" class=\"dataframe\">\n",
       "  <thead>\n",
       "    <tr style=\"text-align: right;\">\n",
       "      <th></th>\n",
       "      <th>fare_amount</th>\n",
       "      <th>pickup_longitude</th>\n",
       "      <th>pickup_latitude</th>\n",
       "      <th>dropoff_longitude</th>\n",
       "      <th>dropoff_latitude</th>\n",
       "      <th>passenger_count</th>\n",
       "      <th>pickup_datetime_year</th>\n",
       "      <th>pickup_datetime_month</th>\n",
       "      <th>pickup_datetime_day</th>\n",
       "      <th>pickup_datetime_weekday</th>\n",
       "      <th>pickup_datetime_hour</th>\n",
       "      <th>jkf_drop_distance</th>\n",
       "      <th>lga_drop_distance</th>\n",
       "      <th>ewr_drop_distance</th>\n",
       "      <th>met_drop_distance</th>\n",
       "      <th>wtc_drop_distance</th>\n",
       "    </tr>\n",
       "  </thead>\n",
       "  <tbody>\n",
       "    <tr>\n",
       "      <th>0</th>\n",
       "      <td>5.3</td>\n",
       "      <td>-73.968095</td>\n",
       "      <td>40.768008</td>\n",
       "      <td>-73.956655</td>\n",
       "      <td>40.783762</td>\n",
       "      <td>1</td>\n",
       "      <td>2010</td>\n",
       "      <td>3</td>\n",
       "      <td>9</td>\n",
       "      <td>1</td>\n",
       "      <td>7</td>\n",
       "      <td>21.84</td>\n",
       "      <td>7.00</td>\n",
       "      <td>21.12</td>\n",
       "      <td>0.73</td>\n",
       "      <td>9.09</td>\n",
       "    </tr>\n",
       "    <tr>\n",
       "      <th>1</th>\n",
       "      <td>5.3</td>\n",
       "      <td>-73.996335</td>\n",
       "      <td>40.737142</td>\n",
       "      <td>-73.980721</td>\n",
       "      <td>40.733559</td>\n",
       "      <td>1</td>\n",
       "      <td>2012</td>\n",
       "      <td>4</td>\n",
       "      <td>8</td>\n",
       "      <td>6</td>\n",
       "      <td>7</td>\n",
       "      <td>19.92</td>\n",
       "      <td>10.19</td>\n",
       "      <td>17.04</td>\n",
       "      <td>5.30</td>\n",
       "      <td>3.39</td>\n",
       "    </tr>\n",
       "    <tr>\n",
       "      <th>2</th>\n",
       "      <td>4.1</td>\n",
       "      <td>-73.991601</td>\n",
       "      <td>40.744712</td>\n",
       "      <td>-73.983081</td>\n",
       "      <td>40.744682</td>\n",
       "      <td>2</td>\n",
       "      <td>2009</td>\n",
       "      <td>11</td>\n",
       "      <td>6</td>\n",
       "      <td>4</td>\n",
       "      <td>1</td>\n",
       "      <td>20.74</td>\n",
       "      <td>9.85</td>\n",
       "      <td>17.25</td>\n",
       "      <td>4.21</td>\n",
       "      <td>4.22</td>\n",
       "    </tr>\n",
       "    <tr>\n",
       "      <th>3</th>\n",
       "      <td>4.0</td>\n",
       "      <td>-73.979815</td>\n",
       "      <td>40.751902</td>\n",
       "      <td>-73.979446</td>\n",
       "      <td>40.755481</td>\n",
       "      <td>1</td>\n",
       "      <td>2014</td>\n",
       "      <td>12</td>\n",
       "      <td>6</td>\n",
       "      <td>5</td>\n",
       "      <td>20</td>\n",
       "      <td>21.18</td>\n",
       "      <td>9.19</td>\n",
       "      <td>17.99</td>\n",
       "      <td>2.99</td>\n",
       "      <td>5.41</td>\n",
       "    </tr>\n",
       "    <tr>\n",
       "      <th>4</th>\n",
       "      <td>10.5</td>\n",
       "      <td>-73.985382</td>\n",
       "      <td>40.747858</td>\n",
       "      <td>-73.978377</td>\n",
       "      <td>40.762070</td>\n",
       "      <td>1</td>\n",
       "      <td>2010</td>\n",
       "      <td>9</td>\n",
       "      <td>7</td>\n",
       "      <td>1</td>\n",
       "      <td>13</td>\n",
       "      <td>21.56</td>\n",
       "      <td>8.94</td>\n",
       "      <td>18.38</td>\n",
       "      <td>2.31</td>\n",
       "      <td>6.10</td>\n",
       "    </tr>\n",
       "  </tbody>\n",
       "</table>\n",
       "</div>"
      ],
      "text/plain": [
       "   fare_amount  pickup_longitude  pickup_latitude  dropoff_longitude  \\\n",
       "0          5.3        -73.968095        40.768008         -73.956655   \n",
       "1          5.3        -73.996335        40.737142         -73.980721   \n",
       "2          4.1        -73.991601        40.744712         -73.983081   \n",
       "3          4.0        -73.979815        40.751902         -73.979446   \n",
       "4         10.5        -73.985382        40.747858         -73.978377   \n",
       "\n",
       "   dropoff_latitude  passenger_count  pickup_datetime_year  \\\n",
       "0         40.783762                1                  2010   \n",
       "1         40.733559                1                  2012   \n",
       "2         40.744682                2                  2009   \n",
       "3         40.755481                1                  2014   \n",
       "4         40.762070                1                  2010   \n",
       "\n",
       "   pickup_datetime_month  pickup_datetime_day  pickup_datetime_weekday  \\\n",
       "0                      3                    9                        1   \n",
       "1                      4                    8                        6   \n",
       "2                     11                    6                        4   \n",
       "3                     12                    6                        5   \n",
       "4                      9                    7                        1   \n",
       "\n",
       "   pickup_datetime_hour  jkf_drop_distance  lga_drop_distance  \\\n",
       "0                     7              21.84               7.00   \n",
       "1                     7              19.92              10.19   \n",
       "2                     1              20.74               9.85   \n",
       "3                    20              21.18               9.19   \n",
       "4                    13              21.56               8.94   \n",
       "\n",
       "   ewr_drop_distance  met_drop_distance  wtc_drop_distance  \n",
       "0              21.12               0.73               9.09  \n",
       "1              17.04               5.30               3.39  \n",
       "2              17.25               4.21               4.22  \n",
       "3              17.99               2.99               5.41  \n",
       "4              18.38               2.31               6.10  "
      ]
     },
     "execution_count": 25,
     "metadata": {},
     "output_type": "execute_result"
    }
   ],
   "source": [
    "train.head()"
   ]
  },
  {
   "cell_type": "code",
   "execution_count": 26,
   "id": "e1d0453e",
   "metadata": {},
   "outputs": [
    {
     "data": {
      "text/plain": [
       "13514632"
      ]
     },
     "execution_count": 26,
     "metadata": {},
     "output_type": "execute_result"
    }
   ],
   "source": [
    "len(train)"
   ]
  },
  {
   "cell_type": "code",
   "execution_count": 27,
   "id": "91a8c107",
   "metadata": {},
   "outputs": [],
   "source": [
    "import seaborn as sns\n",
    "import matplotlib.pyplot as plt"
   ]
  },
  {
   "cell_type": "markdown",
   "id": "13529f1b",
   "metadata": {},
   "source": [
    "### EDA"
   ]
  },
  {
   "cell_type": "code",
   "execution_count": 28,
   "id": "f5496cff",
   "metadata": {},
   "outputs": [
    {
     "data": {
      "image/png": "[encoded data removed]",
      "text/plain": [
       "<Figure size 1584x1512 with 16 Axes>"
      ]
     },
     "metadata": {
      "needs_background": "light"
     },
     "output_type": "display_data"
    }
   ],
   "source": [
    "train.hist(figsize=(22,21), bins=20);"
   ]
  },
  {
   "cell_type": "markdown",
   "id": "cc1ebd8a",
   "metadata": {},
   "source": [
    "**busiest month, week-day & hour**"
   ]
  },
  {
   "cell_type": "code",
   "execution_count": 29,
   "id": "4ab6c169",
   "metadata": {},
   "outputs": [
    {
     "data": {
      "text/plain": [
       "(0    5\n",
       " dtype: int64,\n",
       " 0    4\n",
       " dtype: int64,\n",
       " 0    19\n",
       " dtype: int64)"
      ]
     },
     "execution_count": 29,
     "metadata": {},
     "output_type": "execute_result"
    }
   ],
   "source": [
    "train.pickup_datetime_month.mode(), train.pickup_datetime_weekday.mode(), train.pickup_datetime_hour.mode()"
   ]
  },
  {
   "cell_type": "code",
   "execution_count": 31,
   "id": "0addb28d",
   "metadata": {},
   "outputs": [
    {
     "data": {
      "image/png": "[encoded data removed]",
      "text/plain": [
       "<Figure size 432x288 with 1 Axes>"
      ]
     },
     "metadata": {
      "needs_background": "light"
     },
     "output_type": "display_data"
    }
   ],
   "source": [
    "train.pickup_datetime_month.hist(bins=24);"
   ]
  },
  {
   "cell_type": "code",
   "execution_count": 32,
   "id": "48c80bda",
   "metadata": {},
   "outputs": [
    {
     "data": {
      "image/png": "[encoded data removed]",
      "text/plain": [
       "<Figure size 432x288 with 1 Axes>"
      ]
     },
     "metadata": {
      "needs_background": "light"
     },
     "output_type": "display_data"
    }
   ],
   "source": [
    "train.pickup_datetime_weekday.hist(bins=14);"
   ]
  },
  {
   "cell_type": "code",
   "execution_count": 33,
   "id": "ee0c6e84",
   "metadata": {},
   "outputs": [
    {
     "data": {
      "image/png": "[encoded data removed]",
      "text/plain": [
       "<Figure size 432x288 with 1 Axes>"
      ]
     },
     "metadata": {
      "needs_background": "light"
     },
     "output_type": "display_data"
    }
   ],
   "source": [
    "train.pickup_datetime_hour.hist(bins=48);"
   ]
  },
  {
   "cell_type": "markdown",
   "id": "9eb75bfb",
   "metadata": {},
   "source": [
    "**highest fares month**"
   ]
  },
  {
   "cell_type": "code",
   "execution_count": 34,
   "id": "deec0f20",
   "metadata": {},
   "outputs": [],
   "source": [
    "train= train.sort_values(ascending=False, by='fare_amount')"
   ]
  },
  {
   "cell_type": "code",
   "execution_count": 35,
   "id": "e3ce5d41",
   "metadata": {},
   "outputs": [
    {
     "data": {
      "text/html": [
       "<div>\n",
       "<style scoped>\n",
       "    .dataframe tbody tr th:only-of-type {\n",
       "        vertical-align: middle;\n",
       "    }\n",
       "\n",
       "    .dataframe tbody tr th {\n",
       "        vertical-align: top;\n",
       "    }\n",
       "\n",
       "    .dataframe thead th {\n",
       "        text-align: right;\n",
       "    }\n",
       "</style>\n",
       "<table border=\"1\" class=\"dataframe\">\n",
       "  <thead>\n",
       "    <tr style=\"text-align: right;\">\n",
       "      <th></th>\n",
       "      <th>fare_amount</th>\n",
       "      <th>pickup_longitude</th>\n",
       "      <th>pickup_latitude</th>\n",
       "      <th>dropoff_longitude</th>\n",
       "      <th>dropoff_latitude</th>\n",
       "      <th>passenger_count</th>\n",
       "      <th>pickup_datetime_year</th>\n",
       "      <th>pickup_datetime_month</th>\n",
       "      <th>pickup_datetime_day</th>\n",
       "      <th>pickup_datetime_weekday</th>\n",
       "      <th>pickup_datetime_hour</th>\n",
       "      <th>jkf_drop_distance</th>\n",
       "      <th>lga_drop_distance</th>\n",
       "      <th>ewr_drop_distance</th>\n",
       "      <th>met_drop_distance</th>\n",
       "      <th>wtc_drop_distance</th>\n",
       "    </tr>\n",
       "  </thead>\n",
       "  <tbody>\n",
       "    <tr>\n",
       "      <th>7117113</th>\n",
       "      <td>500.0</td>\n",
       "      <td>-73.975308</td>\n",
       "      <td>40.621535</td>\n",
       "      <td>-73.975308</td>\n",
       "      <td>40.621535</td>\n",
       "      <td>1</td>\n",
       "      <td>2011</td>\n",
       "      <td>5</td>\n",
       "      <td>1</td>\n",
       "      <td>6</td>\n",
       "      <td>12</td>\n",
       "      <td>16.78</td>\n",
       "      <td>19.26</td>\n",
       "      <td>18.41</td>\n",
       "      <td>17.57</td>\n",
       "      <td>10.53</td>\n",
       "    </tr>\n",
       "    <tr>\n",
       "      <th>4943793</th>\n",
       "      <td>500.0</td>\n",
       "      <td>-73.976692</td>\n",
       "      <td>40.751629</td>\n",
       "      <td>-73.976692</td>\n",
       "      <td>40.751621</td>\n",
       "      <td>1</td>\n",
       "      <td>2015</td>\n",
       "      <td>1</td>\n",
       "      <td>5</td>\n",
       "      <td>0</td>\n",
       "      <td>12</td>\n",
       "      <td>20.74</td>\n",
       "      <td>9.09</td>\n",
       "      <td>18.03</td>\n",
       "      <td>3.29</td>\n",
       "      <td>5.16</td>\n",
       "    </tr>\n",
       "    <tr>\n",
       "      <th>9263460</th>\n",
       "      <td>498.0</td>\n",
       "      <td>-73.816711</td>\n",
       "      <td>40.740044</td>\n",
       "      <td>-73.816711</td>\n",
       "      <td>40.740044</td>\n",
       "      <td>2</td>\n",
       "      <td>2015</td>\n",
       "      <td>2</td>\n",
       "      <td>2</td>\n",
       "      <td>0</td>\n",
       "      <td>4</td>\n",
       "      <td>11.45</td>\n",
       "      <td>6.33</td>\n",
       "      <td>30.66</td>\n",
       "      <td>13.08</td>\n",
       "      <td>16.55</td>\n",
       "    </tr>\n",
       "    <tr>\n",
       "      <th>9261851</th>\n",
       "      <td>495.0</td>\n",
       "      <td>-73.925878</td>\n",
       "      <td>40.740358</td>\n",
       "      <td>-73.925892</td>\n",
       "      <td>40.740357</td>\n",
       "      <td>1</td>\n",
       "      <td>2010</td>\n",
       "      <td>11</td>\n",
       "      <td>24</td>\n",
       "      <td>2</td>\n",
       "      <td>18</td>\n",
       "      <td>16.62</td>\n",
       "      <td>5.96</td>\n",
       "      <td>21.69</td>\n",
       "      <td>5.36</td>\n",
       "      <td>7.72</td>\n",
       "    </tr>\n",
       "    <tr>\n",
       "      <th>61995</th>\n",
       "      <td>495.0</td>\n",
       "      <td>-73.814911</td>\n",
       "      <td>40.699562</td>\n",
       "      <td>-72.196091</td>\n",
       "      <td>41.012253</td>\n",
       "      <td>1</td>\n",
       "      <td>2015</td>\n",
       "      <td>5</td>\n",
       "      <td>12</td>\n",
       "      <td>1</td>\n",
       "      <td>13</td>\n",
       "      <td>139.26</td>\n",
       "      <td>143.35</td>\n",
       "      <td>170.12</td>\n",
       "      <td>150.67</td>\n",
       "      <td>156.03</td>\n",
       "    </tr>\n",
       "  </tbody>\n",
       "</table>\n",
       "</div>"
      ],
      "text/plain": [
       "         fare_amount  pickup_longitude  pickup_latitude  dropoff_longitude  \\\n",
       "7117113        500.0        -73.975308        40.621535         -73.975308   \n",
       "4943793        500.0        -73.976692        40.751629         -73.976692   \n",
       "9263460        498.0        -73.816711        40.740044         -73.816711   \n",
       "9261851        495.0        -73.925878        40.740358         -73.925892   \n",
       "61995          495.0        -73.814911        40.699562         -72.196091   \n",
       "\n",
       "         dropoff_latitude  passenger_count  pickup_datetime_year  \\\n",
       "7117113         40.621535                1                  2011   \n",
       "4943793         40.751621                1                  2015   \n",
       "9263460         40.740044                2                  2015   \n",
       "9261851         40.740357                1                  2010   \n",
       "61995           41.012253                1                  2015   \n",
       "\n",
       "         pickup_datetime_month  pickup_datetime_day  pickup_datetime_weekday  \\\n",
       "7117113                      5                    1                        6   \n",
       "4943793                      1                    5                        0   \n",
       "9263460                      2                    2                        0   \n",
       "9261851                     11                   24                        2   \n",
       "61995                        5                   12                        1   \n",
       "\n",
       "         pickup_datetime_hour  jkf_drop_distance  lga_drop_distance  \\\n",
       "7117113                    12              16.78              19.26   \n",
       "4943793                    12              20.74               9.09   \n",
       "9263460                     4              11.45               6.33   \n",
       "9261851                    18              16.62               5.96   \n",
       "61995                      13             139.26             143.35   \n",
       "\n",
       "         ewr_drop_distance  met_drop_distance  wtc_drop_distance  \n",
       "7117113              18.41              17.57              10.53  \n",
       "4943793              18.03               3.29               5.16  \n",
       "9263460              30.66              13.08              16.55  \n",
       "9261851              21.69               5.36               7.72  \n",
       "61995               170.12             150.67             156.03  "
      ]
     },
     "execution_count": 35,
     "metadata": {},
     "output_type": "execute_result"
    }
   ],
   "source": [
    "train.head()"
   ]
  },
  {
   "cell_type": "markdown",
   "id": "e26632d1",
   "metadata": {},
   "source": [
    "##### average drop distances in different main points in km"
   ]
  },
  {
   "cell_type": "code",
   "execution_count": 36,
   "id": "614d34e3",
   "metadata": {},
   "outputs": [
    {
     "data": {
      "text/plain": [
       "20.911970326684205"
      ]
     },
     "execution_count": 36,
     "metadata": {},
     "output_type": "execute_result"
    }
   ],
   "source": [
    "train.jkf_drop_distance.mean()"
   ]
  },
  {
   "cell_type": "code",
   "execution_count": 37,
   "id": "334c72ea",
   "metadata": {},
   "outputs": [
    {
     "data": {
      "text/plain": [
       "9.687369945394149"
      ]
     },
     "execution_count": 37,
     "metadata": {},
     "output_type": "execute_result"
    }
   ],
   "source": [
    "# 6. What is the average ride distance?\n",
    "train.lga_drop_distance.mean()"
   ]
  },
  {
   "cell_type": "code",
   "execution_count": 38,
   "id": "8d65c7a7",
   "metadata": {},
   "outputs": [
    {
     "data": {
      "text/plain": [
       "18.480465881722374"
      ]
     },
     "execution_count": 38,
     "metadata": {},
     "output_type": "execute_result"
    }
   ],
   "source": [
    "train.ewr_drop_distance.mean()"
   ]
  },
  {
   "cell_type": "code",
   "execution_count": 39,
   "id": "d36c32ef",
   "metadata": {},
   "outputs": [
    {
     "data": {
      "text/plain": [
       "4.4873136871216674"
      ]
     },
     "execution_count": 39,
     "metadata": {},
     "output_type": "execute_result"
    }
   ],
   "source": [
    "train.met_drop_distance.mean()"
   ]
  },
  {
   "cell_type": "code",
   "execution_count": 40,
   "id": "19f1c114",
   "metadata": {},
   "outputs": [
    {
     "data": {
      "text/plain": [
       "5.968938933738401"
      ]
     },
     "execution_count": 40,
     "metadata": {},
     "output_type": "execute_result"
    }
   ],
   "source": [
    "train.wtc_drop_distance.mean()"
   ]
  },
  {
   "cell_type": "code",
   "execution_count": 41,
   "id": "571d19e6",
   "metadata": {},
   "outputs": [
    {
     "name": "stdout",
     "output_type": "stream",
     "text": [
      "minimum fare:1.0, maximum fare:500.0, average fare:11.33\n"
     ]
    }
   ],
   "source": [
    "print('minimum fare:{}, maximum fare:{}, average fare:{}'.format(train.fare_amount.min(),\n",
    "                                                                train.fare_amount.max(),round(train.fare_amount.mean(),2)))"
   ]
  },
  {
   "cell_type": "markdown",
   "id": "87aabe78",
   "metadata": {},
   "source": [
    "#### corelation diagram between the features"
   ]
  },
  {
   "cell_type": "code",
   "execution_count": 42,
   "id": "0451ec90",
   "metadata": {},
   "outputs": [
    {
     "data": {
      "image/png": "[encoded data removed]",
      "text/plain": [
       "<Figure size 720x576 with 2 Axes>"
      ]
     },
     "metadata": {
      "needs_background": "light"
     },
     "output_type": "display_data"
    }
   ],
   "source": [
    "plt.figure(figsize=(10,8))\n",
    "sns.heatmap(train.corr(),linewidths=0.1)\n",
    "plt.show()"
   ]
  },
  {
   "cell_type": "code",
   "execution_count": 50,
   "id": "7bd86b60",
   "metadata": {},
   "outputs": [
    {
     "data": {
      "image/png": "[encoded data removed]",
      "text/plain": [
       "<Figure size 432x288 with 1 Axes>"
      ]
     },
     "metadata": {
      "needs_background": "light"
     },
     "output_type": "display_data"
    }
   ],
   "source": [
    "sns.scatterplot(x=train.pickup_longitude, y=train.dropoff_longitude)\n",
    "plt.show()"
   ]
  },
  {
   "cell_type": "code",
   "execution_count": 51,
   "id": "67aa9302",
   "metadata": {},
   "outputs": [
    {
     "data": {
      "image/png": "[encoded data removed]",
      "text/plain": [
       "<Figure size 432x288 with 1 Axes>"
      ]
     },
     "metadata": {
      "needs_background": "light"
     },
     "output_type": "display_data"
    }
   ],
   "source": [
    "sns.scatterplot(x=train.pickup_latitude, y=train.dropoff_latitude)\n",
    "plt.show()"
   ]
  },
  {
   "cell_type": "markdown",
   "id": "e6d6239a",
   "metadata": {},
   "source": [
    "#### working with test data pipeline"
   ]
  },
  {
   "cell_type": "code",
   "execution_count": 43,
   "id": "49244d14",
   "metadata": {},
   "outputs": [],
   "source": [
    "def test_pipeline(test_df):\n",
    "    test_df['pickup_datetime'] = pd.to_datetime(test_df['pickup_datetime'])\n",
    "    add_dateparts(test_df, 'pickup_datetime')\n",
    "    \n",
    "    for name, lonlat in [('jkf', jfk_lonlat), ('lga', lga_lonlat), \n",
    "                     ('ewr', ewr_lonlat), ('met', met_lonlat), ('wtc', wtc_lonlat)]:\n",
    "        \n",
    "        add_landmark(test_df, name, lonlat)\n",
    "    test_df = test_df.drop(['pickup_datetime','key'], axis=1)\n",
    "    \n",
    "    return test_df"
   ]
  },
  {
   "cell_type": "code",
   "execution_count": 46,
   "id": "81498417",
   "metadata": {},
   "outputs": [],
   "source": [
    "test_df = test_pipeline(test_df)"
   ]
  },
  {
   "cell_type": "code",
   "execution_count": 47,
   "id": "08bc5408",
   "metadata": {},
   "outputs": [
    {
     "data": {
      "text/html": [
       "<div>\n",
       "<style scoped>\n",
       "    .dataframe tbody tr th:only-of-type {\n",
       "        vertical-align: middle;\n",
       "    }\n",
       "\n",
       "    .dataframe tbody tr th {\n",
       "        vertical-align: top;\n",
       "    }\n",
       "\n",
       "    .dataframe thead th {\n",
       "        text-align: right;\n",
       "    }\n",
       "</style>\n",
       "<table border=\"1\" class=\"dataframe\">\n",
       "  <thead>\n",
       "    <tr style=\"text-align: right;\">\n",
       "      <th></th>\n",
       "      <th>pickup_longitude</th>\n",
       "      <th>pickup_latitude</th>\n",
       "      <th>dropoff_longitude</th>\n",
       "      <th>dropoff_latitude</th>\n",
       "      <th>passenger_count</th>\n",
       "      <th>pickup_datetime_year</th>\n",
       "      <th>pickup_datetime_month</th>\n",
       "      <th>pickup_datetime_day</th>\n",
       "      <th>pickup_datetime_weekday</th>\n",
       "      <th>pickup_datetime_hour</th>\n",
       "      <th>jkf_drop_distance</th>\n",
       "      <th>lga_drop_distance</th>\n",
       "      <th>ewr_drop_distance</th>\n",
       "      <th>met_drop_distance</th>\n",
       "      <th>wtc_drop_distance</th>\n",
       "    </tr>\n",
       "  </thead>\n",
       "  <tbody>\n",
       "    <tr>\n",
       "      <th>0</th>\n",
       "      <td>-73.973320</td>\n",
       "      <td>40.763805</td>\n",
       "      <td>-73.981430</td>\n",
       "      <td>40.743835</td>\n",
       "      <td>1</td>\n",
       "      <td>2015</td>\n",
       "      <td>1</td>\n",
       "      <td>27</td>\n",
       "      <td>1</td>\n",
       "      <td>13</td>\n",
       "      <td>20.58</td>\n",
       "      <td>9.76</td>\n",
       "      <td>17.35</td>\n",
       "      <td>4.24</td>\n",
       "      <td>4.22</td>\n",
       "    </tr>\n",
       "    <tr>\n",
       "      <th>1</th>\n",
       "      <td>-73.986862</td>\n",
       "      <td>40.719383</td>\n",
       "      <td>-73.998886</td>\n",
       "      <td>40.739201</td>\n",
       "      <td>1</td>\n",
       "      <td>2015</td>\n",
       "      <td>1</td>\n",
       "      <td>27</td>\n",
       "      <td>1</td>\n",
       "      <td>13</td>\n",
       "      <td>21.55</td>\n",
       "      <td>11.32</td>\n",
       "      <td>15.79</td>\n",
       "      <td>5.38</td>\n",
       "      <td>3.10</td>\n",
       "    </tr>\n",
       "    <tr>\n",
       "      <th>2</th>\n",
       "      <td>-73.982524</td>\n",
       "      <td>40.751260</td>\n",
       "      <td>-73.979654</td>\n",
       "      <td>40.746139</td>\n",
       "      <td>1</td>\n",
       "      <td>2011</td>\n",
       "      <td>10</td>\n",
       "      <td>8</td>\n",
       "      <td>5</td>\n",
       "      <td>11</td>\n",
       "      <td>20.59</td>\n",
       "      <td>9.53</td>\n",
       "      <td>17.58</td>\n",
       "      <td>3.95</td>\n",
       "      <td>4.51</td>\n",
       "    </tr>\n",
       "    <tr>\n",
       "      <th>3</th>\n",
       "      <td>-73.981160</td>\n",
       "      <td>40.767807</td>\n",
       "      <td>-73.990448</td>\n",
       "      <td>40.751635</td>\n",
       "      <td>1</td>\n",
       "      <td>2012</td>\n",
       "      <td>12</td>\n",
       "      <td>1</td>\n",
       "      <td>5</td>\n",
       "      <td>21</td>\n",
       "      <td>21.69</td>\n",
       "      <td>10.20</td>\n",
       "      <td>16.97</td>\n",
       "      <td>3.84</td>\n",
       "      <td>4.64</td>\n",
       "    </tr>\n",
       "    <tr>\n",
       "      <th>4</th>\n",
       "      <td>-73.966046</td>\n",
       "      <td>40.789775</td>\n",
       "      <td>-73.988565</td>\n",
       "      <td>40.744427</td>\n",
       "      <td>1</td>\n",
       "      <td>2012</td>\n",
       "      <td>12</td>\n",
       "      <td>1</td>\n",
       "      <td>5</td>\n",
       "      <td>21</td>\n",
       "      <td>21.11</td>\n",
       "      <td>10.30</td>\n",
       "      <td>16.81</td>\n",
       "      <td>4.43</td>\n",
       "      <td>3.97</td>\n",
       "    </tr>\n",
       "  </tbody>\n",
       "</table>\n",
       "</div>"
      ],
      "text/plain": [
       "   pickup_longitude  pickup_latitude  dropoff_longitude  dropoff_latitude  \\\n",
       "0        -73.973320        40.763805         -73.981430         40.743835   \n",
       "1        -73.986862        40.719383         -73.998886         40.739201   \n",
       "2        -73.982524        40.751260         -73.979654         40.746139   \n",
       "3        -73.981160        40.767807         -73.990448         40.751635   \n",
       "4        -73.966046        40.789775         -73.988565         40.744427   \n",
       "\n",
       "   passenger_count  pickup_datetime_year  pickup_datetime_month  \\\n",
       "0                1                  2015                      1   \n",
       "1                1                  2015                      1   \n",
       "2                1                  2011                     10   \n",
       "3                1                  2012                     12   \n",
       "4                1                  2012                     12   \n",
       "\n",
       "   pickup_datetime_day  pickup_datetime_weekday  pickup_datetime_hour  \\\n",
       "0                   27                        1                    13   \n",
       "1                   27                        1                    13   \n",
       "2                    8                        5                    11   \n",
       "3                    1                        5                    21   \n",
       "4                    1                        5                    21   \n",
       "\n",
       "   jkf_drop_distance  lga_drop_distance  ewr_drop_distance  met_drop_distance  \\\n",
       "0              20.58               9.76              17.35               4.24   \n",
       "1              21.55              11.32              15.79               5.38   \n",
       "2              20.59               9.53              17.58               3.95   \n",
       "3              21.69              10.20              16.97               3.84   \n",
       "4              21.11              10.30              16.81               4.43   \n",
       "\n",
       "   wtc_drop_distance  \n",
       "0               4.22  \n",
       "1               3.10  \n",
       "2               4.51  \n",
       "3               4.64  \n",
       "4               3.97  "
      ]
     },
     "execution_count": 47,
     "metadata": {},
     "output_type": "execute_result"
    }
   ],
   "source": [
    "test_df.head()"
   ]
  },
  {
   "cell_type": "markdown",
   "id": "e94d0a23",
   "metadata": {},
   "source": [
    "#### splitting data into train and validation"
   ]
  },
  {
   "cell_type": "code",
   "execution_count": 60,
   "id": "bc57adea",
   "metadata": {},
   "outputs": [],
   "source": [
    "from sklearn.model_selection import train_test_split"
   ]
  },
  {
   "cell_type": "code",
   "execution_count": 61,
   "id": "ce1e074c",
   "metadata": {},
   "outputs": [],
   "source": [
    "train_df, val_df = train_test_split(train, test_size=0.2, random_state=42)"
   ]
  },
  {
   "cell_type": "code",
   "execution_count": 62,
   "id": "ea030c36",
   "metadata": {},
   "outputs": [
    {
     "data": {
      "text/plain": [
       "(10807801, 2701951)"
      ]
     },
     "execution_count": 62,
     "metadata": {},
     "output_type": "execute_result"
    }
   ],
   "source": [
    "len(train_df), len(val_df)"
   ]
  },
  {
   "cell_type": "code",
   "execution_count": 63,
   "id": "10ab9ef8",
   "metadata": {},
   "outputs": [
    {
     "data": {
      "text/plain": [
       "Index(['fare_amount', 'pickup_longitude', 'pickup_latitude',\n",
       "       'dropoff_longitude', 'dropoff_latitude', 'passenger_count',\n",
       "       'pickup_datetime_year', 'pickup_datetime_month', 'pickup_datetime_day',\n",
       "       'pickup_datetime_weekday', 'pickup_datetime_hour', 'jkf_drop_distance',\n",
       "       'lga_drop_distance', 'ewr_drop_distance', 'met_drop_distance',\n",
       "       'wtc_drop_distance'],\n",
       "      dtype='object')"
      ]
     },
     "execution_count": 63,
     "metadata": {},
     "output_type": "execute_result"
    }
   ],
   "source": [
    "train.columns"
   ]
  },
  {
   "cell_type": "code",
   "execution_count": 64,
   "id": "b3829bec",
   "metadata": {},
   "outputs": [],
   "source": [
    "x_cols = ['pickup_longitude', 'pickup_latitude',\n",
    "       'dropoff_longitude', 'dropoff_latitude', 'passenger_count',\n",
    "       'pickup_datetime_year', 'pickup_datetime_month', 'pickup_datetime_day',\n",
    "       'pickup_datetime_weekday', 'pickup_datetime_hour', 'jkf_drop_distance',\n",
    "       'lga_drop_distance', 'ewr_drop_distance', 'met_drop_distance',\n",
    "       'wtc_drop_distance']\n",
    "y_cols = 'fare_amount'"
   ]
  },
  {
   "cell_type": "code",
   "execution_count": 65,
   "id": "4f04a651",
   "metadata": {},
   "outputs": [],
   "source": [
    "x_train = train_df[x_cols]\n",
    "y_train = train_df[y_cols]"
   ]
  },
  {
   "cell_type": "code",
   "execution_count": 66,
   "id": "c4210dd4",
   "metadata": {},
   "outputs": [
    {
     "data": {
      "text/html": [
       "<div>\n",
       "<style scoped>\n",
       "    .dataframe tbody tr th:only-of-type {\n",
       "        vertical-align: middle;\n",
       "    }\n",
       "\n",
       "    .dataframe tbody tr th {\n",
       "        vertical-align: top;\n",
       "    }\n",
       "\n",
       "    .dataframe thead th {\n",
       "        text-align: right;\n",
       "    }\n",
       "</style>\n",
       "<table border=\"1\" class=\"dataframe\">\n",
       "  <thead>\n",
       "    <tr style=\"text-align: right;\">\n",
       "      <th></th>\n",
       "      <th>pickup_longitude</th>\n",
       "      <th>pickup_latitude</th>\n",
       "      <th>dropoff_longitude</th>\n",
       "      <th>dropoff_latitude</th>\n",
       "      <th>passenger_count</th>\n",
       "      <th>pickup_datetime_year</th>\n",
       "      <th>pickup_datetime_month</th>\n",
       "      <th>pickup_datetime_day</th>\n",
       "      <th>pickup_datetime_weekday</th>\n",
       "      <th>pickup_datetime_hour</th>\n",
       "      <th>jkf_drop_distance</th>\n",
       "      <th>lga_drop_distance</th>\n",
       "      <th>ewr_drop_distance</th>\n",
       "      <th>met_drop_distance</th>\n",
       "      <th>wtc_drop_distance</th>\n",
       "    </tr>\n",
       "  </thead>\n",
       "  <tbody>\n",
       "    <tr>\n",
       "      <th>3695519</th>\n",
       "      <td>-73.929825</td>\n",
       "      <td>40.798866</td>\n",
       "      <td>-73.938881</td>\n",
       "      <td>40.805061</td>\n",
       "      <td>1</td>\n",
       "      <td>2015</td>\n",
       "      <td>5</td>\n",
       "      <td>22</td>\n",
       "      <td>4</td>\n",
       "      <td>11</td>\n",
       "      <td>22.68</td>\n",
       "      <td>6.29</td>\n",
       "      <td>23.63</td>\n",
       "      <td>3.51</td>\n",
       "      <td>11.89</td>\n",
       "    </tr>\n",
       "    <tr>\n",
       "      <th>11216172</th>\n",
       "      <td>-73.951903</td>\n",
       "      <td>40.777088</td>\n",
       "      <td>-73.961367</td>\n",
       "      <td>40.774184</td>\n",
       "      <td>1</td>\n",
       "      <td>2012</td>\n",
       "      <td>8</td>\n",
       "      <td>8</td>\n",
       "      <td>2</td>\n",
       "      <td>8</td>\n",
       "      <td>21.36</td>\n",
       "      <td>7.36</td>\n",
       "      <td>20.26</td>\n",
       "      <td>0.60</td>\n",
       "      <td>7.97</td>\n",
       "    </tr>\n",
       "    <tr>\n",
       "      <th>5654469</th>\n",
       "      <td>-73.984304</td>\n",
       "      <td>40.747818</td>\n",
       "      <td>-73.976878</td>\n",
       "      <td>40.752148</td>\n",
       "      <td>1</td>\n",
       "      <td>2010</td>\n",
       "      <td>5</td>\n",
       "      <td>3</td>\n",
       "      <td>0</td>\n",
       "      <td>18</td>\n",
       "      <td>20.79</td>\n",
       "      <td>9.09</td>\n",
       "      <td>18.04</td>\n",
       "      <td>3.24</td>\n",
       "      <td>5.20</td>\n",
       "    </tr>\n",
       "    <tr>\n",
       "      <th>3376032</th>\n",
       "      <td>-73.945727</td>\n",
       "      <td>40.777713</td>\n",
       "      <td>-73.929480</td>\n",
       "      <td>40.807882</td>\n",
       "      <td>1</td>\n",
       "      <td>2011</td>\n",
       "      <td>2</td>\n",
       "      <td>28</td>\n",
       "      <td>0</td>\n",
       "      <td>20</td>\n",
       "      <td>22.48</td>\n",
       "      <td>5.80</td>\n",
       "      <td>24.47</td>\n",
       "      <td>4.25</td>\n",
       "      <td>12.57</td>\n",
       "    </tr>\n",
       "    <tr>\n",
       "      <th>10151063</th>\n",
       "      <td>-73.966717</td>\n",
       "      <td>40.757422</td>\n",
       "      <td>-73.975892</td>\n",
       "      <td>40.744847</td>\n",
       "      <td>1</td>\n",
       "      <td>2012</td>\n",
       "      <td>8</td>\n",
       "      <td>3</td>\n",
       "      <td>4</td>\n",
       "      <td>16</td>\n",
       "      <td>20.25</td>\n",
       "      <td>9.29</td>\n",
       "      <td>17.82</td>\n",
       "      <td>3.99</td>\n",
       "      <td>4.59</td>\n",
       "    </tr>\n",
       "  </tbody>\n",
       "</table>\n",
       "</div>"
      ],
      "text/plain": [
       "          pickup_longitude  pickup_latitude  dropoff_longitude  \\\n",
       "3695519         -73.929825        40.798866         -73.938881   \n",
       "11216172        -73.951903        40.777088         -73.961367   \n",
       "5654469         -73.984304        40.747818         -73.976878   \n",
       "3376032         -73.945727        40.777713         -73.929480   \n",
       "10151063        -73.966717        40.757422         -73.975892   \n",
       "\n",
       "          dropoff_latitude  passenger_count  pickup_datetime_year  \\\n",
       "3695519          40.805061                1                  2015   \n",
       "11216172         40.774184                1                  2012   \n",
       "5654469          40.752148                1                  2010   \n",
       "3376032          40.807882                1                  2011   \n",
       "10151063         40.744847                1                  2012   \n",
       "\n",
       "          pickup_datetime_month  pickup_datetime_day  pickup_datetime_weekday  \\\n",
       "3695519                       5                   22                        4   \n",
       "11216172                      8                    8                        2   \n",
       "5654469                       5                    3                        0   \n",
       "3376032                       2                   28                        0   \n",
       "10151063                      8                    3                        4   \n",
       "\n",
       "          pickup_datetime_hour  jkf_drop_distance  lga_drop_distance  \\\n",
       "3695519                     11              22.68               6.29   \n",
       "11216172                     8              21.36               7.36   \n",
       "5654469                     18              20.79               9.09   \n",
       "3376032                     20              22.48               5.80   \n",
       "10151063                    16              20.25               9.29   \n",
       "\n",
       "          ewr_drop_distance  met_drop_distance  wtc_drop_distance  \n",
       "3695519               23.63               3.51              11.89  \n",
       "11216172              20.26               0.60               7.97  \n",
       "5654469               18.04               3.24               5.20  \n",
       "3376032               24.47               4.25              12.57  \n",
       "10151063              17.82               3.99               4.59  "
      ]
     },
     "execution_count": 66,
     "metadata": {},
     "output_type": "execute_result"
    }
   ],
   "source": [
    "x_train.head()"
   ]
  },
  {
   "cell_type": "code",
   "execution_count": 67,
   "id": "7ba6f70a",
   "metadata": {},
   "outputs": [
    {
     "data": {
      "text/plain": [
       "3695519     6.0\n",
       "11216172    5.7\n",
       "5654469     5.3\n",
       "3376032     8.9\n",
       "10151063    5.3\n",
       "Name: fare_amount, dtype: float64"
      ]
     },
     "execution_count": 67,
     "metadata": {},
     "output_type": "execute_result"
    }
   ],
   "source": [
    "y_train.head()"
   ]
  },
  {
   "cell_type": "code",
   "execution_count": 68,
   "id": "8ed42f73",
   "metadata": {},
   "outputs": [],
   "source": [
    "x_val = val_df[x_cols]\n",
    "y_val = val_df[y_cols]"
   ]
  },
  {
   "cell_type": "code",
   "execution_count": 69,
   "id": "9d28622e",
   "metadata": {},
   "outputs": [
    {
     "data": {
      "text/plain": [
       "array([ True,  True,  True,  True,  True,  True,  True,  True,  True,\n",
       "        True,  True,  True,  True,  True,  True])"
      ]
     },
     "execution_count": 69,
     "metadata": {},
     "output_type": "execute_result"
    }
   ],
   "source": [
    "test_df.columns == x_train.columns"
   ]
  },
  {
   "cell_type": "markdown",
   "id": "e1ed27a9",
   "metadata": {},
   "source": [
    "### Modeling and Evaluation"
   ]
  },
  {
   "cell_type": "code",
   "execution_count": 70,
   "id": "f6a51210",
   "metadata": {},
   "outputs": [],
   "source": [
    "from sklearn.metrics import mean_squared_error\n",
    "from sklearn.metrics import r2_score"
   ]
  },
  {
   "cell_type": "code",
   "execution_count": 71,
   "id": "3c9e02ad",
   "metadata": {},
   "outputs": [],
   "source": [
    "def evaluate(model):\n",
    "    model.fit(x_train, y_train)\n",
    "    train_pred = model.predict(x_train)\n",
    "    train_rmse = mean_squared_error(y_train, train_pred, squared=False)\n",
    "    val_pred = model.predict(x_val)\n",
    "    val_rmse = mean_squared_error(y_val, val_pred, squared=False)\n",
    "    r2_train= r2_score(y_train, train_pred)\n",
    "    r2_val = r2_score(y_val, val_pred)\n",
    "    print('train RMSE                 :', train_rmse)\n",
    "    print('validatin RMSE             :', val_rmse)\n",
    "    print('R2 Score on Validation data:',r2_val)\n",
    "    print('R2 Score on training data  :',r2_train)\n",
    "    return model"
   ]
  },
  {
   "cell_type": "markdown",
   "id": "8bcd7dbd",
   "metadata": {},
   "source": [
    "#### 1. Ridge regression"
   ]
  },
  {
   "cell_type": "code",
   "execution_count": 75,
   "id": "245bc040",
   "metadata": {},
   "outputs": [],
   "source": [
    "from sklearn.linear_model import Ridge\n",
    "\n",
    "model_R = Ridge(random_state=42)"
   ]
  },
  {
   "cell_type": "code",
   "execution_count": 76,
   "id": "f517ed42",
   "metadata": {},
   "outputs": [
    {
     "name": "stdout",
     "output_type": "stream",
     "text": [
      "train RMSE                 : 7.138005004964509\n",
      "validatin RMSE             : 7.097106118355579\n",
      "R2 Score on Validation data: 0.4630785503489425\n",
      "R2 Score on training data  : 0.45821869743865684\n"
     ]
    }
   ],
   "source": [
    "model_R = evaluate(model_R)"
   ]
  },
  {
   "cell_type": "markdown",
   "id": "e3870dbb",
   "metadata": {},
   "source": [
    "#### 2. Random Forest"
   ]
  },
  {
   "cell_type": "code",
   "execution_count": 77,
   "id": "b482b419",
   "metadata": {},
   "outputs": [],
   "source": [
    "from sklearn.ensemble import RandomForestRegressor\n",
    "\n",
    "model_RF = RandomForestRegressor(max_depth=10, n_jobs=-1, random_state=7, n_estimators=50)"
   ]
  },
  {
   "cell_type": "code",
   "execution_count": 79,
   "id": "e6fd6505",
   "metadata": {},
   "outputs": [
    {
     "name": "stdout",
     "output_type": "stream",
     "text": [
      "train RMSE                 : 4.772996579671811\n",
      "validatin RMSE             : 4.744059802211797\n",
      "R2 Score on Validation data: 0.760089936302232\n",
      "R2 Score on training data  : 0.757756259949696\n"
     ]
    }
   ],
   "source": [
    "model_RF = evaluate(model_RF)"
   ]
  },
  {
   "cell_type": "markdown",
   "id": "2b389ade",
   "metadata": {},
   "source": [
    "#### 3. XGboost"
   ]
  },
  {
   "cell_type": "code",
   "execution_count": null,
   "id": "cfab2de1",
   "metadata": {},
   "outputs": [],
   "source": [
    "#!pip install xgboost"
   ]
  },
  {
   "cell_type": "code",
   "execution_count": 80,
   "id": "9a79ba7a",
   "metadata": {},
   "outputs": [],
   "source": [
    "from xgboost import XGBRegressor\n",
    "\n",
    "model_xgb = XGBRegressor(random_state=42, n_jobs=-1, objective='reg:squarederror')"
   ]
  },
  {
   "cell_type": "code",
   "execution_count": 82,
   "id": "62fad6ef",
   "metadata": {},
   "outputs": [
    {
     "name": "stdout",
     "output_type": "stream",
     "text": [
      "train RMSE                 : 3.824104849574973\n",
      "validatin RMSE             : 3.7910113226739752\n",
      "R2 Score on Validation data: 0.8468001573723913\n",
      "R2 Score on training data  : 0.8445001769007555\n"
     ]
    }
   ],
   "source": [
    "model_xgb = evaluate(model_xgb)"
   ]
  },
  {
   "cell_type": "markdown",
   "id": "c9e68085",
   "metadata": {},
   "source": [
    "#### 4. light GBM model"
   ]
  },
  {
   "cell_type": "code",
   "execution_count": null,
   "id": "42da0c6e",
   "metadata": {},
   "outputs": [],
   "source": [
    "#!pip install lightgbm"
   ]
  },
  {
   "cell_type": "code",
   "execution_count": 83,
   "id": "c51bb8a7",
   "metadata": {},
   "outputs": [],
   "source": [
    "import lightgbm as lgb"
   ]
  },
  {
   "cell_type": "code",
   "execution_count": 84,
   "id": "b24c9e98",
   "metadata": {},
   "outputs": [],
   "source": [
    "params = {\n",
    "    'objective': 'regression',\n",
    "    'max_bin': 300,\n",
    "    'learning_rate': 0.025,\n",
    "    'num_leaves': 40,\n",
    "}"
   ]
  },
  {
   "cell_type": "code",
   "execution_count": 104,
   "id": "ec719597",
   "metadata": {
    "scrolled": false
   },
   "outputs": [
    {
     "name": "stdout",
     "output_type": "stream",
     "text": [
      "[LightGBM] [Warning] Auto-choosing row-wise multi-threading, the overhead of testing was 0.168607 seconds.\n",
      "You can set `force_row_wise=true` to remove the overhead.\n",
      "And if memory is not enough, you can set `force_col_wise=true`.\n",
      "[LightGBM] [Info] Total Bins 2791\n",
      "[LightGBM] [Info] Number of data points in the train set: 10807801, number of used features: 15\n",
      "[LightGBM] [Info] Start training from score 11.331366\n",
      "Training until validation scores don't improve for 20 rounds\n",
      "[10]\ttraining's l2: 68.4865\tvalid_1's l2: 68.1752\n",
      "[20]\ttraining's l2: 52.5314\tvalid_1's l2: 52.1527\n",
      "[30]\ttraining's l2: 42.239\tvalid_1's l2: 41.8018\n",
      "[40]\ttraining's l2: 35.6255\tvalid_1's l2: 35.1329\n",
      "[50]\ttraining's l2: 31.2171\tvalid_1's l2: 30.6867\n",
      "[60]\ttraining's l2: 28.217\tvalid_1's l2: 27.6507\n",
      "[70]\ttraining's l2: 26.0614\tvalid_1's l2: 25.4618\n",
      "[80]\ttraining's l2: 24.3551\tvalid_1's l2: 23.7313\n",
      "[90]\ttraining's l2: 23.1023\tvalid_1's l2: 22.458\n",
      "[100]\ttraining's l2: 22.0869\tvalid_1's l2: 21.4281\n",
      "[110]\ttraining's l2: 21.2675\tvalid_1's l2: 20.5995\n",
      "[120]\ttraining's l2: 20.6231\tvalid_1's l2: 19.95\n",
      "[130]\ttraining's l2: 20.1145\tvalid_1's l2: 19.4358\n",
      "[140]\ttraining's l2: 19.5946\tvalid_1's l2: 18.9127\n",
      "[150]\ttraining's l2: 19.2661\tvalid_1's l2: 18.5851\n",
      "[160]\ttraining's l2: 18.9982\tvalid_1's l2: 18.3239\n",
      "[170]\ttraining's l2: 18.7708\tvalid_1's l2: 18.102\n",
      "[180]\ttraining's l2: 18.593\tvalid_1's l2: 17.9286\n",
      "[190]\ttraining's l2: 18.3624\tvalid_1's l2: 17.7009\n",
      "[200]\ttraining's l2: 18.1881\tvalid_1's l2: 17.5299\n",
      "[210]\ttraining's l2: 18.0337\tvalid_1's l2: 17.3787\n",
      "[220]\ttraining's l2: 17.8263\tvalid_1's l2: 17.1747\n",
      "[230]\ttraining's l2: 17.6721\tvalid_1's l2: 17.0233\n",
      "[240]\ttraining's l2: 17.5266\tvalid_1's l2: 16.8807\n",
      "[250]\ttraining's l2: 17.377\tvalid_1's l2: 16.7326\n",
      "[260]\ttraining's l2: 17.2546\tvalid_1's l2: 16.6135\n",
      "[270]\ttraining's l2: 17.1458\tvalid_1's l2: 16.5065\n",
      "[280]\ttraining's l2: 17.0377\tvalid_1's l2: 16.4017\n",
      "[290]\ttraining's l2: 16.9299\tvalid_1's l2: 16.2956\n",
      "[300]\ttraining's l2: 16.8344\tvalid_1's l2: 16.2024\n",
      "[310]\ttraining's l2: 16.7262\tvalid_1's l2: 16.0968\n",
      "[320]\ttraining's l2: 16.6515\tvalid_1's l2: 16.0287\n",
      "[330]\ttraining's l2: 16.5839\tvalid_1's l2: 15.9659\n",
      "[340]\ttraining's l2: 16.5014\tvalid_1's l2: 15.8871\n",
      "[350]\ttraining's l2: 16.4133\tvalid_1's l2: 15.8043\n",
      "[360]\ttraining's l2: 16.3289\tvalid_1's l2: 15.7225\n",
      "[370]\ttraining's l2: 16.2592\tvalid_1's l2: 15.6574\n",
      "[380]\ttraining's l2: 16.1852\tvalid_1's l2: 15.5843\n",
      "[390]\ttraining's l2: 16.1134\tvalid_1's l2: 15.5181\n",
      "[400]\ttraining's l2: 16.049\tvalid_1's l2: 15.4584\n",
      "[410]\ttraining's l2: 15.9886\tvalid_1's l2: 15.4039\n",
      "[420]\ttraining's l2: 15.9381\tvalid_1's l2: 15.3551\n",
      "[430]\ttraining's l2: 15.8853\tvalid_1's l2: 15.3081\n",
      "[440]\ttraining's l2: 15.8273\tvalid_1's l2: 15.2557\n",
      "[450]\ttraining's l2: 15.7713\tvalid_1's l2: 15.2035\n",
      "[460]\ttraining's l2: 15.722\tvalid_1's l2: 15.1581\n",
      "[470]\ttraining's l2: 15.6728\tvalid_1's l2: 15.1128\n",
      "[480]\ttraining's l2: 15.6206\tvalid_1's l2: 15.0646\n",
      "[490]\ttraining's l2: 15.5755\tvalid_1's l2: 15.0259\n",
      "[500]\ttraining's l2: 15.5289\tvalid_1's l2: 14.9838\n",
      "[510]\ttraining's l2: 15.4894\tvalid_1's l2: 14.9491\n",
      "[520]\ttraining's l2: 15.456\tvalid_1's l2: 14.9225\n",
      "[530]\ttraining's l2: 15.4136\tvalid_1's l2: 14.8867\n",
      "[540]\ttraining's l2: 15.385\tvalid_1's l2: 14.8644\n",
      "[550]\ttraining's l2: 15.3515\tvalid_1's l2: 14.8358\n",
      "[560]\ttraining's l2: 15.3166\tvalid_1's l2: 14.8042\n",
      "[570]\ttraining's l2: 15.2806\tvalid_1's l2: 14.7707\n",
      "[580]\ttraining's l2: 15.2508\tvalid_1's l2: 14.7457\n",
      "[590]\ttraining's l2: 15.2209\tvalid_1's l2: 14.7191\n",
      "[600]\ttraining's l2: 15.1899\tvalid_1's l2: 14.6914\n",
      "[610]\ttraining's l2: 15.1557\tvalid_1's l2: 14.6607\n",
      "[620]\ttraining's l2: 15.1296\tvalid_1's l2: 14.6409\n",
      "[630]\ttraining's l2: 15.0926\tvalid_1's l2: 14.6062\n",
      "[640]\ttraining's l2: 15.0682\tvalid_1's l2: 14.5862\n",
      "[650]\ttraining's l2: 15.0452\tvalid_1's l2: 14.5682\n",
      "[660]\ttraining's l2: 15.0187\tvalid_1's l2: 14.5449\n",
      "[670]\ttraining's l2: 14.9934\tvalid_1's l2: 14.5251\n",
      "[680]\ttraining's l2: 14.9691\tvalid_1's l2: 14.5038\n",
      "[690]\ttraining's l2: 14.9443\tvalid_1's l2: 14.4825\n",
      "[700]\ttraining's l2: 14.9241\tvalid_1's l2: 14.4696\n",
      "[710]\ttraining's l2: 14.8987\tvalid_1's l2: 14.4469\n",
      "[720]\ttraining's l2: 14.8737\tvalid_1's l2: 14.4242\n",
      "[730]\ttraining's l2: 14.8519\tvalid_1's l2: 14.4046\n",
      "[740]\ttraining's l2: 14.8368\tvalid_1's l2: 14.3919\n",
      "[750]\ttraining's l2: 14.8136\tvalid_1's l2: 14.3729\n",
      "[760]\ttraining's l2: 14.7957\tvalid_1's l2: 14.3602\n",
      "[770]\ttraining's l2: 14.775\tvalid_1's l2: 14.344\n",
      "[780]\ttraining's l2: 14.7591\tvalid_1's l2: 14.3321\n",
      "[790]\ttraining's l2: 14.7393\tvalid_1's l2: 14.3154\n",
      "[800]\ttraining's l2: 14.7207\tvalid_1's l2: 14.3002\n",
      "[810]\ttraining's l2: 14.7048\tvalid_1's l2: 14.2884\n",
      "[820]\ttraining's l2: 14.6862\tvalid_1's l2: 14.2725\n",
      "[830]\ttraining's l2: 14.6722\tvalid_1's l2: 14.2635\n",
      "[840]\ttraining's l2: 14.6556\tvalid_1's l2: 14.2507\n",
      "[850]\ttraining's l2: 14.6403\tvalid_1's l2: 14.2386\n",
      "[860]\ttraining's l2: 14.6253\tvalid_1's l2: 14.228\n",
      "[870]\ttraining's l2: 14.6105\tvalid_1's l2: 14.2185\n",
      "[880]\ttraining's l2: 14.5913\tvalid_1's l2: 14.2063\n",
      "[890]\ttraining's l2: 14.5763\tvalid_1's l2: 14.1968\n",
      "[900]\ttraining's l2: 14.5581\tvalid_1's l2: 14.1819\n",
      "[910]\ttraining's l2: 14.5422\tvalid_1's l2: 14.1701\n",
      "[920]\ttraining's l2: 14.5257\tvalid_1's l2: 14.1616\n",
      "[930]\ttraining's l2: 14.5083\tvalid_1's l2: 14.1472\n",
      "[940]\ttraining's l2: 14.4911\tvalid_1's l2: 14.1334\n",
      "[950]\ttraining's l2: 14.4775\tvalid_1's l2: 14.1228\n",
      "[960]\ttraining's l2: 14.4636\tvalid_1's l2: 14.113\n",
      "[970]\ttraining's l2: 14.4504\tvalid_1's l2: 14.1033\n",
      "[980]\ttraining's l2: 14.4362\tvalid_1's l2: 14.0915\n",
      "[990]\ttraining's l2: 14.4177\tvalid_1's l2: 14.0765\n",
      "[1000]\ttraining's l2: 14.4034\tvalid_1's l2: 14.0645\n",
      "[1010]\ttraining's l2: 14.3927\tvalid_1's l2: 14.0585\n",
      "[1020]\ttraining's l2: 14.3779\tvalid_1's l2: 14.0468\n",
      "[1030]\ttraining's l2: 14.3627\tvalid_1's l2: 14.0341\n",
      "[1040]\ttraining's l2: 14.35\tvalid_1's l2: 14.0255\n",
      "[1050]\ttraining's l2: 14.3363\tvalid_1's l2: 14.0164\n",
      "[1060]\ttraining's l2: 14.3242\tvalid_1's l2: 14.0075\n",
      "[1070]\ttraining's l2: 14.312\tvalid_1's l2: 13.9996\n",
      "[1080]\ttraining's l2: 14.2985\tvalid_1's l2: 13.9898\n",
      "[1090]\ttraining's l2: 14.2824\tvalid_1's l2: 13.9798\n",
      "[1100]\ttraining's l2: 14.2699\tvalid_1's l2: 13.9707\n",
      "[1110]\ttraining's l2: 14.2581\tvalid_1's l2: 13.9616\n",
      "[1120]\ttraining's l2: 14.2426\tvalid_1's l2: 13.9492\n",
      "[1130]\ttraining's l2: 14.2301\tvalid_1's l2: 13.9407\n",
      "[1140]\ttraining's l2: 14.2195\tvalid_1's l2: 13.9346\n",
      "[1150]\ttraining's l2: 14.2098\tvalid_1's l2: 13.9275\n",
      "[1160]\ttraining's l2: 14.1985\tvalid_1's l2: 13.9198\n",
      "[1170]\ttraining's l2: 14.186\tvalid_1's l2: 13.9123\n",
      "[1180]\ttraining's l2: 14.1759\tvalid_1's l2: 13.9061\n",
      "[1190]\ttraining's l2: 14.1619\tvalid_1's l2: 13.8955\n",
      "[1200]\ttraining's l2: 14.1501\tvalid_1's l2: 13.8869\n",
      "[1210]\ttraining's l2: 14.1384\tvalid_1's l2: 13.8793\n",
      "[1220]\ttraining's l2: 14.1267\tvalid_1's l2: 13.8702\n",
      "[1230]\ttraining's l2: 14.1128\tvalid_1's l2: 13.8603\n",
      "[1240]\ttraining's l2: 14.101\tvalid_1's l2: 13.8531\n",
      "[1250]\ttraining's l2: 14.0898\tvalid_1's l2: 13.8452\n",
      "[1260]\ttraining's l2: 14.0804\tvalid_1's l2: 13.8395\n",
      "[1270]\ttraining's l2: 14.0674\tvalid_1's l2: 13.8282\n",
      "[1280]\ttraining's l2: 14.0539\tvalid_1's l2: 13.8185\n",
      "[1290]\ttraining's l2: 14.0437\tvalid_1's l2: 13.8109\n",
      "[1300]\ttraining's l2: 14.0333\tvalid_1's l2: 13.8046\n",
      "[1310]\ttraining's l2: 14.025\tvalid_1's l2: 13.7988\n",
      "[1320]\ttraining's l2: 14.0172\tvalid_1's l2: 13.7949\n",
      "[1330]\ttraining's l2: 14.0062\tvalid_1's l2: 13.7875\n",
      "[1340]\ttraining's l2: 13.9968\tvalid_1's l2: 13.7825\n",
      "[1350]\ttraining's l2: 13.9889\tvalid_1's l2: 13.7775\n",
      "[1360]\ttraining's l2: 13.9796\tvalid_1's l2: 13.7716\n",
      "[1370]\ttraining's l2: 13.9691\tvalid_1's l2: 13.7648\n",
      "[1380]\ttraining's l2: 13.9587\tvalid_1's l2: 13.7574\n",
      "[1390]\ttraining's l2: 13.9508\tvalid_1's l2: 13.752\n",
      "[1400]\ttraining's l2: 13.9386\tvalid_1's l2: 13.7423\n",
      "[1410]\ttraining's l2: 13.9303\tvalid_1's l2: 13.7382\n",
      "[1420]\ttraining's l2: 13.9206\tvalid_1's l2: 13.7328\n",
      "[1430]\ttraining's l2: 13.9118\tvalid_1's l2: 13.7279\n",
      "[1440]\ttraining's l2: 13.9031\tvalid_1's l2: 13.7237\n",
      "[1450]\ttraining's l2: 13.893\tvalid_1's l2: 13.7161\n",
      "[1460]\ttraining's l2: 13.8795\tvalid_1's l2: 13.7048\n",
      "[1470]\ttraining's l2: 13.8708\tvalid_1's l2: 13.7001\n",
      "[1480]\ttraining's l2: 13.8627\tvalid_1's l2: 13.6946\n",
      "[1490]\ttraining's l2: 13.8543\tvalid_1's l2: 13.6901\n",
      "[1500]\ttraining's l2: 13.8442\tvalid_1's l2: 13.6828\n",
      "[1510]\ttraining's l2: 13.8339\tvalid_1's l2: 13.6762\n"
     ]
    },
    {
     "name": "stdout",
     "output_type": "stream",
     "text": [
      "[1520]\ttraining's l2: 13.8248\tvalid_1's l2: 13.6714\n",
      "[1530]\ttraining's l2: 13.816\tvalid_1's l2: 13.6669\n",
      "[1540]\ttraining's l2: 13.8087\tvalid_1's l2: 13.6636\n",
      "[1550]\ttraining's l2: 13.8003\tvalid_1's l2: 13.658\n",
      "[1560]\ttraining's l2: 13.7919\tvalid_1's l2: 13.6534\n",
      "[1570]\ttraining's l2: 13.7841\tvalid_1's l2: 13.6487\n",
      "[1580]\ttraining's l2: 13.775\tvalid_1's l2: 13.6443\n",
      "[1590]\ttraining's l2: 13.7676\tvalid_1's l2: 13.6407\n",
      "[1600]\ttraining's l2: 13.7593\tvalid_1's l2: 13.6343\n",
      "[1610]\ttraining's l2: 13.7527\tvalid_1's l2: 13.6303\n",
      "[1620]\ttraining's l2: 13.7455\tvalid_1's l2: 13.6256\n",
      "[1630]\ttraining's l2: 13.7379\tvalid_1's l2: 13.6195\n",
      "[1640]\ttraining's l2: 13.7307\tvalid_1's l2: 13.6148\n",
      "[1650]\ttraining's l2: 13.7226\tvalid_1's l2: 13.6086\n",
      "[1660]\ttraining's l2: 13.7129\tvalid_1's l2: 13.6011\n",
      "[1670]\ttraining's l2: 13.7068\tvalid_1's l2: 13.5988\n",
      "[1680]\ttraining's l2: 13.7017\tvalid_1's l2: 13.5964\n",
      "[1690]\ttraining's l2: 13.6948\tvalid_1's l2: 13.5929\n",
      "[1700]\ttraining's l2: 13.6879\tvalid_1's l2: 13.5901\n",
      "[1710]\ttraining's l2: 13.679\tvalid_1's l2: 13.5833\n",
      "[1720]\ttraining's l2: 13.6717\tvalid_1's l2: 13.5796\n",
      "[1730]\ttraining's l2: 13.6635\tvalid_1's l2: 13.5741\n",
      "[1740]\ttraining's l2: 13.6546\tvalid_1's l2: 13.5693\n",
      "[1750]\ttraining's l2: 13.6495\tvalid_1's l2: 13.5667\n",
      "[1760]\ttraining's l2: 13.6408\tvalid_1's l2: 13.561\n",
      "[1770]\ttraining's l2: 13.6345\tvalid_1's l2: 13.5572\n",
      "[1780]\ttraining's l2: 13.6285\tvalid_1's l2: 13.5541\n",
      "[1790]\ttraining's l2: 13.6213\tvalid_1's l2: 13.5503\n",
      "[1800]\ttraining's l2: 13.6147\tvalid_1's l2: 13.5466\n",
      "[1810]\ttraining's l2: 13.6076\tvalid_1's l2: 13.5428\n",
      "[1820]\ttraining's l2: 13.5994\tvalid_1's l2: 13.5377\n",
      "[1830]\ttraining's l2: 13.5933\tvalid_1's l2: 13.5342\n",
      "[1840]\ttraining's l2: 13.5878\tvalid_1's l2: 13.5312\n",
      "[1850]\ttraining's l2: 13.5819\tvalid_1's l2: 13.5287\n",
      "[1860]\ttraining's l2: 13.5757\tvalid_1's l2: 13.5273\n",
      "[1870]\ttraining's l2: 13.5699\tvalid_1's l2: 13.5243\n",
      "[1880]\ttraining's l2: 13.565\tvalid_1's l2: 13.5229\n",
      "[1890]\ttraining's l2: 13.5591\tvalid_1's l2: 13.5204\n",
      "[1900]\ttraining's l2: 13.5539\tvalid_1's l2: 13.5178\n",
      "[1910]\ttraining's l2: 13.5478\tvalid_1's l2: 13.5143\n",
      "[1920]\ttraining's l2: 13.5414\tvalid_1's l2: 13.5114\n",
      "[1930]\ttraining's l2: 13.5333\tvalid_1's l2: 13.5046\n",
      "[1940]\ttraining's l2: 13.5244\tvalid_1's l2: 13.4973\n",
      "[1950]\ttraining's l2: 13.5176\tvalid_1's l2: 13.4938\n",
      "[1960]\ttraining's l2: 13.5097\tvalid_1's l2: 13.4889\n",
      "[1970]\ttraining's l2: 13.5036\tvalid_1's l2: 13.4849\n",
      "[1980]\ttraining's l2: 13.4977\tvalid_1's l2: 13.4825\n",
      "[1990]\ttraining's l2: 13.4904\tvalid_1's l2: 13.4804\n",
      "[2000]\ttraining's l2: 13.4842\tvalid_1's l2: 13.478\n",
      "[2010]\ttraining's l2: 13.4763\tvalid_1's l2: 13.4732\n",
      "[2020]\ttraining's l2: 13.4709\tvalid_1's l2: 13.47\n",
      "[2030]\ttraining's l2: 13.4647\tvalid_1's l2: 13.4673\n",
      "[2040]\ttraining's l2: 13.4586\tvalid_1's l2: 13.4651\n",
      "[2050]\ttraining's l2: 13.4521\tvalid_1's l2: 13.4609\n",
      "[2060]\ttraining's l2: 13.4459\tvalid_1's l2: 13.4585\n",
      "[2070]\ttraining's l2: 13.4392\tvalid_1's l2: 13.4539\n",
      "[2080]\ttraining's l2: 13.434\tvalid_1's l2: 13.4512\n",
      "[2090]\ttraining's l2: 13.4277\tvalid_1's l2: 13.4482\n",
      "[2100]\ttraining's l2: 13.4222\tvalid_1's l2: 13.4459\n",
      "[2110]\ttraining's l2: 13.4166\tvalid_1's l2: 13.4429\n",
      "[2120]\ttraining's l2: 13.4108\tvalid_1's l2: 13.4394\n",
      "[2130]\ttraining's l2: 13.4056\tvalid_1's l2: 13.4377\n",
      "[2140]\ttraining's l2: 13.3991\tvalid_1's l2: 13.4347\n",
      "[2150]\ttraining's l2: 13.3942\tvalid_1's l2: 13.4323\n",
      "[2160]\ttraining's l2: 13.3884\tvalid_1's l2: 13.4287\n",
      "[2170]\ttraining's l2: 13.3819\tvalid_1's l2: 13.4253\n",
      "[2180]\ttraining's l2: 13.3767\tvalid_1's l2: 13.422\n",
      "[2190]\ttraining's l2: 13.3711\tvalid_1's l2: 13.4192\n",
      "[2200]\ttraining's l2: 13.3645\tvalid_1's l2: 13.4145\n",
      "[2210]\ttraining's l2: 13.3571\tvalid_1's l2: 13.4097\n",
      "[2220]\ttraining's l2: 13.3504\tvalid_1's l2: 13.4051\n",
      "[2230]\ttraining's l2: 13.3446\tvalid_1's l2: 13.4013\n",
      "[2240]\ttraining's l2: 13.3402\tvalid_1's l2: 13.399\n",
      "[2250]\ttraining's l2: 13.3338\tvalid_1's l2: 13.3959\n",
      "[2260]\ttraining's l2: 13.3288\tvalid_1's l2: 13.3937\n",
      "[2270]\ttraining's l2: 13.323\tvalid_1's l2: 13.3915\n",
      "[2280]\ttraining's l2: 13.3175\tvalid_1's l2: 13.3886\n",
      "[2290]\ttraining's l2: 13.3128\tvalid_1's l2: 13.3867\n",
      "[2300]\ttraining's l2: 13.3078\tvalid_1's l2: 13.3843\n",
      "[2310]\ttraining's l2: 13.3023\tvalid_1's l2: 13.3815\n",
      "[2320]\ttraining's l2: 13.298\tvalid_1's l2: 13.3791\n",
      "[2330]\ttraining's l2: 13.293\tvalid_1's l2: 13.3772\n",
      "[2340]\ttraining's l2: 13.2872\tvalid_1's l2: 13.374\n",
      "[2350]\ttraining's l2: 13.2831\tvalid_1's l2: 13.372\n",
      "[2360]\ttraining's l2: 13.2763\tvalid_1's l2: 13.3689\n",
      "[2370]\ttraining's l2: 13.2715\tvalid_1's l2: 13.3659\n",
      "[2380]\ttraining's l2: 13.2662\tvalid_1's l2: 13.3637\n",
      "[2390]\ttraining's l2: 13.2612\tvalid_1's l2: 13.3612\n",
      "[2400]\ttraining's l2: 13.2565\tvalid_1's l2: 13.3586\n",
      "[2410]\ttraining's l2: 13.2499\tvalid_1's l2: 13.3539\n",
      "[2420]\ttraining's l2: 13.2446\tvalid_1's l2: 13.3508\n",
      "[2430]\ttraining's l2: 13.2388\tvalid_1's l2: 13.3481\n",
      "[2440]\ttraining's l2: 13.2352\tvalid_1's l2: 13.3464\n",
      "[2450]\ttraining's l2: 13.2304\tvalid_1's l2: 13.3439\n",
      "[2460]\ttraining's l2: 13.225\tvalid_1's l2: 13.3406\n",
      "[2470]\ttraining's l2: 13.2205\tvalid_1's l2: 13.3386\n",
      "[2480]\ttraining's l2: 13.2146\tvalid_1's l2: 13.3372\n",
      "[2490]\ttraining's l2: 13.2083\tvalid_1's l2: 13.3331\n",
      "[2500]\ttraining's l2: 13.2031\tvalid_1's l2: 13.3303\n",
      "[2510]\ttraining's l2: 13.1956\tvalid_1's l2: 13.3266\n",
      "[2520]\ttraining's l2: 13.1916\tvalid_1's l2: 13.3257\n",
      "[2530]\ttraining's l2: 13.1867\tvalid_1's l2: 13.3234\n",
      "[2540]\ttraining's l2: 13.1814\tvalid_1's l2: 13.3204\n",
      "[2550]\ttraining's l2: 13.1767\tvalid_1's l2: 13.3186\n",
      "[2560]\ttraining's l2: 13.1716\tvalid_1's l2: 13.3163\n",
      "[2570]\ttraining's l2: 13.1649\tvalid_1's l2: 13.3119\n",
      "[2580]\ttraining's l2: 13.1606\tvalid_1's l2: 13.311\n",
      "[2590]\ttraining's l2: 13.155\tvalid_1's l2: 13.3087\n",
      "[2600]\ttraining's l2: 13.1508\tvalid_1's l2: 13.3074\n",
      "[2610]\ttraining's l2: 13.1456\tvalid_1's l2: 13.305\n",
      "[2620]\ttraining's l2: 13.1384\tvalid_1's l2: 13.3009\n",
      "[2630]\ttraining's l2: 13.1318\tvalid_1's l2: 13.2984\n",
      "[2640]\ttraining's l2: 13.1262\tvalid_1's l2: 13.2956\n",
      "[2650]\ttraining's l2: 13.1205\tvalid_1's l2: 13.2931\n",
      "[2660]\ttraining's l2: 13.1167\tvalid_1's l2: 13.2913\n",
      "[2670]\ttraining's l2: 13.1128\tvalid_1's l2: 13.2904\n",
      "[2680]\ttraining's l2: 13.1077\tvalid_1's l2: 13.2887\n",
      "[2690]\ttraining's l2: 13.1024\tvalid_1's l2: 13.286\n",
      "[2700]\ttraining's l2: 13.0968\tvalid_1's l2: 13.2839\n",
      "[2710]\ttraining's l2: 13.0924\tvalid_1's l2: 13.2814\n",
      "[2720]\ttraining's l2: 13.0885\tvalid_1's l2: 13.2794\n",
      "[2730]\ttraining's l2: 13.0831\tvalid_1's l2: 13.2772\n",
      "[2740]\ttraining's l2: 13.0792\tvalid_1's l2: 13.2752\n",
      "[2750]\ttraining's l2: 13.0745\tvalid_1's l2: 13.2729\n",
      "[2760]\ttraining's l2: 13.07\tvalid_1's l2: 13.2704\n",
      "[2770]\ttraining's l2: 13.0654\tvalid_1's l2: 13.2681\n",
      "[2780]\ttraining's l2: 13.0609\tvalid_1's l2: 13.2653\n",
      "[2790]\ttraining's l2: 13.057\tvalid_1's l2: 13.2629\n",
      "[2800]\ttraining's l2: 13.0529\tvalid_1's l2: 13.2625\n",
      "[2810]\ttraining's l2: 13.049\tvalid_1's l2: 13.2602\n",
      "[2820]\ttraining's l2: 13.0447\tvalid_1's l2: 13.2575\n",
      "[2830]\ttraining's l2: 13.04\tvalid_1's l2: 13.2539\n",
      "[2840]\ttraining's l2: 13.0356\tvalid_1's l2: 13.2499\n",
      "[2850]\ttraining's l2: 13.0314\tvalid_1's l2: 13.2474\n",
      "[2860]\ttraining's l2: 13.0273\tvalid_1's l2: 13.2467\n",
      "[2870]\ttraining's l2: 13.0219\tvalid_1's l2: 13.2442\n",
      "[2880]\ttraining's l2: 13.0148\tvalid_1's l2: 13.2389\n",
      "[2890]\ttraining's l2: 13.0086\tvalid_1's l2: 13.2336\n",
      "[2900]\ttraining's l2: 13.0027\tvalid_1's l2: 13.2293\n",
      "[2910]\ttraining's l2: 12.9975\tvalid_1's l2: 13.2255\n",
      "[2920]\ttraining's l2: 12.9923\tvalid_1's l2: 13.2214\n",
      "[2930]\ttraining's l2: 12.986\tvalid_1's l2: 13.2176\n",
      "[2940]\ttraining's l2: 12.9807\tvalid_1's l2: 13.2145\n",
      "[2950]\ttraining's l2: 12.9752\tvalid_1's l2: 13.2106\n",
      "[2960]\ttraining's l2: 12.97\tvalid_1's l2: 13.2067\n",
      "[2970]\ttraining's l2: 12.9655\tvalid_1's l2: 13.2044\n",
      "[2980]\ttraining's l2: 12.9605\tvalid_1's l2: 13.201\n",
      "[2990]\ttraining's l2: 12.9547\tvalid_1's l2: 13.1978\n",
      "[3000]\ttraining's l2: 12.9495\tvalid_1's l2: 13.1951\n",
      "[3010]\ttraining's l2: 12.9449\tvalid_1's l2: 13.1923\n",
      "[3020]\ttraining's l2: 12.9394\tvalid_1's l2: 13.1886\n",
      "[3030]\ttraining's l2: 12.9353\tvalid_1's l2: 13.1863\n",
      "[3040]\ttraining's l2: 12.931\tvalid_1's l2: 13.184\n",
      "[3050]\ttraining's l2: 12.9261\tvalid_1's l2: 13.1816\n",
      "[3060]\ttraining's l2: 12.9206\tvalid_1's l2: 13.1784\n",
      "[3070]\ttraining's l2: 12.9168\tvalid_1's l2: 13.1763\n",
      "[3080]\ttraining's l2: 12.9122\tvalid_1's l2: 13.1737\n",
      "[3090]\ttraining's l2: 12.9079\tvalid_1's l2: 13.1709\n",
      "[3100]\ttraining's l2: 12.9033\tvalid_1's l2: 13.1695\n"
     ]
    },
    {
     "name": "stdout",
     "output_type": "stream",
     "text": [
      "[3110]\ttraining's l2: 12.8991\tvalid_1's l2: 13.1672\n",
      "[3120]\ttraining's l2: 12.8948\tvalid_1's l2: 13.1647\n",
      "[3130]\ttraining's l2: 12.8902\tvalid_1's l2: 13.1646\n",
      "[3140]\ttraining's l2: 12.8867\tvalid_1's l2: 13.1632\n",
      "[3150]\ttraining's l2: 12.8831\tvalid_1's l2: 13.1623\n",
      "[3160]\ttraining's l2: 12.8789\tvalid_1's l2: 13.1609\n",
      "[3170]\ttraining's l2: 12.8751\tvalid_1's l2: 13.1592\n",
      "[3180]\ttraining's l2: 12.8717\tvalid_1's l2: 13.1574\n",
      "[3190]\ttraining's l2: 12.8684\tvalid_1's l2: 13.1566\n",
      "[3200]\ttraining's l2: 12.8646\tvalid_1's l2: 13.1556\n",
      "[3210]\ttraining's l2: 12.8611\tvalid_1's l2: 13.154\n",
      "[3220]\ttraining's l2: 12.8563\tvalid_1's l2: 13.1522\n",
      "[3230]\ttraining's l2: 12.8531\tvalid_1's l2: 13.152\n",
      "[3240]\ttraining's l2: 12.8488\tvalid_1's l2: 13.1497\n",
      "[3250]\ttraining's l2: 12.8444\tvalid_1's l2: 13.148\n",
      "[3260]\ttraining's l2: 12.8406\tvalid_1's l2: 13.147\n",
      "[3270]\ttraining's l2: 12.8369\tvalid_1's l2: 13.1463\n",
      "[3280]\ttraining's l2: 12.8332\tvalid_1's l2: 13.145\n",
      "[3290]\ttraining's l2: 12.8296\tvalid_1's l2: 13.1432\n",
      "[3300]\ttraining's l2: 12.8262\tvalid_1's l2: 13.1416\n",
      "[3310]\ttraining's l2: 12.8229\tvalid_1's l2: 13.14\n",
      "[3320]\ttraining's l2: 12.8186\tvalid_1's l2: 13.1381\n",
      "[3330]\ttraining's l2: 12.8151\tvalid_1's l2: 13.1368\n",
      "[3340]\ttraining's l2: 12.8108\tvalid_1's l2: 13.1349\n",
      "[3350]\ttraining's l2: 12.8072\tvalid_1's l2: 13.1332\n",
      "[3360]\ttraining's l2: 12.8027\tvalid_1's l2: 13.1311\n",
      "[3370]\ttraining's l2: 12.7992\tvalid_1's l2: 13.1299\n",
      "[3380]\ttraining's l2: 12.7958\tvalid_1's l2: 13.128\n",
      "[3390]\ttraining's l2: 12.792\tvalid_1's l2: 13.1255\n",
      "[3400]\ttraining's l2: 12.7884\tvalid_1's l2: 13.1244\n",
      "[3410]\ttraining's l2: 12.7841\tvalid_1's l2: 13.1228\n",
      "[3420]\ttraining's l2: 12.7801\tvalid_1's l2: 13.1211\n",
      "[3430]\ttraining's l2: 12.7763\tvalid_1's l2: 13.12\n",
      "[3440]\ttraining's l2: 12.7729\tvalid_1's l2: 13.1185\n",
      "[3450]\ttraining's l2: 12.7696\tvalid_1's l2: 13.1181\n",
      "[3460]\ttraining's l2: 12.766\tvalid_1's l2: 13.1178\n",
      "[3470]\ttraining's l2: 12.7615\tvalid_1's l2: 13.1165\n",
      "[3480]\ttraining's l2: 12.7587\tvalid_1's l2: 13.1158\n",
      "[3490]\ttraining's l2: 12.7554\tvalid_1's l2: 13.115\n",
      "[3500]\ttraining's l2: 12.7512\tvalid_1's l2: 13.113\n",
      "[3510]\ttraining's l2: 12.7475\tvalid_1's l2: 13.111\n",
      "[3520]\ttraining's l2: 12.7436\tvalid_1's l2: 13.1089\n",
      "[3530]\ttraining's l2: 12.7397\tvalid_1's l2: 13.1073\n",
      "[3540]\ttraining's l2: 12.7355\tvalid_1's l2: 13.1057\n",
      "[3550]\ttraining's l2: 12.7323\tvalid_1's l2: 13.1047\n",
      "[3560]\ttraining's l2: 12.7287\tvalid_1's l2: 13.1033\n",
      "[3570]\ttraining's l2: 12.7254\tvalid_1's l2: 13.1029\n",
      "[3580]\ttraining's l2: 12.7219\tvalid_1's l2: 13.1012\n",
      "[3590]\ttraining's l2: 12.7186\tvalid_1's l2: 13.1\n",
      "[3600]\ttraining's l2: 12.7152\tvalid_1's l2: 13.0986\n",
      "[3610]\ttraining's l2: 12.7115\tvalid_1's l2: 13.0984\n",
      "[3620]\ttraining's l2: 12.7078\tvalid_1's l2: 13.0968\n",
      "[3630]\ttraining's l2: 12.7046\tvalid_1's l2: 13.0958\n",
      "[3640]\ttraining's l2: 12.7002\tvalid_1's l2: 13.0936\n",
      "[3650]\ttraining's l2: 12.6966\tvalid_1's l2: 13.0921\n",
      "[3660]\ttraining's l2: 12.6932\tvalid_1's l2: 13.0907\n",
      "[3670]\ttraining's l2: 12.6898\tvalid_1's l2: 13.09\n",
      "[3680]\ttraining's l2: 12.687\tvalid_1's l2: 13.0891\n",
      "[3690]\ttraining's l2: 12.6834\tvalid_1's l2: 13.0876\n",
      "[3700]\ttraining's l2: 12.6795\tvalid_1's l2: 13.0855\n",
      "[3710]\ttraining's l2: 12.6759\tvalid_1's l2: 13.0838\n",
      "[3720]\ttraining's l2: 12.6717\tvalid_1's l2: 13.0817\n",
      "[3730]\ttraining's l2: 12.6681\tvalid_1's l2: 13.081\n",
      "[3740]\ttraining's l2: 12.6647\tvalid_1's l2: 13.079\n",
      "[3750]\ttraining's l2: 12.6614\tvalid_1's l2: 13.0781\n",
      "[3760]\ttraining's l2: 12.6577\tvalid_1's l2: 13.0763\n",
      "[3770]\ttraining's l2: 12.6541\tvalid_1's l2: 13.0748\n",
      "[3780]\ttraining's l2: 12.6505\tvalid_1's l2: 13.0731\n",
      "[3790]\ttraining's l2: 12.6463\tvalid_1's l2: 13.0701\n",
      "[3800]\ttraining's l2: 12.6427\tvalid_1's l2: 13.0682\n",
      "[3810]\ttraining's l2: 12.6396\tvalid_1's l2: 13.0664\n",
      "[3820]\ttraining's l2: 12.6367\tvalid_1's l2: 13.0648\n",
      "[3830]\ttraining's l2: 12.6335\tvalid_1's l2: 13.0635\n",
      "[3840]\ttraining's l2: 12.63\tvalid_1's l2: 13.0623\n",
      "[3850]\ttraining's l2: 12.6273\tvalid_1's l2: 13.0609\n",
      "[3860]\ttraining's l2: 12.6243\tvalid_1's l2: 13.0597\n",
      "[3870]\ttraining's l2: 12.6211\tvalid_1's l2: 13.0581\n",
      "[3880]\ttraining's l2: 12.6185\tvalid_1's l2: 13.0575\n",
      "[3890]\ttraining's l2: 12.6151\tvalid_1's l2: 13.0568\n",
      "[3900]\ttraining's l2: 12.6121\tvalid_1's l2: 13.0556\n",
      "[3910]\ttraining's l2: 12.6091\tvalid_1's l2: 13.0546\n",
      "[3920]\ttraining's l2: 12.6059\tvalid_1's l2: 13.0542\n",
      "[3930]\ttraining's l2: 12.6028\tvalid_1's l2: 13.0531\n",
      "[3940]\ttraining's l2: 12.5997\tvalid_1's l2: 13.0515\n",
      "[3950]\ttraining's l2: 12.5962\tvalid_1's l2: 13.0496\n",
      "[3960]\ttraining's l2: 12.5928\tvalid_1's l2: 13.0475\n",
      "[3970]\ttraining's l2: 12.5886\tvalid_1's l2: 13.0452\n",
      "[3980]\ttraining's l2: 12.5851\tvalid_1's l2: 13.0444\n",
      "[3990]\ttraining's l2: 12.5817\tvalid_1's l2: 13.0435\n",
      "[4000]\ttraining's l2: 12.5782\tvalid_1's l2: 13.0423\n",
      "[4010]\ttraining's l2: 12.5736\tvalid_1's l2: 13.0403\n",
      "[4020]\ttraining's l2: 12.5695\tvalid_1's l2: 13.0377\n",
      "[4030]\ttraining's l2: 12.5667\tvalid_1's l2: 13.0366\n",
      "[4040]\ttraining's l2: 12.5638\tvalid_1's l2: 13.0358\n",
      "[4050]\ttraining's l2: 12.5604\tvalid_1's l2: 13.0346\n",
      "[4060]\ttraining's l2: 12.5572\tvalid_1's l2: 13.0336\n",
      "[4070]\ttraining's l2: 12.5527\tvalid_1's l2: 13.0315\n",
      "[4080]\ttraining's l2: 12.5494\tvalid_1's l2: 13.0303\n",
      "[4090]\ttraining's l2: 12.5471\tvalid_1's l2: 13.0292\n",
      "[4100]\ttraining's l2: 12.5445\tvalid_1's l2: 13.0285\n",
      "[4110]\ttraining's l2: 12.5418\tvalid_1's l2: 13.0274\n",
      "[4120]\ttraining's l2: 12.5382\tvalid_1's l2: 13.026\n",
      "[4130]\ttraining's l2: 12.5347\tvalid_1's l2: 13.0244\n",
      "[4140]\ttraining's l2: 12.5315\tvalid_1's l2: 13.0223\n",
      "[4150]\ttraining's l2: 12.528\tvalid_1's l2: 13.0213\n",
      "[4160]\ttraining's l2: 12.5256\tvalid_1's l2: 13.02\n",
      "[4170]\ttraining's l2: 12.5225\tvalid_1's l2: 13.0189\n",
      "[4180]\ttraining's l2: 12.5186\tvalid_1's l2: 13.0171\n",
      "[4190]\ttraining's l2: 12.516\tvalid_1's l2: 13.0156\n",
      "[4200]\ttraining's l2: 12.513\tvalid_1's l2: 13.0147\n",
      "[4210]\ttraining's l2: 12.5103\tvalid_1's l2: 13.014\n",
      "[4220]\ttraining's l2: 12.5068\tvalid_1's l2: 13.0125\n",
      "[4230]\ttraining's l2: 12.504\tvalid_1's l2: 13.012\n",
      "[4240]\ttraining's l2: 12.5007\tvalid_1's l2: 13.0107\n",
      "[4250]\ttraining's l2: 12.4971\tvalid_1's l2: 13.0103\n",
      "[4260]\ttraining's l2: 12.4945\tvalid_1's l2: 13.0089\n",
      "[4270]\ttraining's l2: 12.4917\tvalid_1's l2: 13.0078\n",
      "[4280]\ttraining's l2: 12.4875\tvalid_1's l2: 13.0055\n",
      "[4290]\ttraining's l2: 12.4849\tvalid_1's l2: 13.0045\n",
      "[4300]\ttraining's l2: 12.4814\tvalid_1's l2: 13.003\n",
      "[4310]\ttraining's l2: 12.4784\tvalid_1's l2: 13.0016\n",
      "[4320]\ttraining's l2: 12.4757\tvalid_1's l2: 13.0004\n",
      "[4330]\ttraining's l2: 12.4732\tvalid_1's l2: 12.999\n",
      "[4340]\ttraining's l2: 12.4712\tvalid_1's l2: 12.9985\n",
      "[4350]\ttraining's l2: 12.4683\tvalid_1's l2: 12.9979\n",
      "[4360]\ttraining's l2: 12.4656\tvalid_1's l2: 12.997\n",
      "[4370]\ttraining's l2: 12.463\tvalid_1's l2: 12.9957\n",
      "[4380]\ttraining's l2: 12.4599\tvalid_1's l2: 12.9942\n",
      "[4390]\ttraining's l2: 12.4568\tvalid_1's l2: 12.993\n",
      "[4400]\ttraining's l2: 12.4536\tvalid_1's l2: 12.9915\n",
      "[4410]\ttraining's l2: 12.451\tvalid_1's l2: 12.9911\n",
      "[4420]\ttraining's l2: 12.4481\tvalid_1's l2: 12.9897\n",
      "[4430]\ttraining's l2: 12.4455\tvalid_1's l2: 12.9883\n",
      "[4440]\ttraining's l2: 12.443\tvalid_1's l2: 12.9874\n",
      "[4450]\ttraining's l2: 12.4403\tvalid_1's l2: 12.986\n",
      "[4460]\ttraining's l2: 12.4376\tvalid_1's l2: 12.9854\n",
      "[4470]\ttraining's l2: 12.4351\tvalid_1's l2: 12.9846\n",
      "[4480]\ttraining's l2: 12.4326\tvalid_1's l2: 12.9839\n",
      "[4490]\ttraining's l2: 12.4308\tvalid_1's l2: 12.9838\n",
      "[4500]\ttraining's l2: 12.4286\tvalid_1's l2: 12.9833\n",
      "[4510]\ttraining's l2: 12.4263\tvalid_1's l2: 12.9828\n",
      "[4520]\ttraining's l2: 12.4239\tvalid_1's l2: 12.9819\n",
      "[4530]\ttraining's l2: 12.4218\tvalid_1's l2: 12.9814\n",
      "[4540]\ttraining's l2: 12.4195\tvalid_1's l2: 12.9802\n",
      "[4550]\ttraining's l2: 12.4174\tvalid_1's l2: 12.9796\n",
      "[4560]\ttraining's l2: 12.4149\tvalid_1's l2: 12.9788\n",
      "[4570]\ttraining's l2: 12.4119\tvalid_1's l2: 12.9777\n",
      "[4580]\ttraining's l2: 12.4096\tvalid_1's l2: 12.9768\n",
      "[4590]\ttraining's l2: 12.4074\tvalid_1's l2: 12.976\n",
      "[4600]\ttraining's l2: 12.405\tvalid_1's l2: 12.9752\n",
      "[4610]\ttraining's l2: 12.4019\tvalid_1's l2: 12.9731\n",
      "[4620]\ttraining's l2: 12.3989\tvalid_1's l2: 12.973\n",
      "[4630]\ttraining's l2: 12.3959\tvalid_1's l2: 12.9719\n",
      "[4640]\ttraining's l2: 12.3933\tvalid_1's l2: 12.9714\n",
      "[4650]\ttraining's l2: 12.3909\tvalid_1's l2: 12.9709\n",
      "[4660]\ttraining's l2: 12.3881\tvalid_1's l2: 12.9701\n",
      "[4670]\ttraining's l2: 12.386\tvalid_1's l2: 12.9694\n",
      "[4680]\ttraining's l2: 12.3835\tvalid_1's l2: 12.9685\n",
      "[4690]\ttraining's l2: 12.3811\tvalid_1's l2: 12.9678\n"
     ]
    },
    {
     "name": "stdout",
     "output_type": "stream",
     "text": [
      "[4700]\ttraining's l2: 12.3779\tvalid_1's l2: 12.9666\n",
      "[4710]\ttraining's l2: 12.3746\tvalid_1's l2: 12.9655\n",
      "[4720]\ttraining's l2: 12.372\tvalid_1's l2: 12.965\n",
      "[4730]\ttraining's l2: 12.3691\tvalid_1's l2: 12.9639\n",
      "[4740]\ttraining's l2: 12.3658\tvalid_1's l2: 12.9623\n",
      "[4750]\ttraining's l2: 12.363\tvalid_1's l2: 12.9618\n",
      "[4760]\ttraining's l2: 12.3604\tvalid_1's l2: 12.9605\n",
      "[4770]\ttraining's l2: 12.3578\tvalid_1's l2: 12.9597\n",
      "[4780]\ttraining's l2: 12.3546\tvalid_1's l2: 12.9581\n",
      "[4790]\ttraining's l2: 12.3518\tvalid_1's l2: 12.958\n",
      "[4800]\ttraining's l2: 12.349\tvalid_1's l2: 12.9578\n",
      "[4810]\ttraining's l2: 12.3469\tvalid_1's l2: 12.9574\n",
      "[4820]\ttraining's l2: 12.3447\tvalid_1's l2: 12.9566\n",
      "[4830]\ttraining's l2: 12.3419\tvalid_1's l2: 12.9561\n",
      "[4840]\ttraining's l2: 12.3392\tvalid_1's l2: 12.9549\n",
      "[4850]\ttraining's l2: 12.337\tvalid_1's l2: 12.9539\n",
      "[4860]\ttraining's l2: 12.3344\tvalid_1's l2: 12.9533\n",
      "[4870]\ttraining's l2: 12.3322\tvalid_1's l2: 12.9527\n",
      "[4880]\ttraining's l2: 12.3297\tvalid_1's l2: 12.9515\n",
      "[4890]\ttraining's l2: 12.3274\tvalid_1's l2: 12.9508\n",
      "[4900]\ttraining's l2: 12.325\tvalid_1's l2: 12.9504\n",
      "[4910]\ttraining's l2: 12.3219\tvalid_1's l2: 12.9497\n",
      "[4920]\ttraining's l2: 12.3195\tvalid_1's l2: 12.9487\n",
      "[4930]\ttraining's l2: 12.317\tvalid_1's l2: 12.948\n",
      "[4940]\ttraining's l2: 12.3149\tvalid_1's l2: 12.9471\n",
      "[4950]\ttraining's l2: 12.3121\tvalid_1's l2: 12.946\n",
      "[4960]\ttraining's l2: 12.3097\tvalid_1's l2: 12.9452\n",
      "[4970]\ttraining's l2: 12.3071\tvalid_1's l2: 12.9447\n",
      "[4980]\ttraining's l2: 12.3047\tvalid_1's l2: 12.944\n",
      "[4990]\ttraining's l2: 12.3022\tvalid_1's l2: 12.943\n",
      "[5000]\ttraining's l2: 12.2995\tvalid_1's l2: 12.942\n",
      "Did not meet early stopping. Best iteration is:\n",
      "[5000]\ttraining's l2: 12.2995\tvalid_1's l2: 12.942\n"
     ]
    }
   ],
   "source": [
    "lgb_train = lgb.Dataset(x_train, y_train)\n",
    "lgb_eval = lgb.Dataset(x_val, y_val,reference=lgb_train)\n",
    "model_lgb1 = lgb.train(params, lgb_train,\n",
    "                      valid_sets=[lgb_train, lgb_eval],\n",
    "                      verbose_eval=10,\n",
    "                      num_boost_round=5000,\n",
    "                      early_stopping_rounds=20)"
   ]
  },
  {
   "cell_type": "code",
   "execution_count": 132,
   "id": "bbb0d49b",
   "metadata": {
    "scrolled": false
   },
   "outputs": [
    {
     "name": "stdout",
     "output_type": "stream",
     "text": [
      "[LightGBM] [Warning] Auto-choosing row-wise multi-threading, the overhead of testing was 0.134778 seconds.\n",
      "You can set `force_row_wise=true` to remove the overhead.\n",
      "And if memory is not enough, you can set `force_col_wise=true`.\n",
      "[LightGBM] [Info] Total Bins 2791\n",
      "[LightGBM] [Info] Number of data points in the train set: 10807801, number of used features: 15\n",
      "[LightGBM] [Info] Start training from score 11.331366\n",
      "Training until validation scores don't improve for 20 rounds\n",
      "[10]\ttraining's l2: 68.4865\tvalid_1's l2: 68.1752\n",
      "[20]\ttraining's l2: 52.5314\tvalid_1's l2: 52.1527\n",
      "[30]\ttraining's l2: 42.239\tvalid_1's l2: 41.8018\n",
      "[40]\ttraining's l2: 35.6255\tvalid_1's l2: 35.1329\n",
      "[50]\ttraining's l2: 31.2171\tvalid_1's l2: 30.6867\n",
      "[60]\ttraining's l2: 28.217\tvalid_1's l2: 27.6507\n",
      "[70]\ttraining's l2: 26.0614\tvalid_1's l2: 25.4618\n",
      "[80]\ttraining's l2: 24.3551\tvalid_1's l2: 23.7313\n",
      "[90]\ttraining's l2: 23.1023\tvalid_1's l2: 22.458\n",
      "[100]\ttraining's l2: 22.0869\tvalid_1's l2: 21.4281\n",
      "[110]\ttraining's l2: 21.2675\tvalid_1's l2: 20.5995\n",
      "[120]\ttraining's l2: 20.6231\tvalid_1's l2: 19.95\n",
      "[130]\ttraining's l2: 20.1145\tvalid_1's l2: 19.4358\n",
      "[140]\ttraining's l2: 19.5946\tvalid_1's l2: 18.9127\n",
      "[150]\ttraining's l2: 19.2661\tvalid_1's l2: 18.5851\n",
      "[160]\ttraining's l2: 18.9982\tvalid_1's l2: 18.3239\n",
      "[170]\ttraining's l2: 18.7708\tvalid_1's l2: 18.102\n",
      "[180]\ttraining's l2: 18.593\tvalid_1's l2: 17.9286\n",
      "[190]\ttraining's l2: 18.3624\tvalid_1's l2: 17.7009\n",
      "[200]\ttraining's l2: 18.1881\tvalid_1's l2: 17.5299\n",
      "[210]\ttraining's l2: 18.0337\tvalid_1's l2: 17.3787\n",
      "[220]\ttraining's l2: 17.8263\tvalid_1's l2: 17.1747\n",
      "[230]\ttraining's l2: 17.6721\tvalid_1's l2: 17.0233\n",
      "[240]\ttraining's l2: 17.5266\tvalid_1's l2: 16.8807\n",
      "[250]\ttraining's l2: 17.377\tvalid_1's l2: 16.7326\n",
      "[260]\ttraining's l2: 17.2546\tvalid_1's l2: 16.6135\n",
      "[270]\ttraining's l2: 17.1458\tvalid_1's l2: 16.5065\n",
      "[280]\ttraining's l2: 17.0377\tvalid_1's l2: 16.4017\n",
      "[290]\ttraining's l2: 16.9299\tvalid_1's l2: 16.2956\n",
      "[300]\ttraining's l2: 16.8344\tvalid_1's l2: 16.2024\n",
      "[310]\ttraining's l2: 16.7262\tvalid_1's l2: 16.0968\n",
      "[320]\ttraining's l2: 16.6515\tvalid_1's l2: 16.0287\n",
      "[330]\ttraining's l2: 16.5839\tvalid_1's l2: 15.9659\n",
      "[340]\ttraining's l2: 16.5014\tvalid_1's l2: 15.8871\n",
      "[350]\ttraining's l2: 16.4133\tvalid_1's l2: 15.8043\n",
      "[360]\ttraining's l2: 16.3289\tvalid_1's l2: 15.7225\n",
      "[370]\ttraining's l2: 16.2592\tvalid_1's l2: 15.6574\n",
      "[380]\ttraining's l2: 16.1852\tvalid_1's l2: 15.5843\n",
      "[390]\ttraining's l2: 16.1134\tvalid_1's l2: 15.5181\n",
      "[400]\ttraining's l2: 16.049\tvalid_1's l2: 15.4584\n",
      "[410]\ttraining's l2: 15.9886\tvalid_1's l2: 15.4039\n",
      "[420]\ttraining's l2: 15.9381\tvalid_1's l2: 15.3551\n",
      "[430]\ttraining's l2: 15.8853\tvalid_1's l2: 15.3081\n",
      "[440]\ttraining's l2: 15.8273\tvalid_1's l2: 15.2557\n",
      "[450]\ttraining's l2: 15.7713\tvalid_1's l2: 15.2035\n",
      "[460]\ttraining's l2: 15.722\tvalid_1's l2: 15.1581\n",
      "[470]\ttraining's l2: 15.6728\tvalid_1's l2: 15.1128\n",
      "[480]\ttraining's l2: 15.6206\tvalid_1's l2: 15.0646\n",
      "[490]\ttraining's l2: 15.5755\tvalid_1's l2: 15.0259\n",
      "[500]\ttraining's l2: 15.5289\tvalid_1's l2: 14.9838\n",
      "[510]\ttraining's l2: 15.4894\tvalid_1's l2: 14.9491\n",
      "[520]\ttraining's l2: 15.456\tvalid_1's l2: 14.9225\n",
      "[530]\ttraining's l2: 15.4136\tvalid_1's l2: 14.8867\n",
      "[540]\ttraining's l2: 15.385\tvalid_1's l2: 14.8644\n",
      "[550]\ttraining's l2: 15.3515\tvalid_1's l2: 14.8358\n",
      "[560]\ttraining's l2: 15.3166\tvalid_1's l2: 14.8042\n",
      "[570]\ttraining's l2: 15.2806\tvalid_1's l2: 14.7707\n",
      "[580]\ttraining's l2: 15.2508\tvalid_1's l2: 14.7457\n",
      "[590]\ttraining's l2: 15.2209\tvalid_1's l2: 14.7191\n",
      "[600]\ttraining's l2: 15.1899\tvalid_1's l2: 14.6914\n",
      "[610]\ttraining's l2: 15.1557\tvalid_1's l2: 14.6607\n",
      "[620]\ttraining's l2: 15.1296\tvalid_1's l2: 14.6409\n",
      "[630]\ttraining's l2: 15.0926\tvalid_1's l2: 14.6062\n",
      "[640]\ttraining's l2: 15.0682\tvalid_1's l2: 14.5862\n",
      "[650]\ttraining's l2: 15.0452\tvalid_1's l2: 14.5682\n",
      "[660]\ttraining's l2: 15.0187\tvalid_1's l2: 14.5449\n",
      "[670]\ttraining's l2: 14.9934\tvalid_1's l2: 14.5251\n",
      "[680]\ttraining's l2: 14.9691\tvalid_1's l2: 14.5038\n",
      "[690]\ttraining's l2: 14.9443\tvalid_1's l2: 14.4825\n",
      "[700]\ttraining's l2: 14.9241\tvalid_1's l2: 14.4696\n",
      "[710]\ttraining's l2: 14.8987\tvalid_1's l2: 14.4469\n",
      "[720]\ttraining's l2: 14.8737\tvalid_1's l2: 14.4242\n",
      "[730]\ttraining's l2: 14.8519\tvalid_1's l2: 14.4046\n",
      "[740]\ttraining's l2: 14.8368\tvalid_1's l2: 14.3919\n",
      "[750]\ttraining's l2: 14.8136\tvalid_1's l2: 14.3729\n",
      "[760]\ttraining's l2: 14.7957\tvalid_1's l2: 14.3602\n",
      "[770]\ttraining's l2: 14.775\tvalid_1's l2: 14.344\n",
      "[780]\ttraining's l2: 14.7591\tvalid_1's l2: 14.3321\n",
      "[790]\ttraining's l2: 14.7393\tvalid_1's l2: 14.3154\n",
      "[800]\ttraining's l2: 14.7207\tvalid_1's l2: 14.3002\n",
      "[810]\ttraining's l2: 14.7048\tvalid_1's l2: 14.2884\n",
      "[820]\ttraining's l2: 14.6862\tvalid_1's l2: 14.2725\n",
      "[830]\ttraining's l2: 14.6722\tvalid_1's l2: 14.2635\n",
      "[840]\ttraining's l2: 14.6556\tvalid_1's l2: 14.2507\n",
      "[850]\ttraining's l2: 14.6403\tvalid_1's l2: 14.2386\n",
      "[860]\ttraining's l2: 14.6253\tvalid_1's l2: 14.228\n",
      "[870]\ttraining's l2: 14.6105\tvalid_1's l2: 14.2185\n",
      "[880]\ttraining's l2: 14.5913\tvalid_1's l2: 14.2063\n",
      "[890]\ttraining's l2: 14.5763\tvalid_1's l2: 14.1968\n",
      "[900]\ttraining's l2: 14.5581\tvalid_1's l2: 14.1819\n",
      "[910]\ttraining's l2: 14.5422\tvalid_1's l2: 14.1701\n",
      "[920]\ttraining's l2: 14.5257\tvalid_1's l2: 14.1616\n",
      "[930]\ttraining's l2: 14.5083\tvalid_1's l2: 14.1472\n",
      "[940]\ttraining's l2: 14.4911\tvalid_1's l2: 14.1334\n",
      "[950]\ttraining's l2: 14.4775\tvalid_1's l2: 14.1228\n",
      "[960]\ttraining's l2: 14.4636\tvalid_1's l2: 14.113\n",
      "[970]\ttraining's l2: 14.4504\tvalid_1's l2: 14.1033\n",
      "[980]\ttraining's l2: 14.4362\tvalid_1's l2: 14.0915\n",
      "[990]\ttraining's l2: 14.4177\tvalid_1's l2: 14.0765\n",
      "[1000]\ttraining's l2: 14.4034\tvalid_1's l2: 14.0645\n",
      "[1010]\ttraining's l2: 14.3927\tvalid_1's l2: 14.0585\n",
      "[1020]\ttraining's l2: 14.3779\tvalid_1's l2: 14.0468\n",
      "[1030]\ttraining's l2: 14.3627\tvalid_1's l2: 14.0341\n",
      "[1040]\ttraining's l2: 14.35\tvalid_1's l2: 14.0255\n",
      "[1050]\ttraining's l2: 14.3363\tvalid_1's l2: 14.0164\n",
      "[1060]\ttraining's l2: 14.3242\tvalid_1's l2: 14.0075\n",
      "[1070]\ttraining's l2: 14.312\tvalid_1's l2: 13.9996\n",
      "[1080]\ttraining's l2: 14.2985\tvalid_1's l2: 13.9898\n",
      "[1090]\ttraining's l2: 14.2824\tvalid_1's l2: 13.9798\n",
      "[1100]\ttraining's l2: 14.2699\tvalid_1's l2: 13.9707\n",
      "[1110]\ttraining's l2: 14.2581\tvalid_1's l2: 13.9616\n",
      "[1120]\ttraining's l2: 14.2426\tvalid_1's l2: 13.9492\n",
      "[1130]\ttraining's l2: 14.2301\tvalid_1's l2: 13.9407\n",
      "[1140]\ttraining's l2: 14.2195\tvalid_1's l2: 13.9346\n",
      "[1150]\ttraining's l2: 14.2098\tvalid_1's l2: 13.9275\n",
      "[1160]\ttraining's l2: 14.1985\tvalid_1's l2: 13.9198\n",
      "[1170]\ttraining's l2: 14.186\tvalid_1's l2: 13.9123\n",
      "[1180]\ttraining's l2: 14.1759\tvalid_1's l2: 13.9061\n",
      "[1190]\ttraining's l2: 14.1619\tvalid_1's l2: 13.8955\n",
      "[1200]\ttraining's l2: 14.1501\tvalid_1's l2: 13.8869\n",
      "[1210]\ttraining's l2: 14.1384\tvalid_1's l2: 13.8793\n",
      "[1220]\ttraining's l2: 14.1267\tvalid_1's l2: 13.8702\n",
      "[1230]\ttraining's l2: 14.1128\tvalid_1's l2: 13.8603\n",
      "[1240]\ttraining's l2: 14.101\tvalid_1's l2: 13.8531\n",
      "[1250]\ttraining's l2: 14.0898\tvalid_1's l2: 13.8452\n",
      "[1260]\ttraining's l2: 14.0804\tvalid_1's l2: 13.8395\n",
      "[1270]\ttraining's l2: 14.0674\tvalid_1's l2: 13.8282\n",
      "[1280]\ttraining's l2: 14.0539\tvalid_1's l2: 13.8185\n",
      "[1290]\ttraining's l2: 14.0437\tvalid_1's l2: 13.8109\n",
      "[1300]\ttraining's l2: 14.0333\tvalid_1's l2: 13.8046\n",
      "[1310]\ttraining's l2: 14.025\tvalid_1's l2: 13.7988\n",
      "[1320]\ttraining's l2: 14.0172\tvalid_1's l2: 13.7949\n",
      "[1330]\ttraining's l2: 14.0062\tvalid_1's l2: 13.7875\n",
      "[1340]\ttraining's l2: 13.9968\tvalid_1's l2: 13.7825\n",
      "[1350]\ttraining's l2: 13.9889\tvalid_1's l2: 13.7775\n",
      "[1360]\ttraining's l2: 13.9796\tvalid_1's l2: 13.7716\n",
      "[1370]\ttraining's l2: 13.9691\tvalid_1's l2: 13.7648\n",
      "[1380]\ttraining's l2: 13.9587\tvalid_1's l2: 13.7574\n",
      "[1390]\ttraining's l2: 13.9508\tvalid_1's l2: 13.752\n",
      "[1400]\ttraining's l2: 13.9386\tvalid_1's l2: 13.7423\n",
      "[1410]\ttraining's l2: 13.9303\tvalid_1's l2: 13.7382\n",
      "[1420]\ttraining's l2: 13.9206\tvalid_1's l2: 13.7328\n",
      "[1430]\ttraining's l2: 13.9118\tvalid_1's l2: 13.7279\n",
      "[1440]\ttraining's l2: 13.9031\tvalid_1's l2: 13.7237\n",
      "[1450]\ttraining's l2: 13.893\tvalid_1's l2: 13.7161\n",
      "[1460]\ttraining's l2: 13.8795\tvalid_1's l2: 13.7048\n",
      "[1470]\ttraining's l2: 13.8708\tvalid_1's l2: 13.7001\n",
      "[1480]\ttraining's l2: 13.8627\tvalid_1's l2: 13.6946\n",
      "[1490]\ttraining's l2: 13.8543\tvalid_1's l2: 13.6901\n",
      "[1500]\ttraining's l2: 13.8442\tvalid_1's l2: 13.6828\n",
      "[1510]\ttraining's l2: 13.8339\tvalid_1's l2: 13.6762\n"
     ]
    },
    {
     "name": "stdout",
     "output_type": "stream",
     "text": [
      "[1520]\ttraining's l2: 13.8248\tvalid_1's l2: 13.6714\n",
      "[1530]\ttraining's l2: 13.816\tvalid_1's l2: 13.6669\n",
      "[1540]\ttraining's l2: 13.8087\tvalid_1's l2: 13.6636\n",
      "[1550]\ttraining's l2: 13.8003\tvalid_1's l2: 13.658\n",
      "[1560]\ttraining's l2: 13.7919\tvalid_1's l2: 13.6534\n",
      "[1570]\ttraining's l2: 13.7841\tvalid_1's l2: 13.6487\n",
      "[1580]\ttraining's l2: 13.775\tvalid_1's l2: 13.6443\n",
      "[1590]\ttraining's l2: 13.7676\tvalid_1's l2: 13.6407\n",
      "[1600]\ttraining's l2: 13.7593\tvalid_1's l2: 13.6343\n",
      "[1610]\ttraining's l2: 13.7527\tvalid_1's l2: 13.6303\n",
      "[1620]\ttraining's l2: 13.7455\tvalid_1's l2: 13.6256\n",
      "[1630]\ttraining's l2: 13.7379\tvalid_1's l2: 13.6195\n",
      "[1640]\ttraining's l2: 13.7307\tvalid_1's l2: 13.6148\n",
      "[1650]\ttraining's l2: 13.7226\tvalid_1's l2: 13.6086\n",
      "[1660]\ttraining's l2: 13.7129\tvalid_1's l2: 13.6011\n",
      "[1670]\ttraining's l2: 13.7068\tvalid_1's l2: 13.5988\n",
      "[1680]\ttraining's l2: 13.7017\tvalid_1's l2: 13.5964\n",
      "[1690]\ttraining's l2: 13.6948\tvalid_1's l2: 13.5929\n",
      "[1700]\ttraining's l2: 13.6879\tvalid_1's l2: 13.5901\n",
      "[1710]\ttraining's l2: 13.679\tvalid_1's l2: 13.5833\n",
      "[1720]\ttraining's l2: 13.6717\tvalid_1's l2: 13.5796\n",
      "[1730]\ttraining's l2: 13.6635\tvalid_1's l2: 13.5741\n",
      "[1740]\ttraining's l2: 13.6546\tvalid_1's l2: 13.5693\n",
      "[1750]\ttraining's l2: 13.6495\tvalid_1's l2: 13.5667\n",
      "[1760]\ttraining's l2: 13.6408\tvalid_1's l2: 13.561\n",
      "[1770]\ttraining's l2: 13.6345\tvalid_1's l2: 13.5572\n",
      "[1780]\ttraining's l2: 13.6285\tvalid_1's l2: 13.5541\n",
      "[1790]\ttraining's l2: 13.6213\tvalid_1's l2: 13.5503\n",
      "[1800]\ttraining's l2: 13.6147\tvalid_1's l2: 13.5466\n",
      "[1810]\ttraining's l2: 13.6076\tvalid_1's l2: 13.5428\n",
      "[1820]\ttraining's l2: 13.5994\tvalid_1's l2: 13.5377\n",
      "[1830]\ttraining's l2: 13.5933\tvalid_1's l2: 13.5342\n",
      "[1840]\ttraining's l2: 13.5878\tvalid_1's l2: 13.5312\n",
      "[1850]\ttraining's l2: 13.5819\tvalid_1's l2: 13.5287\n",
      "[1860]\ttraining's l2: 13.5757\tvalid_1's l2: 13.5273\n",
      "[1870]\ttraining's l2: 13.5699\tvalid_1's l2: 13.5243\n",
      "[1880]\ttraining's l2: 13.565\tvalid_1's l2: 13.5229\n",
      "[1890]\ttraining's l2: 13.5591\tvalid_1's l2: 13.5204\n",
      "[1900]\ttraining's l2: 13.5539\tvalid_1's l2: 13.5178\n",
      "[1910]\ttraining's l2: 13.5478\tvalid_1's l2: 13.5143\n",
      "[1920]\ttraining's l2: 13.5414\tvalid_1's l2: 13.5114\n",
      "[1930]\ttraining's l2: 13.5333\tvalid_1's l2: 13.5046\n",
      "[1940]\ttraining's l2: 13.5244\tvalid_1's l2: 13.4973\n",
      "[1950]\ttraining's l2: 13.5176\tvalid_1's l2: 13.4938\n",
      "[1960]\ttraining's l2: 13.5097\tvalid_1's l2: 13.4889\n",
      "[1970]\ttraining's l2: 13.5036\tvalid_1's l2: 13.4849\n",
      "[1980]\ttraining's l2: 13.4977\tvalid_1's l2: 13.4825\n",
      "[1990]\ttraining's l2: 13.4904\tvalid_1's l2: 13.4804\n",
      "[2000]\ttraining's l2: 13.4842\tvalid_1's l2: 13.478\n",
      "[2010]\ttraining's l2: 13.4763\tvalid_1's l2: 13.4732\n",
      "[2020]\ttraining's l2: 13.4709\tvalid_1's l2: 13.47\n",
      "[2030]\ttraining's l2: 13.4647\tvalid_1's l2: 13.4673\n",
      "[2040]\ttraining's l2: 13.4586\tvalid_1's l2: 13.4651\n",
      "[2050]\ttraining's l2: 13.4521\tvalid_1's l2: 13.4609\n",
      "[2060]\ttraining's l2: 13.4459\tvalid_1's l2: 13.4585\n",
      "[2070]\ttraining's l2: 13.4392\tvalid_1's l2: 13.4539\n",
      "[2080]\ttraining's l2: 13.434\tvalid_1's l2: 13.4512\n",
      "[2090]\ttraining's l2: 13.4277\tvalid_1's l2: 13.4482\n",
      "[2100]\ttraining's l2: 13.4222\tvalid_1's l2: 13.4459\n",
      "[2110]\ttraining's l2: 13.4166\tvalid_1's l2: 13.4429\n",
      "[2120]\ttraining's l2: 13.4108\tvalid_1's l2: 13.4394\n",
      "[2130]\ttraining's l2: 13.4056\tvalid_1's l2: 13.4377\n",
      "[2140]\ttraining's l2: 13.3991\tvalid_1's l2: 13.4347\n",
      "[2150]\ttraining's l2: 13.3942\tvalid_1's l2: 13.4323\n",
      "[2160]\ttraining's l2: 13.3884\tvalid_1's l2: 13.4287\n",
      "[2170]\ttraining's l2: 13.3819\tvalid_1's l2: 13.4253\n",
      "[2180]\ttraining's l2: 13.3767\tvalid_1's l2: 13.422\n",
      "[2190]\ttraining's l2: 13.3711\tvalid_1's l2: 13.4192\n",
      "[2200]\ttraining's l2: 13.3645\tvalid_1's l2: 13.4145\n",
      "[2210]\ttraining's l2: 13.3571\tvalid_1's l2: 13.4097\n",
      "[2220]\ttraining's l2: 13.3504\tvalid_1's l2: 13.4051\n",
      "[2230]\ttraining's l2: 13.3446\tvalid_1's l2: 13.4013\n",
      "[2240]\ttraining's l2: 13.3402\tvalid_1's l2: 13.399\n",
      "[2250]\ttraining's l2: 13.3338\tvalid_1's l2: 13.3959\n",
      "[2260]\ttraining's l2: 13.3288\tvalid_1's l2: 13.3937\n",
      "[2270]\ttraining's l2: 13.323\tvalid_1's l2: 13.3915\n",
      "[2280]\ttraining's l2: 13.3175\tvalid_1's l2: 13.3886\n",
      "[2290]\ttraining's l2: 13.3128\tvalid_1's l2: 13.3867\n",
      "[2300]\ttraining's l2: 13.3078\tvalid_1's l2: 13.3843\n",
      "[2310]\ttraining's l2: 13.3023\tvalid_1's l2: 13.3815\n",
      "[2320]\ttraining's l2: 13.298\tvalid_1's l2: 13.3791\n",
      "[2330]\ttraining's l2: 13.293\tvalid_1's l2: 13.3772\n",
      "[2340]\ttraining's l2: 13.2872\tvalid_1's l2: 13.374\n",
      "[2350]\ttraining's l2: 13.2831\tvalid_1's l2: 13.372\n",
      "[2360]\ttraining's l2: 13.2763\tvalid_1's l2: 13.3689\n",
      "[2370]\ttraining's l2: 13.2715\tvalid_1's l2: 13.3659\n",
      "[2380]\ttraining's l2: 13.2662\tvalid_1's l2: 13.3637\n",
      "[2390]\ttraining's l2: 13.2612\tvalid_1's l2: 13.3612\n",
      "[2400]\ttraining's l2: 13.2565\tvalid_1's l2: 13.3586\n",
      "[2410]\ttraining's l2: 13.2499\tvalid_1's l2: 13.3539\n",
      "[2420]\ttraining's l2: 13.2446\tvalid_1's l2: 13.3508\n",
      "[2430]\ttraining's l2: 13.2388\tvalid_1's l2: 13.3481\n",
      "[2440]\ttraining's l2: 13.2352\tvalid_1's l2: 13.3464\n",
      "[2450]\ttraining's l2: 13.2304\tvalid_1's l2: 13.3439\n",
      "[2460]\ttraining's l2: 13.225\tvalid_1's l2: 13.3406\n",
      "[2470]\ttraining's l2: 13.2205\tvalid_1's l2: 13.3386\n",
      "[2480]\ttraining's l2: 13.2146\tvalid_1's l2: 13.3372\n",
      "[2490]\ttraining's l2: 13.2083\tvalid_1's l2: 13.3331\n",
      "[2500]\ttraining's l2: 13.2031\tvalid_1's l2: 13.3303\n",
      "[2510]\ttraining's l2: 13.1956\tvalid_1's l2: 13.3266\n",
      "[2520]\ttraining's l2: 13.1916\tvalid_1's l2: 13.3257\n",
      "[2530]\ttraining's l2: 13.1867\tvalid_1's l2: 13.3234\n",
      "[2540]\ttraining's l2: 13.1814\tvalid_1's l2: 13.3204\n",
      "[2550]\ttraining's l2: 13.1767\tvalid_1's l2: 13.3186\n",
      "[2560]\ttraining's l2: 13.1716\tvalid_1's l2: 13.3163\n",
      "[2570]\ttraining's l2: 13.1649\tvalid_1's l2: 13.3119\n",
      "[2580]\ttraining's l2: 13.1606\tvalid_1's l2: 13.311\n",
      "[2590]\ttraining's l2: 13.155\tvalid_1's l2: 13.3087\n",
      "[2600]\ttraining's l2: 13.1508\tvalid_1's l2: 13.3074\n",
      "[2610]\ttraining's l2: 13.1456\tvalid_1's l2: 13.305\n",
      "[2620]\ttraining's l2: 13.1384\tvalid_1's l2: 13.3009\n",
      "[2630]\ttraining's l2: 13.1318\tvalid_1's l2: 13.2984\n",
      "[2640]\ttraining's l2: 13.1262\tvalid_1's l2: 13.2956\n",
      "[2650]\ttraining's l2: 13.1205\tvalid_1's l2: 13.2931\n",
      "[2660]\ttraining's l2: 13.1167\tvalid_1's l2: 13.2913\n",
      "[2670]\ttraining's l2: 13.1128\tvalid_1's l2: 13.2904\n",
      "[2680]\ttraining's l2: 13.1077\tvalid_1's l2: 13.2887\n",
      "[2690]\ttraining's l2: 13.1024\tvalid_1's l2: 13.286\n",
      "[2700]\ttraining's l2: 13.0968\tvalid_1's l2: 13.2839\n",
      "[2710]\ttraining's l2: 13.0924\tvalid_1's l2: 13.2814\n",
      "[2720]\ttraining's l2: 13.0885\tvalid_1's l2: 13.2794\n",
      "[2730]\ttraining's l2: 13.0831\tvalid_1's l2: 13.2772\n",
      "[2740]\ttraining's l2: 13.0792\tvalid_1's l2: 13.2752\n",
      "[2750]\ttraining's l2: 13.0745\tvalid_1's l2: 13.2729\n",
      "[2760]\ttraining's l2: 13.07\tvalid_1's l2: 13.2704\n",
      "[2770]\ttraining's l2: 13.0654\tvalid_1's l2: 13.2681\n",
      "[2780]\ttraining's l2: 13.0609\tvalid_1's l2: 13.2653\n",
      "[2790]\ttraining's l2: 13.057\tvalid_1's l2: 13.2629\n",
      "[2800]\ttraining's l2: 13.0529\tvalid_1's l2: 13.2625\n",
      "[2810]\ttraining's l2: 13.049\tvalid_1's l2: 13.2602\n",
      "[2820]\ttraining's l2: 13.0447\tvalid_1's l2: 13.2575\n",
      "[2830]\ttraining's l2: 13.04\tvalid_1's l2: 13.2539\n",
      "[2840]\ttraining's l2: 13.0356\tvalid_1's l2: 13.2499\n",
      "[2850]\ttraining's l2: 13.0314\tvalid_1's l2: 13.2474\n",
      "[2860]\ttraining's l2: 13.0273\tvalid_1's l2: 13.2467\n",
      "[2870]\ttraining's l2: 13.0219\tvalid_1's l2: 13.2442\n",
      "[2880]\ttraining's l2: 13.0148\tvalid_1's l2: 13.2389\n",
      "[2890]\ttraining's l2: 13.0086\tvalid_1's l2: 13.2336\n",
      "[2900]\ttraining's l2: 13.0027\tvalid_1's l2: 13.2293\n",
      "[2910]\ttraining's l2: 12.9975\tvalid_1's l2: 13.2255\n",
      "[2920]\ttraining's l2: 12.9923\tvalid_1's l2: 13.2214\n",
      "[2930]\ttraining's l2: 12.986\tvalid_1's l2: 13.2176\n",
      "[2940]\ttraining's l2: 12.9807\tvalid_1's l2: 13.2145\n",
      "[2950]\ttraining's l2: 12.9752\tvalid_1's l2: 13.2106\n",
      "[2960]\ttraining's l2: 12.97\tvalid_1's l2: 13.2067\n",
      "[2970]\ttraining's l2: 12.9655\tvalid_1's l2: 13.2044\n",
      "[2980]\ttraining's l2: 12.9605\tvalid_1's l2: 13.201\n",
      "[2990]\ttraining's l2: 12.9547\tvalid_1's l2: 13.1978\n",
      "[3000]\ttraining's l2: 12.9495\tvalid_1's l2: 13.1951\n",
      "[3010]\ttraining's l2: 12.9449\tvalid_1's l2: 13.1923\n",
      "[3020]\ttraining's l2: 12.9394\tvalid_1's l2: 13.1886\n",
      "[3030]\ttraining's l2: 12.9353\tvalid_1's l2: 13.1863\n",
      "[3040]\ttraining's l2: 12.931\tvalid_1's l2: 13.184\n",
      "[3050]\ttraining's l2: 12.9261\tvalid_1's l2: 13.1816\n",
      "[3060]\ttraining's l2: 12.9206\tvalid_1's l2: 13.1784\n",
      "[3070]\ttraining's l2: 12.9168\tvalid_1's l2: 13.1763\n",
      "[3080]\ttraining's l2: 12.9122\tvalid_1's l2: 13.1737\n",
      "[3090]\ttraining's l2: 12.9079\tvalid_1's l2: 13.1709\n",
      "[3100]\ttraining's l2: 12.9033\tvalid_1's l2: 13.1695\n"
     ]
    },
    {
     "name": "stdout",
     "output_type": "stream",
     "text": [
      "[3110]\ttraining's l2: 12.8991\tvalid_1's l2: 13.1672\n",
      "[3120]\ttraining's l2: 12.8948\tvalid_1's l2: 13.1647\n",
      "[3130]\ttraining's l2: 12.8902\tvalid_1's l2: 13.1646\n",
      "[3140]\ttraining's l2: 12.8867\tvalid_1's l2: 13.1632\n",
      "[3150]\ttraining's l2: 12.8831\tvalid_1's l2: 13.1623\n",
      "[3160]\ttraining's l2: 12.8789\tvalid_1's l2: 13.1609\n",
      "[3170]\ttraining's l2: 12.8751\tvalid_1's l2: 13.1592\n",
      "[3180]\ttraining's l2: 12.8717\tvalid_1's l2: 13.1574\n",
      "[3190]\ttraining's l2: 12.8684\tvalid_1's l2: 13.1566\n",
      "[3200]\ttraining's l2: 12.8646\tvalid_1's l2: 13.1556\n",
      "[3210]\ttraining's l2: 12.8611\tvalid_1's l2: 13.154\n",
      "[3220]\ttraining's l2: 12.8563\tvalid_1's l2: 13.1522\n",
      "[3230]\ttraining's l2: 12.8531\tvalid_1's l2: 13.152\n",
      "[3240]\ttraining's l2: 12.8488\tvalid_1's l2: 13.1497\n",
      "[3250]\ttraining's l2: 12.8444\tvalid_1's l2: 13.148\n",
      "[3260]\ttraining's l2: 12.8406\tvalid_1's l2: 13.147\n",
      "[3270]\ttraining's l2: 12.8369\tvalid_1's l2: 13.1463\n",
      "[3280]\ttraining's l2: 12.8332\tvalid_1's l2: 13.145\n",
      "[3290]\ttraining's l2: 12.8296\tvalid_1's l2: 13.1432\n",
      "[3300]\ttraining's l2: 12.8262\tvalid_1's l2: 13.1416\n",
      "[3310]\ttraining's l2: 12.8229\tvalid_1's l2: 13.14\n",
      "[3320]\ttraining's l2: 12.8186\tvalid_1's l2: 13.1381\n",
      "[3330]\ttraining's l2: 12.8151\tvalid_1's l2: 13.1368\n",
      "[3340]\ttraining's l2: 12.8108\tvalid_1's l2: 13.1349\n",
      "[3350]\ttraining's l2: 12.8072\tvalid_1's l2: 13.1332\n",
      "[3360]\ttraining's l2: 12.8027\tvalid_1's l2: 13.1311\n",
      "[3370]\ttraining's l2: 12.7992\tvalid_1's l2: 13.1299\n",
      "[3380]\ttraining's l2: 12.7958\tvalid_1's l2: 13.128\n",
      "[3390]\ttraining's l2: 12.792\tvalid_1's l2: 13.1255\n",
      "[3400]\ttraining's l2: 12.7884\tvalid_1's l2: 13.1244\n",
      "[3410]\ttraining's l2: 12.7841\tvalid_1's l2: 13.1228\n",
      "[3420]\ttraining's l2: 12.7801\tvalid_1's l2: 13.1211\n",
      "[3430]\ttraining's l2: 12.7763\tvalid_1's l2: 13.12\n",
      "[3440]\ttraining's l2: 12.7729\tvalid_1's l2: 13.1185\n",
      "[3450]\ttraining's l2: 12.7696\tvalid_1's l2: 13.1181\n",
      "[3460]\ttraining's l2: 12.766\tvalid_1's l2: 13.1178\n",
      "[3470]\ttraining's l2: 12.7615\tvalid_1's l2: 13.1165\n",
      "[3480]\ttraining's l2: 12.7587\tvalid_1's l2: 13.1158\n",
      "[3490]\ttraining's l2: 12.7554\tvalid_1's l2: 13.115\n",
      "[3500]\ttraining's l2: 12.7512\tvalid_1's l2: 13.113\n",
      "[3510]\ttraining's l2: 12.7475\tvalid_1's l2: 13.111\n",
      "[3520]\ttraining's l2: 12.7436\tvalid_1's l2: 13.1089\n",
      "[3530]\ttraining's l2: 12.7397\tvalid_1's l2: 13.1073\n",
      "[3540]\ttraining's l2: 12.7355\tvalid_1's l2: 13.1057\n",
      "[3550]\ttraining's l2: 12.7323\tvalid_1's l2: 13.1047\n",
      "[3560]\ttraining's l2: 12.7287\tvalid_1's l2: 13.1033\n",
      "[3570]\ttraining's l2: 12.7254\tvalid_1's l2: 13.1029\n",
      "[3580]\ttraining's l2: 12.7219\tvalid_1's l2: 13.1012\n",
      "[3590]\ttraining's l2: 12.7186\tvalid_1's l2: 13.1\n",
      "[3600]\ttraining's l2: 12.7152\tvalid_1's l2: 13.0986\n",
      "[3610]\ttraining's l2: 12.7115\tvalid_1's l2: 13.0984\n",
      "[3620]\ttraining's l2: 12.7078\tvalid_1's l2: 13.0968\n",
      "[3630]\ttraining's l2: 12.7046\tvalid_1's l2: 13.0958\n",
      "[3640]\ttraining's l2: 12.7002\tvalid_1's l2: 13.0936\n",
      "[3650]\ttraining's l2: 12.6966\tvalid_1's l2: 13.0921\n",
      "[3660]\ttraining's l2: 12.6932\tvalid_1's l2: 13.0907\n",
      "[3670]\ttraining's l2: 12.6898\tvalid_1's l2: 13.09\n",
      "[3680]\ttraining's l2: 12.687\tvalid_1's l2: 13.0891\n",
      "[3690]\ttraining's l2: 12.6834\tvalid_1's l2: 13.0876\n",
      "[3700]\ttraining's l2: 12.6795\tvalid_1's l2: 13.0855\n",
      "[3710]\ttraining's l2: 12.6759\tvalid_1's l2: 13.0838\n",
      "[3720]\ttraining's l2: 12.6717\tvalid_1's l2: 13.0817\n",
      "[3730]\ttraining's l2: 12.6681\tvalid_1's l2: 13.081\n",
      "[3740]\ttraining's l2: 12.6647\tvalid_1's l2: 13.079\n",
      "[3750]\ttraining's l2: 12.6614\tvalid_1's l2: 13.0781\n",
      "[3760]\ttraining's l2: 12.6577\tvalid_1's l2: 13.0763\n",
      "[3770]\ttraining's l2: 12.6541\tvalid_1's l2: 13.0748\n",
      "[3780]\ttraining's l2: 12.6505\tvalid_1's l2: 13.0731\n",
      "[3790]\ttraining's l2: 12.6463\tvalid_1's l2: 13.0701\n",
      "[3800]\ttraining's l2: 12.6427\tvalid_1's l2: 13.0682\n",
      "[3810]\ttraining's l2: 12.6396\tvalid_1's l2: 13.0664\n",
      "[3820]\ttraining's l2: 12.6367\tvalid_1's l2: 13.0648\n",
      "[3830]\ttraining's l2: 12.6335\tvalid_1's l2: 13.0635\n",
      "[3840]\ttraining's l2: 12.63\tvalid_1's l2: 13.0623\n",
      "[3850]\ttraining's l2: 12.6273\tvalid_1's l2: 13.0609\n",
      "[3860]\ttraining's l2: 12.6243\tvalid_1's l2: 13.0597\n",
      "[3870]\ttraining's l2: 12.6211\tvalid_1's l2: 13.0581\n",
      "[3880]\ttraining's l2: 12.6185\tvalid_1's l2: 13.0575\n",
      "[3890]\ttraining's l2: 12.6151\tvalid_1's l2: 13.0568\n",
      "[3900]\ttraining's l2: 12.6121\tvalid_1's l2: 13.0556\n",
      "[3910]\ttraining's l2: 12.6091\tvalid_1's l2: 13.0546\n",
      "[3920]\ttraining's l2: 12.6059\tvalid_1's l2: 13.0542\n",
      "[3930]\ttraining's l2: 12.6028\tvalid_1's l2: 13.0531\n",
      "[3940]\ttraining's l2: 12.5997\tvalid_1's l2: 13.0515\n",
      "[3950]\ttraining's l2: 12.5962\tvalid_1's l2: 13.0496\n",
      "[3960]\ttraining's l2: 12.5928\tvalid_1's l2: 13.0475\n",
      "[3970]\ttraining's l2: 12.5886\tvalid_1's l2: 13.0452\n",
      "[3980]\ttraining's l2: 12.5851\tvalid_1's l2: 13.0444\n",
      "[3990]\ttraining's l2: 12.5817\tvalid_1's l2: 13.0435\n",
      "[4000]\ttraining's l2: 12.5782\tvalid_1's l2: 13.0423\n",
      "[4010]\ttraining's l2: 12.5736\tvalid_1's l2: 13.0403\n",
      "[4020]\ttraining's l2: 12.5695\tvalid_1's l2: 13.0377\n",
      "[4030]\ttraining's l2: 12.5667\tvalid_1's l2: 13.0366\n",
      "[4040]\ttraining's l2: 12.5638\tvalid_1's l2: 13.0358\n",
      "[4050]\ttraining's l2: 12.5604\tvalid_1's l2: 13.0346\n",
      "[4060]\ttraining's l2: 12.5572\tvalid_1's l2: 13.0336\n",
      "[4070]\ttraining's l2: 12.5527\tvalid_1's l2: 13.0315\n",
      "[4080]\ttraining's l2: 12.5494\tvalid_1's l2: 13.0303\n",
      "[4090]\ttraining's l2: 12.5471\tvalid_1's l2: 13.0292\n",
      "[4100]\ttraining's l2: 12.5445\tvalid_1's l2: 13.0285\n",
      "[4110]\ttraining's l2: 12.5418\tvalid_1's l2: 13.0274\n",
      "[4120]\ttraining's l2: 12.5382\tvalid_1's l2: 13.026\n",
      "[4130]\ttraining's l2: 12.5347\tvalid_1's l2: 13.0244\n",
      "[4140]\ttraining's l2: 12.5315\tvalid_1's l2: 13.0223\n",
      "[4150]\ttraining's l2: 12.528\tvalid_1's l2: 13.0213\n",
      "[4160]\ttraining's l2: 12.5256\tvalid_1's l2: 13.02\n",
      "[4170]\ttraining's l2: 12.5225\tvalid_1's l2: 13.0189\n",
      "[4180]\ttraining's l2: 12.5186\tvalid_1's l2: 13.0171\n",
      "[4190]\ttraining's l2: 12.516\tvalid_1's l2: 13.0156\n",
      "[4200]\ttraining's l2: 12.513\tvalid_1's l2: 13.0147\n",
      "[4210]\ttraining's l2: 12.5103\tvalid_1's l2: 13.014\n",
      "[4220]\ttraining's l2: 12.5068\tvalid_1's l2: 13.0125\n",
      "[4230]\ttraining's l2: 12.504\tvalid_1's l2: 13.012\n",
      "[4240]\ttraining's l2: 12.5007\tvalid_1's l2: 13.0107\n",
      "[4250]\ttraining's l2: 12.4971\tvalid_1's l2: 13.0103\n",
      "[4260]\ttraining's l2: 12.4945\tvalid_1's l2: 13.0089\n",
      "[4270]\ttraining's l2: 12.4917\tvalid_1's l2: 13.0078\n",
      "[4280]\ttraining's l2: 12.4875\tvalid_1's l2: 13.0055\n",
      "[4290]\ttraining's l2: 12.4849\tvalid_1's l2: 13.0045\n",
      "[4300]\ttraining's l2: 12.4814\tvalid_1's l2: 13.003\n",
      "[4310]\ttraining's l2: 12.4784\tvalid_1's l2: 13.0016\n",
      "[4320]\ttraining's l2: 12.4757\tvalid_1's l2: 13.0004\n",
      "[4330]\ttraining's l2: 12.4732\tvalid_1's l2: 12.999\n",
      "[4340]\ttraining's l2: 12.4712\tvalid_1's l2: 12.9985\n",
      "[4350]\ttraining's l2: 12.4683\tvalid_1's l2: 12.9979\n",
      "[4360]\ttraining's l2: 12.4656\tvalid_1's l2: 12.997\n",
      "[4370]\ttraining's l2: 12.463\tvalid_1's l2: 12.9957\n",
      "[4380]\ttraining's l2: 12.4599\tvalid_1's l2: 12.9942\n",
      "[4390]\ttraining's l2: 12.4568\tvalid_1's l2: 12.993\n",
      "[4400]\ttraining's l2: 12.4536\tvalid_1's l2: 12.9915\n",
      "[4410]\ttraining's l2: 12.451\tvalid_1's l2: 12.9911\n",
      "[4420]\ttraining's l2: 12.4481\tvalid_1's l2: 12.9897\n",
      "[4430]\ttraining's l2: 12.4455\tvalid_1's l2: 12.9883\n",
      "[4440]\ttraining's l2: 12.443\tvalid_1's l2: 12.9874\n",
      "[4450]\ttraining's l2: 12.4403\tvalid_1's l2: 12.986\n",
      "[4460]\ttraining's l2: 12.4376\tvalid_1's l2: 12.9854\n",
      "[4470]\ttraining's l2: 12.4351\tvalid_1's l2: 12.9846\n",
      "[4480]\ttraining's l2: 12.4326\tvalid_1's l2: 12.9839\n",
      "[4490]\ttraining's l2: 12.4308\tvalid_1's l2: 12.9838\n",
      "[4500]\ttraining's l2: 12.4286\tvalid_1's l2: 12.9833\n",
      "[4510]\ttraining's l2: 12.4263\tvalid_1's l2: 12.9828\n",
      "[4520]\ttraining's l2: 12.4239\tvalid_1's l2: 12.9819\n",
      "[4530]\ttraining's l2: 12.4218\tvalid_1's l2: 12.9814\n",
      "[4540]\ttraining's l2: 12.4195\tvalid_1's l2: 12.9802\n",
      "[4550]\ttraining's l2: 12.4174\tvalid_1's l2: 12.9796\n",
      "[4560]\ttraining's l2: 12.4149\tvalid_1's l2: 12.9788\n",
      "[4570]\ttraining's l2: 12.4119\tvalid_1's l2: 12.9777\n",
      "[4580]\ttraining's l2: 12.4096\tvalid_1's l2: 12.9768\n",
      "[4590]\ttraining's l2: 12.4074\tvalid_1's l2: 12.976\n",
      "[4600]\ttraining's l2: 12.405\tvalid_1's l2: 12.9752\n",
      "[4610]\ttraining's l2: 12.4019\tvalid_1's l2: 12.9731\n",
      "[4620]\ttraining's l2: 12.3989\tvalid_1's l2: 12.973\n",
      "[4630]\ttraining's l2: 12.3959\tvalid_1's l2: 12.9719\n",
      "[4640]\ttraining's l2: 12.3933\tvalid_1's l2: 12.9714\n",
      "[4650]\ttraining's l2: 12.3909\tvalid_1's l2: 12.9709\n",
      "[4660]\ttraining's l2: 12.3881\tvalid_1's l2: 12.9701\n",
      "[4670]\ttraining's l2: 12.386\tvalid_1's l2: 12.9694\n",
      "[4680]\ttraining's l2: 12.3835\tvalid_1's l2: 12.9685\n",
      "[4690]\ttraining's l2: 12.3811\tvalid_1's l2: 12.9678\n"
     ]
    },
    {
     "name": "stdout",
     "output_type": "stream",
     "text": [
      "[4700]\ttraining's l2: 12.3779\tvalid_1's l2: 12.9666\n",
      "[4710]\ttraining's l2: 12.3746\tvalid_1's l2: 12.9655\n",
      "[4720]\ttraining's l2: 12.372\tvalid_1's l2: 12.965\n",
      "[4730]\ttraining's l2: 12.3691\tvalid_1's l2: 12.9639\n",
      "[4740]\ttraining's l2: 12.3658\tvalid_1's l2: 12.9623\n",
      "[4750]\ttraining's l2: 12.363\tvalid_1's l2: 12.9618\n",
      "[4760]\ttraining's l2: 12.3604\tvalid_1's l2: 12.9605\n",
      "[4770]\ttraining's l2: 12.3578\tvalid_1's l2: 12.9597\n",
      "[4780]\ttraining's l2: 12.3546\tvalid_1's l2: 12.9581\n",
      "[4790]\ttraining's l2: 12.3518\tvalid_1's l2: 12.958\n",
      "[4800]\ttraining's l2: 12.349\tvalid_1's l2: 12.9578\n",
      "[4810]\ttraining's l2: 12.3469\tvalid_1's l2: 12.9574\n",
      "[4820]\ttraining's l2: 12.3447\tvalid_1's l2: 12.9566\n",
      "[4830]\ttraining's l2: 12.3419\tvalid_1's l2: 12.9561\n",
      "[4840]\ttraining's l2: 12.3392\tvalid_1's l2: 12.9549\n",
      "[4850]\ttraining's l2: 12.337\tvalid_1's l2: 12.9539\n",
      "[4860]\ttraining's l2: 12.3344\tvalid_1's l2: 12.9533\n",
      "[4870]\ttraining's l2: 12.3322\tvalid_1's l2: 12.9527\n",
      "[4880]\ttraining's l2: 12.3297\tvalid_1's l2: 12.9515\n",
      "[4890]\ttraining's l2: 12.3274\tvalid_1's l2: 12.9508\n",
      "[4900]\ttraining's l2: 12.325\tvalid_1's l2: 12.9504\n",
      "[4910]\ttraining's l2: 12.3219\tvalid_1's l2: 12.9497\n",
      "[4920]\ttraining's l2: 12.3195\tvalid_1's l2: 12.9487\n",
      "[4930]\ttraining's l2: 12.317\tvalid_1's l2: 12.948\n",
      "[4940]\ttraining's l2: 12.3149\tvalid_1's l2: 12.9471\n",
      "[4950]\ttraining's l2: 12.3121\tvalid_1's l2: 12.946\n",
      "[4960]\ttraining's l2: 12.3097\tvalid_1's l2: 12.9452\n",
      "[4970]\ttraining's l2: 12.3071\tvalid_1's l2: 12.9447\n",
      "[4980]\ttraining's l2: 12.3047\tvalid_1's l2: 12.944\n",
      "[4990]\ttraining's l2: 12.3022\tvalid_1's l2: 12.943\n",
      "[5000]\ttraining's l2: 12.2995\tvalid_1's l2: 12.942\n",
      "[5010]\ttraining's l2: 12.2968\tvalid_1's l2: 12.9412\n",
      "[5020]\ttraining's l2: 12.2939\tvalid_1's l2: 12.9403\n",
      "[5030]\ttraining's l2: 12.2911\tvalid_1's l2: 12.9392\n",
      "[5040]\ttraining's l2: 12.2882\tvalid_1's l2: 12.9384\n",
      "[5050]\ttraining's l2: 12.2856\tvalid_1's l2: 12.9375\n",
      "[5060]\ttraining's l2: 12.2827\tvalid_1's l2: 12.9368\n",
      "[5070]\ttraining's l2: 12.2798\tvalid_1's l2: 12.936\n",
      "[5080]\ttraining's l2: 12.277\tvalid_1's l2: 12.9351\n",
      "[5090]\ttraining's l2: 12.2745\tvalid_1's l2: 12.9347\n",
      "[5100]\ttraining's l2: 12.2723\tvalid_1's l2: 12.9347\n",
      "[5110]\ttraining's l2: 12.2694\tvalid_1's l2: 12.9332\n",
      "[5120]\ttraining's l2: 12.2666\tvalid_1's l2: 12.9318\n",
      "[5130]\ttraining's l2: 12.2639\tvalid_1's l2: 12.9298\n",
      "[5140]\ttraining's l2: 12.2618\tvalid_1's l2: 12.9288\n",
      "[5150]\ttraining's l2: 12.2594\tvalid_1's l2: 12.9276\n",
      "[5160]\ttraining's l2: 12.2568\tvalid_1's l2: 12.9265\n",
      "[5170]\ttraining's l2: 12.2541\tvalid_1's l2: 12.9254\n",
      "[5180]\ttraining's l2: 12.2522\tvalid_1's l2: 12.9248\n",
      "[5190]\ttraining's l2: 12.2503\tvalid_1's l2: 12.9237\n",
      "[5200]\ttraining's l2: 12.2472\tvalid_1's l2: 12.9218\n",
      "[5210]\ttraining's l2: 12.245\tvalid_1's l2: 12.9212\n",
      "[5220]\ttraining's l2: 12.2427\tvalid_1's l2: 12.9204\n",
      "[5230]\ttraining's l2: 12.24\tvalid_1's l2: 12.9187\n",
      "[5240]\ttraining's l2: 12.2378\tvalid_1's l2: 12.9178\n",
      "[5250]\ttraining's l2: 12.2355\tvalid_1's l2: 12.9174\n",
      "[5260]\ttraining's l2: 12.2329\tvalid_1's l2: 12.9167\n",
      "[5270]\ttraining's l2: 12.2309\tvalid_1's l2: 12.9163\n",
      "[5280]\ttraining's l2: 12.2286\tvalid_1's l2: 12.9158\n",
      "[5290]\ttraining's l2: 12.2262\tvalid_1's l2: 12.9145\n",
      "[5300]\ttraining's l2: 12.224\tvalid_1's l2: 12.9143\n",
      "[5310]\ttraining's l2: 12.2218\tvalid_1's l2: 12.9136\n",
      "[5320]\ttraining's l2: 12.2196\tvalid_1's l2: 12.9132\n",
      "[5330]\ttraining's l2: 12.2175\tvalid_1's l2: 12.913\n",
      "[5340]\ttraining's l2: 12.2151\tvalid_1's l2: 12.9126\n",
      "[5350]\ttraining's l2: 12.2128\tvalid_1's l2: 12.9123\n",
      "[5360]\ttraining's l2: 12.2106\tvalid_1's l2: 12.9118\n",
      "[5370]\ttraining's l2: 12.2077\tvalid_1's l2: 12.911\n",
      "[5380]\ttraining's l2: 12.2053\tvalid_1's l2: 12.9101\n",
      "[5390]\ttraining's l2: 12.203\tvalid_1's l2: 12.9098\n",
      "[5400]\ttraining's l2: 12.2007\tvalid_1's l2: 12.9087\n",
      "[5410]\ttraining's l2: 12.1984\tvalid_1's l2: 12.908\n",
      "[5420]\ttraining's l2: 12.1959\tvalid_1's l2: 12.9074\n",
      "[5430]\ttraining's l2: 12.1933\tvalid_1's l2: 12.9071\n",
      "[5440]\ttraining's l2: 12.1912\tvalid_1's l2: 12.907\n",
      "[5450]\ttraining's l2: 12.1886\tvalid_1's l2: 12.906\n",
      "[5460]\ttraining's l2: 12.1862\tvalid_1's l2: 12.9054\n",
      "[5470]\ttraining's l2: 12.184\tvalid_1's l2: 12.9049\n",
      "[5480]\ttraining's l2: 12.1821\tvalid_1's l2: 12.9044\n",
      "[5490]\ttraining's l2: 12.1803\tvalid_1's l2: 12.9034\n",
      "[5500]\ttraining's l2: 12.1779\tvalid_1's l2: 12.9025\n",
      "[5510]\ttraining's l2: 12.1759\tvalid_1's l2: 12.902\n",
      "[5520]\ttraining's l2: 12.1742\tvalid_1's l2: 12.9013\n",
      "[5530]\ttraining's l2: 12.1723\tvalid_1's l2: 12.9012\n",
      "[5540]\ttraining's l2: 12.1702\tvalid_1's l2: 12.9008\n",
      "[5550]\ttraining's l2: 12.1677\tvalid_1's l2: 12.9\n",
      "[5560]\ttraining's l2: 12.1656\tvalid_1's l2: 12.8994\n",
      "[5570]\ttraining's l2: 12.1637\tvalid_1's l2: 12.8993\n",
      "[5580]\ttraining's l2: 12.1614\tvalid_1's l2: 12.8988\n",
      "[5590]\ttraining's l2: 12.1596\tvalid_1's l2: 12.898\n",
      "[5600]\ttraining's l2: 12.1573\tvalid_1's l2: 12.897\n",
      "[5610]\ttraining's l2: 12.155\tvalid_1's l2: 12.8958\n",
      "[5620]\ttraining's l2: 12.1528\tvalid_1's l2: 12.8951\n",
      "[5630]\ttraining's l2: 12.1506\tvalid_1's l2: 12.8944\n",
      "[5640]\ttraining's l2: 12.1483\tvalid_1's l2: 12.8939\n",
      "[5650]\ttraining's l2: 12.1461\tvalid_1's l2: 12.8936\n",
      "[5660]\ttraining's l2: 12.1436\tvalid_1's l2: 12.8927\n",
      "[5670]\ttraining's l2: 12.1411\tvalid_1's l2: 12.8923\n",
      "[5680]\ttraining's l2: 12.139\tvalid_1's l2: 12.8921\n",
      "[5690]\ttraining's l2: 12.1368\tvalid_1's l2: 12.8916\n",
      "[5700]\ttraining's l2: 12.1345\tvalid_1's l2: 12.8912\n",
      "[5710]\ttraining's l2: 12.1326\tvalid_1's l2: 12.8909\n",
      "[5720]\ttraining's l2: 12.1304\tvalid_1's l2: 12.8901\n",
      "[5730]\ttraining's l2: 12.1283\tvalid_1's l2: 12.8895\n",
      "[5740]\ttraining's l2: 12.1258\tvalid_1's l2: 12.8894\n",
      "[5750]\ttraining's l2: 12.1231\tvalid_1's l2: 12.889\n",
      "[5760]\ttraining's l2: 12.1211\tvalid_1's l2: 12.8888\n",
      "[5770]\ttraining's l2: 12.1185\tvalid_1's l2: 12.8877\n",
      "[5780]\ttraining's l2: 12.1163\tvalid_1's l2: 12.8873\n",
      "[5790]\ttraining's l2: 12.1141\tvalid_1's l2: 12.8867\n",
      "[5800]\ttraining's l2: 12.112\tvalid_1's l2: 12.8864\n",
      "[5810]\ttraining's l2: 12.1098\tvalid_1's l2: 12.8861\n",
      "[5820]\ttraining's l2: 12.1078\tvalid_1's l2: 12.8856\n",
      "[5830]\ttraining's l2: 12.1055\tvalid_1's l2: 12.8852\n",
      "[5840]\ttraining's l2: 12.103\tvalid_1's l2: 12.8854\n",
      "[5850]\ttraining's l2: 12.1012\tvalid_1's l2: 12.8849\n",
      "[5860]\ttraining's l2: 12.0987\tvalid_1's l2: 12.8843\n",
      "[5870]\ttraining's l2: 12.0961\tvalid_1's l2: 12.8834\n",
      "[5880]\ttraining's l2: 12.0938\tvalid_1's l2: 12.8836\n",
      "[5890]\ttraining's l2: 12.0916\tvalid_1's l2: 12.8832\n",
      "[5900]\ttraining's l2: 12.0893\tvalid_1's l2: 12.8832\n",
      "[5910]\ttraining's l2: 12.087\tvalid_1's l2: 12.8827\n",
      "[5920]\ttraining's l2: 12.0846\tvalid_1's l2: 12.8822\n",
      "[5930]\ttraining's l2: 12.0823\tvalid_1's l2: 12.882\n",
      "[5940]\ttraining's l2: 12.0804\tvalid_1's l2: 12.8819\n",
      "[5950]\ttraining's l2: 12.0778\tvalid_1's l2: 12.8813\n",
      "[5960]\ttraining's l2: 12.0755\tvalid_1's l2: 12.8805\n",
      "[5970]\ttraining's l2: 12.0737\tvalid_1's l2: 12.8797\n",
      "[5980]\ttraining's l2: 12.0716\tvalid_1's l2: 12.8795\n",
      "[5990]\ttraining's l2: 12.0691\tvalid_1's l2: 12.8789\n",
      "[6000]\ttraining's l2: 12.067\tvalid_1's l2: 12.8783\n",
      "[6010]\ttraining's l2: 12.0647\tvalid_1's l2: 12.8777\n",
      "[6020]\ttraining's l2: 12.0621\tvalid_1's l2: 12.8771\n",
      "[6030]\ttraining's l2: 12.0597\tvalid_1's l2: 12.8763\n",
      "[6040]\ttraining's l2: 12.0579\tvalid_1's l2: 12.8759\n",
      "[6050]\ttraining's l2: 12.0561\tvalid_1's l2: 12.8754\n",
      "[6060]\ttraining's l2: 12.0541\tvalid_1's l2: 12.8749\n",
      "[6070]\ttraining's l2: 12.0519\tvalid_1's l2: 12.8746\n",
      "[6080]\ttraining's l2: 12.0499\tvalid_1's l2: 12.874\n",
      "[6090]\ttraining's l2: 12.0477\tvalid_1's l2: 12.8742\n",
      "[6100]\ttraining's l2: 12.0452\tvalid_1's l2: 12.8737\n",
      "[6110]\ttraining's l2: 12.0433\tvalid_1's l2: 12.8731\n",
      "[6120]\ttraining's l2: 12.0415\tvalid_1's l2: 12.8726\n",
      "[6130]\ttraining's l2: 12.0394\tvalid_1's l2: 12.8722\n",
      "[6140]\ttraining's l2: 12.0376\tvalid_1's l2: 12.8716\n",
      "[6150]\ttraining's l2: 12.0353\tvalid_1's l2: 12.8714\n",
      "[6160]\ttraining's l2: 12.0335\tvalid_1's l2: 12.871\n",
      "[6170]\ttraining's l2: 12.0314\tvalid_1's l2: 12.8703\n",
      "[6180]\ttraining's l2: 12.0296\tvalid_1's l2: 12.8703\n",
      "[6190]\ttraining's l2: 12.0273\tvalid_1's l2: 12.8693\n",
      "[6200]\ttraining's l2: 12.0255\tvalid_1's l2: 12.8691\n",
      "[6210]\ttraining's l2: 12.0235\tvalid_1's l2: 12.8681\n",
      "[6220]\ttraining's l2: 12.0217\tvalid_1's l2: 12.868\n",
      "[6230]\ttraining's l2: 12.0195\tvalid_1's l2: 12.8678\n",
      "[6240]\ttraining's l2: 12.0176\tvalid_1's l2: 12.8675\n",
      "[6250]\ttraining's l2: 12.0159\tvalid_1's l2: 12.8674\n",
      "[6260]\ttraining's l2: 12.0138\tvalid_1's l2: 12.8677\n",
      "[6270]\ttraining's l2: 12.012\tvalid_1's l2: 12.8676\n",
      "Early stopping, best iteration is:\n",
      "[6253]\ttraining's l2: 12.0153\tvalid_1's l2: 12.8672\n"
     ]
    }
   ],
   "source": [
    "lgb_train = lgb.Dataset(x_train, y_train)\n",
    "lgb_eval = lgb.Dataset(x_val, y_val,reference=lgb_train)\n",
    "model_lgb2 = lgb.train(params, lgb_train,\n",
    "                      valid_sets=[lgb_train, lgb_eval],\n",
    "                      verbose_eval=10,\n",
    "                      num_boost_round=8000,\n",
    "                      early_stopping_rounds=20)\n",
    "    "
   ]
  },
  {
   "cell_type": "code",
   "execution_count": 88,
   "id": "5d7f2d15",
   "metadata": {},
   "outputs": [],
   "source": [
    "def evaluate_lgb(model):\n",
    "    train_pred = model.predict(x_train)\n",
    "    train_rmse = mean_squared_error(y_train, train_pred, squared=False)\n",
    "    val_pred = model.predict(x_val)\n",
    "    val_rmse = mean_squared_error(y_val, val_pred, squared=False)\n",
    "    r2_train= r2_score(y_train, train_pred)\n",
    "    r2_val = r2_score(y_val, val_pred)\n",
    "    print('train RMSE                 :', train_rmse)\n",
    "    print('validatin RMSE             :', val_rmse)\n",
    "    print('R2 Score on Validation data:',r2_val)\n",
    "    print('R2 Score on training data  :',r2_train)\n",
    "    return model"
   ]
  },
  {
   "cell_type": "code",
   "execution_count": 105,
   "id": "9d89fd23",
   "metadata": {},
   "outputs": [
    {
     "name": "stdout",
     "output_type": "stream",
     "text": [
      "train RMSE                 : 3.5070619659774693\n",
      "validatin RMSE             : 3.5975013750081475\n",
      "R2 Score on Validation data: 0.8620409823439836\n",
      "R2 Score on training data  : 0.8692152231671576\n"
     ]
    }
   ],
   "source": [
    "model_lgb1 = evaluate_lgb(model_lgb1)"
   ]
  },
  {
   "cell_type": "code",
   "execution_count": 144,
   "id": "a619f860",
   "metadata": {},
   "outputs": [
    {
     "name": "stdout",
     "output_type": "stream",
     "text": [
      "train RMSE                 : 3.466310598172029\n",
      "validatin RMSE             : 3.587088961683213\n",
      "R2 Score on Validation data: 0.8628384288603747\n",
      "R2 Score on training data  : 0.8722369512149227\n"
     ]
    }
   ],
   "source": [
    "model_lgb2 = evaluate_lgb(model_lgb2)"
   ]
  },
  {
   "cell_type": "markdown",
   "id": "8ae2e17b",
   "metadata": {},
   "source": [
    "#### ensamble of any two models"
   ]
  },
  {
   "cell_type": "code",
   "execution_count": 90,
   "id": "d58dec29",
   "metadata": {},
   "outputs": [],
   "source": [
    "def ensamble_model_evaluation(model1, model2):\n",
    "    train_pred1 = model1.predict(x_train)\n",
    "    train_pred2 = model2.predict(x_train)\n",
    "    train_pred = (train_pred1 + train_pred2)/2\n",
    "    \n",
    "    val_pred1 = model1.predict(x_val)\n",
    "    val_pred2 = model2.predict(x_val)\n",
    "    val_pred = (val_pred1 + val_pred2)/2\n",
    "    \n",
    "    train_rmse = mean_squared_error(y_train, train_pred, squared=False)\n",
    "    val_rmse = mean_squared_error(y_val, val_pred, squared=False)\n",
    "    r2_train= r2_score(y_train, train_pred)\n",
    "    r2_val = r2_score(y_val, val_pred)\n",
    "    print('train RMSE                 :', train_rmse)\n",
    "    print('validatin RMSE             :', val_rmse)\n",
    "    print('R2 Score on Validation data:',r2_val)\n",
    "    print('R2 Score on training data  :',r2_train)\n",
    "    "
   ]
  },
  {
   "cell_type": "markdown",
   "id": "4e3b384d",
   "metadata": {},
   "source": [
    "##### prediction with test data"
   ]
  },
  {
   "cell_type": "code",
   "execution_count": 92,
   "id": "7d03f1ef",
   "metadata": {},
   "outputs": [
    {
     "data": {
      "text/plain": [
       "array([ 9.2149101 ,  9.2149101 ,  7.86181312, ..., 52.77053384,\n",
       "       18.662197  ,  9.2149101 ])"
      ]
     },
     "execution_count": 92,
     "metadata": {},
     "output_type": "execute_result"
    }
   ],
   "source": [
    "test_pred_rf = model_RF.predict(test_df)\n",
    "test_pred_rf"
   ]
  },
  {
   "cell_type": "code",
   "execution_count": 93,
   "id": "327e5064",
   "metadata": {},
   "outputs": [
    {
     "data": {
      "text/plain": [
       "array([ 8.661025 ,  9.391247 ,  5.5451236, ..., 53.083984 , 20.215773 ,\n",
       "        7.6582828], dtype=float32)"
      ]
     },
     "execution_count": 93,
     "metadata": {},
     "output_type": "execute_result"
    }
   ],
   "source": [
    "test_pred_xgb = model_xgb.predict(test_df)\n",
    "test_pred_xgb"
   ]
  },
  {
   "cell_type": "code",
   "execution_count": 107,
   "id": "25f70010",
   "metadata": {},
   "outputs": [
    {
     "data": {
      "text/plain": [
       "array([ 9.78116564, 10.31727137,  5.11217109, ..., 53.02020529,\n",
       "       19.28983686,  6.90057228])"
      ]
     },
     "execution_count": 107,
     "metadata": {},
     "output_type": "execute_result"
    }
   ],
   "source": [
    "test_pred_lgb1 = model_lgb1.predict(test_df)\n",
    "test_pred_lgb1"
   ]
  },
  {
   "cell_type": "code",
   "execution_count": 133,
   "id": "3d1e9d84",
   "metadata": {},
   "outputs": [
    {
     "data": {
      "text/plain": [
       "array([ 9.65050679, 10.24142411,  5.05512501, ..., 53.06310351,\n",
       "       19.26813705,  6.82649036])"
      ]
     },
     "execution_count": 133,
     "metadata": {},
     "output_type": "execute_result"
    }
   ],
   "source": [
    "test_pred_lgb2 = model_lgb2.predict(test_df)\n",
    "test_pred_lgb2"
   ]
  },
  {
   "cell_type": "code",
   "execution_count": 134,
   "id": "178f9121",
   "metadata": {},
   "outputs": [
    {
     "data": {
      "text/plain": [
       "array([ 9.15576592,  9.81633545,  5.30012429, ..., 53.07354394,\n",
       "       19.74195484,  7.24238656])"
      ]
     },
     "execution_count": 134,
     "metadata": {},
     "output_type": "execute_result"
    }
   ],
   "source": [
    "test_pred_ens = (test_pred_xgb + test_pred_lgb2)/2\n",
    "test_pred_ens"
   ]
  },
  {
   "cell_type": "code",
   "execution_count": 135,
   "id": "f13ae6fc",
   "metadata": {},
   "outputs": [
    {
     "data": {
      "text/plain": [
       "array([ 9.71583621, 10.27934774,  5.08364805, ..., 53.0416544 ,\n",
       "       19.27898696,  6.86353132])"
      ]
     },
     "execution_count": 135,
     "metadata": {},
     "output_type": "execute_result"
    }
   ],
   "source": [
    "test_pred_ens1 = (test_pred_lgb1 + test_pred_lgb2)/2\n",
    "test_pred_ens1"
   ]
  },
  {
   "cell_type": "markdown",
   "id": "a68a932b",
   "metadata": {},
   "source": [
    "#### kaggle submission"
   ]
  },
  {
   "cell_type": "code",
   "execution_count": 96,
   "id": "f6e6619d",
   "metadata": {},
   "outputs": [],
   "source": [
    "def generate_submission(test_preds, fname):\n",
    "    sub_df = pd.read_csv(data_dir+'/sample_submission.csv')\n",
    "    sub_df['fare_amount'] = test_preds\n",
    "    sub_df.to_csv(fname, index=None)"
   ]
  },
  {
   "cell_type": "code",
   "execution_count": 97,
   "id": "06cfcd89",
   "metadata": {},
   "outputs": [],
   "source": [
    "generate_submission(test_pred_rf, 'rf_submission.csv')"
   ]
  },
  {
   "cell_type": "code",
   "execution_count": 98,
   "id": "2d75d7f1",
   "metadata": {},
   "outputs": [],
   "source": [
    "generate_submission(test_pred_xgb, 'xgb_submission.csv')"
   ]
  },
  {
   "cell_type": "code",
   "execution_count": 136,
   "id": "4e986486",
   "metadata": {},
   "outputs": [],
   "source": [
    "generate_submission(test_pred_ens, 'ens_submission.csv')"
   ]
  },
  {
   "cell_type": "code",
   "execution_count": 137,
   "id": "0ad7f215",
   "metadata": {},
   "outputs": [],
   "source": [
    "generate_submission(test_pred_ens1, 'ens1_submission.csv')"
   ]
  },
  {
   "cell_type": "code",
   "execution_count": 138,
   "id": "4b9293c7",
   "metadata": {},
   "outputs": [],
   "source": [
    "generate_submission(test_pred_lgb1, 'lgb1_submission.csv')"
   ]
  },
  {
   "cell_type": "code",
   "execution_count": 139,
   "id": "1772bc45",
   "metadata": {},
   "outputs": [],
   "source": [
    "generate_submission(test_pred_lgb2, 'lgb2_submission.csv')"
   ]
  },
  {
   "cell_type": "markdown",
   "id": "a0ad38cb",
   "metadata": {},
   "source": [
    "#### saving  model_lgb2"
   ]
  },
  {
   "cell_type": "code",
   "execution_count": 140,
   "id": "923e124d",
   "metadata": {},
   "outputs": [],
   "source": [
    "import pickle"
   ]
  },
  {
   "cell_type": "code",
   "execution_count": 146,
   "id": "8aab192a",
   "metadata": {},
   "outputs": [],
   "source": [
    "pickle.dump(model_lgb2, open('model_lgb2_taxifare.pkl', \"wb\"))"
   ]
  },
  {
   "cell_type": "markdown",
   "id": "fd4a1e1c",
   "metadata": {},
   "source": [
    "### Lets do Hyperparmeter tuning with XGBoost Regressor\n",
    "\n",
    "**make a function to plot also**"
   ]
  },
  {
   "cell_type": "code",
   "execution_count": 116,
   "id": "a9de702d",
   "metadata": {},
   "outputs": [],
   "source": [
    "def test_params(Model, **params):\n",
    "    model = Model(**params).fit(x_train, y_train)\n",
    "    train_rmse = mean_squared_error(model.predict(x_train), y_train, squared=False)\n",
    "    val_rmse = mean_squared_error(model.predict(x_val), y_val, squared=False)\n",
    "    return train_rmse, val_rmse\n",
    "\n",
    "def plot_params(Model, param_name, param_values, **other_params):\n",
    "    train_errors, val_errors = [], [] \n",
    "    for value in param_values:\n",
    "        params = dict(other_params)\n",
    "        params[param_name] = value\n",
    "        train_rmse, val_rmse = test_params(Model, **params)\n",
    "        train_errors.append(train_rmse)\n",
    "        val_errors.append(val_rmse)\n",
    "    \n",
    "    plt.figure(figsize=(10,6))\n",
    "    plt.title('Overfitting curve: ' + param_name)\n",
    "    plt.plot(param_values, train_errors, 'b-o')\n",
    "    plt.plot(param_values, val_errors, 'r-o')\n",
    "    plt.xlabel(param_name)\n",
    "    plt.ylabel('RMSE')\n",
    "    plt.legend(['Training', 'Validation'])"
   ]
  },
  {
   "cell_type": "markdown",
   "id": "236571d6",
   "metadata": {},
   "source": [
    "###### Tuning most important parameters one by one to reduce the time"
   ]
  },
  {
   "cell_type": "code",
   "execution_count": 117,
   "id": "94ef689a",
   "metadata": {},
   "outputs": [],
   "source": [
    "best_params = {'random_state': 42, 'n_jobs': -1, 'objective': 'reg:squarederror'}"
   ]
  },
  {
   "cell_type": "code",
   "execution_count": 118,
   "id": "816a62fe",
   "metadata": {},
   "outputs": [
    {
     "name": "stdout",
     "output_type": "stream",
     "text": [
      "CPU times: total: 2h 9min 7s\n",
      "Wall time: 19min 32s\n"
     ]
    },
    {
     "data": {
      "image/png": "[encoded data removed]",
      "text/plain": [
       "<Figure size 720x432 with 1 Axes>"
      ]
     },
     "metadata": {
      "needs_background": "light"
     },
     "output_type": "display_data"
    }
   ],
   "source": [
    "%%time \n",
    "plot_params(XGBRegressor, 'n_estimators', [100, 250, 500], **best_params)"
   ]
  },
  {
   "cell_type": "markdown",
   "id": "c3d7935d",
   "metadata": {},
   "source": [
    "500 estimators will take more time than 250 estimators so, checking with 250"
   ]
  },
  {
   "cell_type": "code",
   "execution_count": 122,
   "id": "0b8f867c",
   "metadata": {},
   "outputs": [],
   "source": [
    "best_params['n_estimators'] = 250"
   ]
  },
  {
   "cell_type": "code",
   "execution_count": 123,
   "id": "f3146e1b",
   "metadata": {},
   "outputs": [
    {
     "name": "stdout",
     "output_type": "stream",
     "text": [
      "CPU times: total: 1h 37min 23s\n",
      "Wall time: 15min 14s\n"
     ]
    },
    {
     "data": {
      "image/png": "[encoded data removed]",
      "text/plain": [
       "<Figure size 720x432 with 1 Axes>"
      ]
     },
     "metadata": {
      "needs_background": "light"
     },
     "output_type": "display_data"
    }
   ],
   "source": [
    "%%time \n",
    "plot_params(XGBRegressor, 'max_depth', [3, 5, 7], **best_params)"
   ]
  },
  {
   "cell_type": "code",
   "execution_count": 124,
   "id": "c2f8a69e",
   "metadata": {},
   "outputs": [],
   "source": [
    "best_params['max_depth'] = 7"
   ]
  },
  {
   "cell_type": "code",
   "execution_count": 125,
   "id": "582b3c9e",
   "metadata": {},
   "outputs": [
    {
     "name": "stdout",
     "output_type": "stream",
     "text": [
      "CPU times: total: 2h 25min 19s\n",
      "Wall time: 21min 6s\n"
     ]
    },
    {
     "data": {
      "image/png": "[encoded data removed]",
      "text/plain": [
       "<Figure size 720x432 with 1 Axes>"
      ]
     },
     "metadata": {
      "needs_background": "light"
     },
     "output_type": "display_data"
    }
   ],
   "source": [
    "%%time\n",
    "plot_params(XGBRegressor, 'learning_rate', [0.05, 0.1, 0.25], **best_params)"
   ]
  },
  {
   "cell_type": "code",
   "execution_count": 126,
   "id": "6759b820",
   "metadata": {},
   "outputs": [],
   "source": [
    "best_params['learning_rate'] = 0.25"
   ]
  },
  {
   "cell_type": "code",
   "execution_count": 127,
   "id": "193b82e6",
   "metadata": {},
   "outputs": [],
   "source": [
    "xgb_model = XGBRegressor(objective='reg:squarederror', n_jobs=-1, random_state=42,\n",
    "                               n_estimators=500, max_depth=7, learning_rate=0.25, \n",
    "                               subsample=0.8, colsample_bytree=0.8)"
   ]
  },
  {
   "cell_type": "code",
   "execution_count": 128,
   "id": "5795a74b",
   "metadata": {},
   "outputs": [
    {
     "name": "stdout",
     "output_type": "stream",
     "text": [
      "train RMSE                 : 3.4243175451950507\n",
      "validatin RMSE             : 3.6664155993362813\n",
      "R2 Score on Validation data: 0.8567048339314687\n",
      "R2 Score on training data  : 0.8753138030269726\n"
     ]
    }
   ],
   "source": [
    "xgb_model = evaluate(xgb_model)"
   ]
  },
  {
   "cell_type": "code",
   "execution_count": 129,
   "id": "fa2a7680",
   "metadata": {},
   "outputs": [
    {
     "data": {
      "text/plain": [
       "array([ 8.797791, 10.489434,  4.703897, ..., 55.343765, 19.887274,\n",
       "        6.349611], dtype=float32)"
      ]
     },
     "execution_count": 129,
     "metadata": {},
     "output_type": "execute_result"
    }
   ],
   "source": [
    "pred_xgb = xgb_model.predict(test_df)\n",
    "pred_xgb"
   ]
  },
  {
   "cell_type": "code",
   "execution_count": 142,
   "id": "61303612",
   "metadata": {},
   "outputs": [
    {
     "data": {
      "text/plain": [
       "array([ 9.22414866, 10.36542918,  4.879511  , ..., 54.20343438,\n",
       "       19.57770542,  6.58805058])"
      ]
     },
     "execution_count": 142,
     "metadata": {},
     "output_type": "execute_result"
    }
   ],
   "source": [
    "test_pred_ens2 = (pred_xgb + test_pred_lgb2)/2\n",
    "test_pred_ens2"
   ]
  },
  {
   "cell_type": "code",
   "execution_count": 130,
   "id": "8e769beb",
   "metadata": {},
   "outputs": [],
   "source": [
    "generate_submission(pred_xgb, 'xgbHyper_submission.csv')"
   ]
  },
  {
   "cell_type": "markdown",
   "id": "eb83980a",
   "metadata": {},
   "source": [
    "#### Ensambled HyperXgb, LightGB2 models"
   ]
  },
  {
   "cell_type": "code",
   "execution_count": 145,
   "id": "2ba9fbba",
   "metadata": {},
   "outputs": [
    {
     "name": "stdout",
     "output_type": "stream",
     "text": [
      "train RMSE                 : 3.411982027015108\n",
      "validatin RMSE             : 3.5906829488990124\n",
      "R2 Score on Validation data: 0.8625634404835002\n",
      "R2 Score on training data  : 0.8762105063930151\n"
     ]
    }
   ],
   "source": [
    "ensamble_model_evaluation(xgb_model, model_lgb2)"
   ]
  },
  {
   "cell_type": "code",
   "execution_count": 143,
   "id": "926503c2",
   "metadata": {},
   "outputs": [],
   "source": [
    "generate_submission(test_pred_ens2, 'xgb_lgb_submission.csv')"
   ]
  },
  {
   "cell_type": "markdown",
   "id": "6d34f427",
   "metadata": {},
   "source": [
    "#### saving xgb_model"
   ]
  },
  {
   "cell_type": "code",
   "execution_count": 147,
   "id": "89a4685c",
   "metadata": {},
   "outputs": [],
   "source": [
    "pickle.dump(xgb_model, open('xgb_model_taxifare.pkl', \"wb\"))"
   ]
  },
  {
   "cell_type": "markdown",
   "id": "9b292004",
   "metadata": {},
   "source": [
    "##### My Kaggle Submission Results"
   ]
  },
  {
   "cell_type": "markdown",
   "id": "895863c9",
   "metadata": {},
   "source": [
    "<img src = \"data:image/png;base64,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\"/>"
   ]
  },
  {
   "cell_type": "markdown",
   "id": "dc02b6d0",
   "metadata": {},
   "source": [
    "**Conclussion:-** Try to use ensemble method of  **'model_lgb2'**  &  **'xgb_model'** for best Results"
   ]
  },
  {
   "cell_type": "code",
   "execution_count": null,
   "id": "887f037c",
   "metadata": {},
   "outputs": [],
   "source": []
  }
 ],
 "metadata": {
  "kernelspec": {
   "display_name": "Python 3 (ipykernel)",
   "language": "python",
   "name": "python3"
  },
  "language_info": {
   "codemirror_mode": {
    "name": "ipython",
    "version": 3
   },
   "file_extension": ".py",
   "mimetype": "text/x-python",
   "name": "python",
   "nbconvert_exporter": "python",
   "pygments_lexer": "ipython3",
   "version": "3.8.8"
  }
 },
 "nbformat": 4,
 "nbformat_minor": 5
}
